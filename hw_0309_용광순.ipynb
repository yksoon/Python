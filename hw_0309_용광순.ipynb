{
 "cells": [
  {
   "cell_type": "code",
   "execution_count": 3,
   "metadata": {},
   "outputs": [
    {
     "name": "stdout",
     "output_type": "stream",
     "text": [
      "881230\n",
      "1078523\n",
      "881230\n",
      "1078523\n"
     ]
    }
   ],
   "source": [
    "# Q. 김철수씨의 주민번호는 881230-1078523\n",
    "# 주민번호를 연월일 부분과 그 뒤의 숫자 부분으로 나누어 출력\n",
    "a1 = [881230, 1078523]\n",
    "pin = \"881230-1078523\"\n",
    "print(a1[0])\n",
    "print(a1[1])\n",
    "print(pin[:6])\n",
    "print(pin[7:])"
   ]
  },
  {
   "cell_type": "code",
   "execution_count": 2,
   "metadata": {},
   "outputs": [
    {
     "name": "stdout",
     "output_type": "stream",
     "text": [
      "[5, 4, 3, 2, 1]\n"
     ]
    }
   ],
   "source": [
    "# Q. a = [1,3,5,4,2] 리스트를 [5,4,3,2,1] 로 변경해서 출력\n",
    "a = [1,3,5,4,2]\n",
    "a.sort()\n",
    "a.reverse()\n",
    "print(a)"
   ]
  },
  {
   "cell_type": "code",
   "execution_count": 5,
   "metadata": {},
   "outputs": [
    {
     "name": "stdout",
     "output_type": "stream",
     "text": [
      "Life is too short\n"
     ]
    }
   ],
   "source": [
    "# Q. ['Life', 'is', 'too', 'short'] 리스트를 Life is too short 문자열로 출력\n",
    "s1 = ['Life', 'is', 'too', 'short']\n",
    "print(\" \".join(s1))"
   ]
  },
  {
   "cell_type": "code",
   "execution_count": 4,
   "metadata": {},
   "outputs": [
    {
     "name": "stdout",
     "output_type": "stream",
     "text": [
      "['Life', 'is', 'too', 'short']\n"
     ]
    }
   ],
   "source": [
    "# Q. 문자열을 LIST로 변환하여 ['Life', 'is', 'too', 'short'] 출력\n",
    "a = 'Life is too short'\n",
    "b1=a.split(\" \")\n",
    "print(b1)"
   ]
  },
  {
   "cell_type": "code",
   "execution_count": 1,
   "metadata": {},
   "outputs": [
    {
     "name": "stdout",
     "output_type": "stream",
     "text": [
      "[1, 2, 3, 4, 5]\n"
     ]
    }
   ],
   "source": [
    " # Q. a 리스트에서 중복 숫자를 제거 후 리스트로 출력\n",
    "a = [1,1,1,2,2,3,3,3,4,4,5]\n",
    "a2 = list(set(a))\n",
    "print(a2)"
   ]
  },
  {
   "cell_type": "code",
   "execution_count": 2,
   "metadata": {},
   "outputs": [
    {
     "name": "stdout",
     "output_type": "stream",
     "text": [
      "80\n",
      "70\n"
     ]
    }
   ],
   "source": [
    "# Q. a에서 80과 70을 각각 출력\n",
    "a = {'A':90, 'B':80, 'C':70}\n",
    "print(a.get('B'))\n",
    "print(a.get('C'))"
   ]
  },
  {
   "cell_type": "code",
   "execution_count": 3,
   "metadata": {},
   "outputs": [
    {
     "name": "stdout",
     "output_type": "stream",
     "text": [
      "I eat eight apples\n"
     ]
    }
   ],
   "source": [
    "# Q1 \"I eat five apples\" -> \"eight\"\n",
    "a = \"I eat {0} apples\".format(\"eight\")\n",
    "print(a)"
   ]
  },
  {
   "cell_type": "code",
   "execution_count": 4,
   "metadata": {},
   "outputs": [
    {
     "name": "stdout",
     "output_type": "stream",
     "text": [
      "I ate 5 apples. so I was sick for five days\n"
     ]
    }
   ],
   "source": [
    "# Q2 \"I ate 10 apples. so I was sick for three days\" -> 5, \"five\"\n",
    "number = 5\n",
    "day = \"five\"\n",
    "b = \"I ate {0} apples. so I was sick for {1} days\".format(number, day)\n",
    "print(b)"
   ]
  },
  {
   "cell_type": "code",
   "execution_count": 5,
   "metadata": {},
   "outputs": [
    {
     "name": "stdout",
     "output_type": "stream",
     "text": [
      "1\n",
      "2\n",
      "3\n",
      "perfect\n"
     ]
    }
   ],
   "source": [
    "# Q. scope = [1,2,3,4,5] 이 주어졌을때 아래와 같이  출력하세요\n",
    "# 1\n",
    "# 2\n",
    "# 3\n",
    "# perfect\n",
    "\n",
    "scope = [1,2,3,4,5]\n",
    "\n",
    "# for i in scope:\n",
    "#     print(i)\n",
    "#     if i < 3:\n",
    "#         continue\n",
    "#     else:\n",
    "#         print(\"perfect\")\n",
    "#         break\n",
    "\n",
    "for i in scope:\n",
    "    if i < 4:\n",
    "        print(i)\n",
    "else:\n",
    "    print(\"perfect\")"
   ]
  },
  {
   "cell_type": "code",
   "execution_count": 6,
   "metadata": {},
   "outputs": [
    {
     "name": "stdout",
     "output_type": "stream",
     "text": [
      "166833\n"
     ]
    }
   ],
   "source": [
    "# Q. while문을 사용해 1부터 1000까지의 자연수 중 3의 배수의 합 구하기\n",
    "sum = 0\n",
    "i = 1\n",
    "while i < 1001:\n",
    "    i = i + 1\n",
    "    if i % 3 == 0:\n",
    "        sum = sum + i\n",
    "print(sum)"
   ]
  }
 ],
 "metadata": {
  "kernelspec": {
   "display_name": "Python 3",
   "language": "python",
   "name": "python3"
  },
  "language_info": {
   "codemirror_mode": {
    "name": "ipython",
    "version": 3
   },
   "file_extension": ".py",
   "mimetype": "text/x-python",
   "name": "python",
   "nbconvert_exporter": "python",
   "pygments_lexer": "ipython3",
   "version": "3.7.6"
  }
 },
 "nbformat": 4,
 "nbformat_minor": 4
}
