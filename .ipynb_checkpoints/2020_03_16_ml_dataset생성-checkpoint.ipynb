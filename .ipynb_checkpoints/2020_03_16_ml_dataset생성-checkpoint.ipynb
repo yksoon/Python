{
 "cells": [
  {
   "cell_type": "markdown",
   "metadata": {},
   "source": [
    "#### random함수"
   ]
  },
  {
   "cell_type": "code",
   "execution_count": 5,
   "metadata": {},
   "outputs": [
    {
     "name": "stdout",
     "output_type": "stream",
     "text": [
      "0.002147270360113973\n",
      "10\n",
      "19.67355188552775\n",
      "5\n",
      "1\n"
     ]
    }
   ],
   "source": [
    "import random\n",
    "print(random.random())              # 0.0 <= x < 1.0 사이\n",
    "print(random.randint(1, 10))        # 1에서 10 사이의 정수 중에서 난수값 리턴\n",
    "print(random.uniform(10, 20))       # min max 사이 float 리턴\n",
    "print(random.randrange(10))         # 지정범위 int 리턴\n",
    "print(random.choice([1,2,3,4,5]))   # 리스트 내부에 있는 요소를 랜덤하게 선택"
   ]
  },
  {
   "cell_type": "code",
   "execution_count": 11,
   "metadata": {},
   "outputs": [
    {
     "name": "stdout",
     "output_type": "stream",
     "text": [
      "[5, 2, 3, 1, 4]\n"
     ]
    }
   ],
   "source": [
    "list = [1,2,3,4,5]\n",
    "random.shuffle(list)    # 리스트 요소들을 랜덤하게 섞기\n",
    "print(list)"
   ]
  },
  {
   "cell_type": "code",
   "execution_count": 13,
   "metadata": {},
   "outputs": [
    {
     "name": "stdout",
     "output_type": "stream",
     "text": [
      "[1, 5]\n"
     ]
    }
   ],
   "source": [
    "print(random.sample([1,2,3,4,5], k = 2))     # 리스트의 요소 중 k개 뽑기"
   ]
  },
  {
   "cell_type": "markdown",
   "metadata": {},
   "source": [
    "#### numpy의 np.random\n",
    "- NumPy의 random 서브패키지에는 난수를 생성하는 다양한 명령을 제공\n",
    "- rand : 0부터 1사이의 균일 분포\n",
    "- randn : 가우시안 표준 정규 분포\n",
    "- randint : 균일 분포의 정수 난수"
   ]
  },
  {
   "cell_type": "markdown",
   "metadata": {},
   "source": [
    "- np.random.seed       # seed를 통한 난수 생성\n",
    "- np.random.randint    # 균일 분포의 정수 난수 1개 생성\n",
    "- np.random.rand       # 0부터 1사이의 균일 분포에서 난수 매트릭스 array 생성\n",
    "- np.random.randn      # 가우시안 표준 정규 분포에서 난수 매트릭스 array 생성\n",
    "- np.random.shuffle    # 기존의 데이터의 순서 바꾸기\n",
    "- np.random.choice     # 기존의 데이터에서 sampling\n",
    "- np.random.uniform      \n",
    "\n",
    "#### 다차원의 array 형태로 정규분포(np.random.normal)로부터 무작위 샘플을 생성\n",
    "np.random.normal(size=(2,3,4))\n",
    "\n",
    "#### 앞(head) 또는 뒤(tail) (n=1) 가 나올 확률이 각 50%(p=0.5)인 동전 던지기를 20번(size)\n",
    "np.random.binmial(n=1, p=0.5, size=20)\n",
    "np.unique            # 중복되지 않은 값의 리스트 출력\n",
    "np.bincount          # 발생하지 않은 사건에 대해서도 카운트"
   ]
  },
  {
   "cell_type": "code",
   "execution_count": 14,
   "metadata": {},
   "outputs": [
    {
     "data": {
      "text/plain": [
       "array([[10, 16, 15, 15, 10],\n",
       "       [18, 14, 13, 11, 15],\n",
       "       [13, 12, 16, 19, 17]])"
      ]
     },
     "execution_count": 14,
     "metadata": {},
     "output_type": "execute_result"
    }
   ],
   "source": [
    "import numpy as np\n",
    "# numpy.random.randint(low, high=None, size=None)\n",
    "# np.random.randint(6)    # 0부터 5까지 랜덤한 숫자 1개\n",
    "# np.random.randint(1,20) # 1부터 19까지 숫자중 랜덤한 숫자 1개\n",
    "\n",
    "np.random.randint(10, 20, size=(3,5))"
   ]
  },
  {
   "cell_type": "code",
   "execution_count": 16,
   "metadata": {},
   "outputs": [
    {
     "data": {
      "text/plain": [
       "array([[0.39161622, 0.54611623],\n",
       "       [0.39058818, 0.94471177],\n",
       "       [0.83453889, 0.2689472 ]])"
      ]
     },
     "execution_count": 16,
     "metadata": {},
     "output_type": "execute_result"
    }
   ],
   "source": [
    "import numpy as np\n",
    "# np.random.rand(6)      # 0부터 1사이의 균일분포에서 난수 매트릭스 array 생성\n",
    "np.random.rand(3,2)"
   ]
  },
  {
   "cell_type": "code",
   "execution_count": 23,
   "metadata": {},
   "outputs": [
    {
     "data": {
      "text/plain": [
       "array([[ 0.90125525, -1.13299396],\n",
       "       [-1.31212606, -1.18987788],\n",
       "       [ 0.23371096,  0.53305552]])"
      ]
     },
     "execution_count": 23,
     "metadata": {},
     "output_type": "execute_result"
    }
   ],
   "source": [
    "# np.random.randn(6)      # 평균 0, 표준편차 1의 가우시안 표준정규분포 난수를 매트릭스 array 생성\n",
    "np.random.randn(3,2)"
   ]
  },
  {
   "cell_type": "code",
   "execution_count": 26,
   "metadata": {},
   "outputs": [
    {
     "data": {
      "text/plain": [
       "array([0, 3, 1, 2, 4])"
      ]
     },
     "execution_count": 26,
     "metadata": {},
     "output_type": "execute_result"
    }
   ],
   "source": [
    "# numpy.random.choice(a, size=None, replace=True)\n",
    "# a : 배열이면 원래의 데이터, 정수이면 arange(a) 명령으로 데이터 생성\n",
    "# size : 정수, 샘플 숫자\n",
    "# replace : 불리언. True이면 한번 선택한 데이터를 다시 선택 가능\n",
    "\n",
    "# print(np.random.choice([1,2,3,4,5]))\n",
    "\n",
    "np.random.choice(5, 5, replace=False)   # shuffle 명령과 같다"
   ]
  },
  {
   "cell_type": "code",
   "execution_count": 27,
   "metadata": {},
   "outputs": [
    {
     "name": "stdout",
     "output_type": "stream",
     "text": [
      "[2, 1, 5, 4, 3]\n"
     ]
    }
   ],
   "source": [
    "list = [1,2,3,4,5]\n",
    "np.random.shuffle(list)\n",
    "print(list)"
   ]
  },
  {
   "cell_type": "code",
   "execution_count": 28,
   "metadata": {},
   "outputs": [
    {
     "name": "stdout",
     "output_type": "stream",
     "text": [
      "[ 2 11 34]\n",
      "[2 2 2]\n"
     ]
    }
   ],
   "source": [
    "a = np.array([11, 11, 2, 2, 34, 34])\n",
    "index,count = np.unique(a, return_counts=True)\n",
    "print(index)\n",
    "print(count)"
   ]
  },
  {
   "cell_type": "code",
   "execution_count": 29,
   "metadata": {},
   "outputs": [
    {
     "data": {
      "text/plain": [
       "array([0, 2, 3, 1, 0, 0], dtype=int64)"
      ]
     },
     "execution_count": 29,
     "metadata": {},
     "output_type": "execute_result"
    }
   ],
   "source": [
    "# 0부터 minlength -1 까지의 숫자에 대해 각각 카운트\n",
    "\n",
    "np.bincount([1,1,2,2,2,3], minlength=6)"
   ]
  },
  {
   "cell_type": "code",
   "execution_count": 33,
   "metadata": {},
   "outputs": [
    {
     "data": {
      "text/plain": [
       "array([3.80998839, 4.5427416 , 2.50769128, 2.19045764, 4.75913968,\n",
       "       3.81402651, 2.69857736, 2.99641572, 4.16016831, 4.77040487])"
      ]
     },
     "execution_count": 33,
     "metadata": {},
     "output_type": "execute_result"
    }
   ],
   "source": [
    "# 1보다 크거나 2보다 작은 세 개의 수를 반환\n",
    "# np.random.uniform(a, b, c)   # a부터 b까지의 float중 c개를 랜덤하게 뽑아줌\n",
    "\n",
    "np.random.uniform(2.0, 5.0, 10)"
   ]
  },
  {
   "cell_type": "code",
   "execution_count": 36,
   "metadata": {},
   "outputs": [
    {
     "data": {
      "text/plain": [
       "array([[0.44724858, 0.56819996, 0.96487468],\n",
       "       [0.9652588 , 0.46652304, 0.32191897]])"
      ]
     },
     "metadata": {},
     "output_type": "display_data"
    },
    {
     "name": "stdout",
     "output_type": "stream",
     "text": [
      "[[0.43087507 0.92433537 0.56567293]\n",
      " [0.66995885 0.43460042 0.61190714]]\n"
     ]
    }
   ],
   "source": [
    "# random_sample은 uniform 함수의 최소값, 최대값을 각각 0.0, 1.0으로 지정한 것과 같음\n",
    "\n",
    "mt1 = np.random.uniform(0.0, 1.0,(2,3))\n",
    "mt2 = np.random.random_sample((2,3))\n",
    "display(mt1)\n",
    "print(mt2)"
   ]
  },
  {
   "cell_type": "code",
   "execution_count": 82,
   "metadata": {},
   "outputs": [
    {
     "data": {
      "text/html": [
       "<div>\n",
       "<style scoped>\n",
       "    .dataframe tbody tr th:only-of-type {\n",
       "        vertical-align: middle;\n",
       "    }\n",
       "\n",
       "    .dataframe tbody tr th {\n",
       "        vertical-align: top;\n",
       "    }\n",
       "\n",
       "    .dataframe thead th {\n",
       "        text-align: right;\n",
       "    }\n",
       "</style>\n",
       "<table border=\"1\" class=\"dataframe\">\n",
       "  <thead>\n",
       "    <tr style=\"text-align: right;\">\n",
       "      <th></th>\n",
       "      <th>A</th>\n",
       "      <th>B</th>\n",
       "      <th>C</th>\n",
       "      <th>D</th>\n",
       "      <th>E</th>\n",
       "      <th>F</th>\n",
       "      <th>G</th>\n",
       "      <th>H</th>\n",
       "      <th>I</th>\n",
       "      <th>J</th>\n",
       "    </tr>\n",
       "  </thead>\n",
       "  <tbody>\n",
       "    <tr>\n",
       "      <th>0</th>\n",
       "      <td>0</td>\n",
       "      <td>1</td>\n",
       "      <td>2</td>\n",
       "      <td>3</td>\n",
       "      <td>4</td>\n",
       "      <td>5</td>\n",
       "      <td>6</td>\n",
       "      <td>7</td>\n",
       "      <td>8</td>\n",
       "      <td>9</td>\n",
       "    </tr>\n",
       "    <tr>\n",
       "      <th>1</th>\n",
       "      <td>10</td>\n",
       "      <td>11</td>\n",
       "      <td>12</td>\n",
       "      <td>13</td>\n",
       "      <td>14</td>\n",
       "      <td>15</td>\n",
       "      <td>16</td>\n",
       "      <td>17</td>\n",
       "      <td>18</td>\n",
       "      <td>19</td>\n",
       "    </tr>\n",
       "    <tr>\n",
       "      <th>2</th>\n",
       "      <td>20</td>\n",
       "      <td>21</td>\n",
       "      <td>22</td>\n",
       "      <td>23</td>\n",
       "      <td>24</td>\n",
       "      <td>25</td>\n",
       "      <td>26</td>\n",
       "      <td>27</td>\n",
       "      <td>28</td>\n",
       "      <td>29</td>\n",
       "    </tr>\n",
       "    <tr>\n",
       "      <th>3</th>\n",
       "      <td>30</td>\n",
       "      <td>31</td>\n",
       "      <td>32</td>\n",
       "      <td>33</td>\n",
       "      <td>34</td>\n",
       "      <td>35</td>\n",
       "      <td>36</td>\n",
       "      <td>37</td>\n",
       "      <td>38</td>\n",
       "      <td>39</td>\n",
       "    </tr>\n",
       "    <tr>\n",
       "      <th>4</th>\n",
       "      <td>40</td>\n",
       "      <td>41</td>\n",
       "      <td>42</td>\n",
       "      <td>43</td>\n",
       "      <td>44</td>\n",
       "      <td>45</td>\n",
       "      <td>46</td>\n",
       "      <td>47</td>\n",
       "      <td>48</td>\n",
       "      <td>49</td>\n",
       "    </tr>\n",
       "  </tbody>\n",
       "</table>\n",
       "</div>"
      ],
      "text/plain": [
       "    A   B   C   D   E   F   G   H   I   J\n",
       "0   0   1   2   3   4   5   6   7   8   9\n",
       "1  10  11  12  13  14  15  16  17  18  19\n",
       "2  20  21  22  23  24  25  26  27  28  29\n",
       "3  30  31  32  33  34  35  36  37  38  39\n",
       "4  40  41  42  43  44  45  46  47  48  49"
      ]
     },
     "metadata": {},
     "output_type": "display_data"
    },
    {
     "data": {
      "text/html": [
       "<div>\n",
       "<style scoped>\n",
       "    .dataframe tbody tr th:only-of-type {\n",
       "        vertical-align: middle;\n",
       "    }\n",
       "\n",
       "    .dataframe tbody tr th {\n",
       "        vertical-align: top;\n",
       "    }\n",
       "\n",
       "    .dataframe thead th {\n",
       "        text-align: right;\n",
       "    }\n",
       "</style>\n",
       "<table border=\"1\" class=\"dataframe\">\n",
       "  <thead>\n",
       "    <tr style=\"text-align: right;\">\n",
       "      <th></th>\n",
       "      <th>A</th>\n",
       "      <th>B</th>\n",
       "      <th>C</th>\n",
       "      <th>D</th>\n",
       "      <th>E</th>\n",
       "      <th>F</th>\n",
       "      <th>G</th>\n",
       "      <th>H</th>\n",
       "      <th>I</th>\n",
       "      <th>J</th>\n",
       "    </tr>\n",
       "  </thead>\n",
       "  <tbody>\n",
       "    <tr>\n",
       "      <th>0</th>\n",
       "      <td>220</td>\n",
       "      <td>235</td>\n",
       "      <td>0</td>\n",
       "      <td>15</td>\n",
       "      <td>15</td>\n",
       "      <td>195</td>\n",
       "      <td>45</td>\n",
       "      <td>95</td>\n",
       "      <td>105</td>\n",
       "      <td>180</td>\n",
       "    </tr>\n",
       "    <tr>\n",
       "      <th>1</th>\n",
       "      <td>115</td>\n",
       "      <td>30</td>\n",
       "      <td>120</td>\n",
       "      <td>120</td>\n",
       "      <td>60</td>\n",
       "      <td>5</td>\n",
       "      <td>190</td>\n",
       "      <td>195</td>\n",
       "      <td>115</td>\n",
       "      <td>230</td>\n",
       "    </tr>\n",
       "    <tr>\n",
       "      <th>2</th>\n",
       "      <td>120</td>\n",
       "      <td>85</td>\n",
       "      <td>185</td>\n",
       "      <td>125</td>\n",
       "      <td>65</td>\n",
       "      <td>40</td>\n",
       "      <td>45</td>\n",
       "      <td>100</td>\n",
       "      <td>80</td>\n",
       "      <td>25</td>\n",
       "    </tr>\n",
       "    <tr>\n",
       "      <th>3</th>\n",
       "      <td>75</td>\n",
       "      <td>235</td>\n",
       "      <td>0</td>\n",
       "      <td>90</td>\n",
       "      <td>175</td>\n",
       "      <td>120</td>\n",
       "      <td>245</td>\n",
       "      <td>145</td>\n",
       "      <td>95</td>\n",
       "      <td>95</td>\n",
       "    </tr>\n",
       "    <tr>\n",
       "      <th>4</th>\n",
       "      <td>70</td>\n",
       "      <td>195</td>\n",
       "      <td>160</td>\n",
       "      <td>5</td>\n",
       "      <td>45</td>\n",
       "      <td>160</td>\n",
       "      <td>155</td>\n",
       "      <td>50</td>\n",
       "      <td>115</td>\n",
       "      <td>175</td>\n",
       "    </tr>\n",
       "  </tbody>\n",
       "</table>\n",
       "</div>"
      ],
      "text/plain": [
       "     A    B    C    D    E    F    G    H    I    J\n",
       "0  220  235    0   15   15  195   45   95  105  180\n",
       "1  115   30  120  120   60    5  190  195  115  230\n",
       "2  120   85  185  125   65   40   45  100   80   25\n",
       "3   75  235    0   90  175  120  245  145   95   95\n",
       "4   70  195  160    5   45  160  155   50  115  175"
      ]
     },
     "metadata": {},
     "output_type": "display_data"
    },
    {
     "data": {
      "text/html": [
       "<div>\n",
       "<style scoped>\n",
       "    .dataframe tbody tr th:only-of-type {\n",
       "        vertical-align: middle;\n",
       "    }\n",
       "\n",
       "    .dataframe tbody tr th {\n",
       "        vertical-align: top;\n",
       "    }\n",
       "\n",
       "    .dataframe thead th {\n",
       "        text-align: right;\n",
       "    }\n",
       "</style>\n",
       "<table border=\"1\" class=\"dataframe\">\n",
       "  <thead>\n",
       "    <tr style=\"text-align: right;\">\n",
       "      <th></th>\n",
       "      <th>A</th>\n",
       "      <th>B</th>\n",
       "      <th>C</th>\n",
       "      <th>D</th>\n",
       "      <th>E</th>\n",
       "      <th>F</th>\n",
       "      <th>G</th>\n",
       "      <th>H</th>\n",
       "      <th>I</th>\n",
       "      <th>J</th>\n",
       "    </tr>\n",
       "  </thead>\n",
       "  <tbody>\n",
       "    <tr>\n",
       "      <th>0</th>\n",
       "      <td>55</td>\n",
       "      <td>140</td>\n",
       "      <td>170</td>\n",
       "      <td>0</td>\n",
       "      <td>0</td>\n",
       "      <td>180</td>\n",
       "      <td>25</td>\n",
       "      <td>190</td>\n",
       "      <td>200</td>\n",
       "      <td>85</td>\n",
       "    </tr>\n",
       "    <tr>\n",
       "      <th>1</th>\n",
       "      <td>75</td>\n",
       "      <td>20</td>\n",
       "      <td>205</td>\n",
       "      <td>210</td>\n",
       "      <td>155</td>\n",
       "      <td>5</td>\n",
       "      <td>5</td>\n",
       "      <td>195</td>\n",
       "      <td>205</td>\n",
       "      <td>175</td>\n",
       "    </tr>\n",
       "    <tr>\n",
       "      <th>2</th>\n",
       "      <td>190</td>\n",
       "      <td>55</td>\n",
       "      <td>230</td>\n",
       "      <td>90</td>\n",
       "      <td>135</td>\n",
       "      <td>0</td>\n",
       "      <td>70</td>\n",
       "      <td>175</td>\n",
       "      <td>60</td>\n",
       "      <td>210</td>\n",
       "    </tr>\n",
       "    <tr>\n",
       "      <th>3</th>\n",
       "      <td>100</td>\n",
       "      <td>55</td>\n",
       "      <td>20</td>\n",
       "      <td>30</td>\n",
       "      <td>20</td>\n",
       "      <td>235</td>\n",
       "      <td>15</td>\n",
       "      <td>60</td>\n",
       "      <td>180</td>\n",
       "      <td>200</td>\n",
       "    </tr>\n",
       "    <tr>\n",
       "      <th>4</th>\n",
       "      <td>70</td>\n",
       "      <td>75</td>\n",
       "      <td>100</td>\n",
       "      <td>175</td>\n",
       "      <td>115</td>\n",
       "      <td>75</td>\n",
       "      <td>65</td>\n",
       "      <td>105</td>\n",
       "      <td>240</td>\n",
       "      <td>245</td>\n",
       "    </tr>\n",
       "  </tbody>\n",
       "</table>\n",
       "</div>"
      ],
      "text/plain": [
       "     A    B    C    D    E    F   G    H    I    J\n",
       "0   55  140  170    0    0  180  25  190  200   85\n",
       "1   75   20  205  210  155    5   5  195  205  175\n",
       "2  190   55  230   90  135    0  70  175   60  210\n",
       "3  100   55   20   30   20  235  15   60  180  200\n",
       "4   70   75  100  175  115   75  65  105  240  245"
      ]
     },
     "metadata": {},
     "output_type": "display_data"
    }
   ],
   "source": [
    "import numpy as np\n",
    "import pandas as pd\n",
    "np.random.seed(0)\n",
    "index = [np.arange(5)]\n",
    "columns = [\"A\", \"B\", \"C\", \"D\", \"E\", \"F\", \"G\", \"H\", \"I\", \"J\"]\n",
    "df = pd.DataFrame(np.arange(50).reshape(5,10), index, columns = columns)\n",
    "\n",
    "display(df)\n",
    "\n",
    "index2 = [np.arange(5)]\n",
    "columns2 = [\"A\", \"B\", \"C\", \"D\", \"E\", \"F\", \"G\", \"H\", \"I\", \"J\"]\n",
    "df2 = pd.DataFrame(np.random.randint(0, 50,size = (5,10))*5, index2, columns = columns2)\n",
    "\n",
    "display(df2)\n",
    "\n",
    "index3 = [np.arange(5)]\n",
    "columns3 = [\"A\", \"B\", \"C\", \"D\", \"E\", \"F\", \"G\", \"H\", \"I\", \"J\"]\n",
    "df3 = pd.DataFrame(np.random.choice(50, size = (5,10))*5, index3, columns = columns3)\n",
    "\n",
    "display(df3)"
   ]
  },
  {
   "cell_type": "code",
   "execution_count": 101,
   "metadata": {},
   "outputs": [
    {
     "data": {
      "text/html": [
       "<div>\n",
       "<style scoped>\n",
       "    .dataframe tbody tr th:only-of-type {\n",
       "        vertical-align: middle;\n",
       "    }\n",
       "\n",
       "    .dataframe tbody tr th {\n",
       "        vertical-align: top;\n",
       "    }\n",
       "\n",
       "    .dataframe thead th {\n",
       "        text-align: right;\n",
       "    }\n",
       "</style>\n",
       "<table border=\"1\" class=\"dataframe\">\n",
       "  <thead>\n",
       "    <tr style=\"text-align: right;\">\n",
       "      <th></th>\n",
       "      <th>id</th>\n",
       "      <th>성별</th>\n",
       "      <th>연령</th>\n",
       "      <th>지역</th>\n",
       "      <th>상품</th>\n",
       "      <th>가격</th>\n",
       "    </tr>\n",
       "  </thead>\n",
       "  <tbody>\n",
       "    <tr>\n",
       "      <th>0</th>\n",
       "      <td>1</td>\n",
       "      <td>남</td>\n",
       "      <td>24</td>\n",
       "      <td>경기</td>\n",
       "      <td>가구</td>\n",
       "      <td>66000</td>\n",
       "    </tr>\n",
       "    <tr>\n",
       "      <th>1</th>\n",
       "      <td>2</td>\n",
       "      <td>여</td>\n",
       "      <td>56</td>\n",
       "      <td>전남</td>\n",
       "      <td>가전</td>\n",
       "      <td>21000</td>\n",
       "    </tr>\n",
       "    <tr>\n",
       "      <th>2</th>\n",
       "      <td>3</td>\n",
       "      <td>남</td>\n",
       "      <td>43</td>\n",
       "      <td>경북</td>\n",
       "      <td>식품</td>\n",
       "      <td>37000</td>\n",
       "    </tr>\n",
       "    <tr>\n",
       "      <th>3</th>\n",
       "      <td>4</td>\n",
       "      <td>남</td>\n",
       "      <td>50</td>\n",
       "      <td>충북</td>\n",
       "      <td>가전</td>\n",
       "      <td>69000</td>\n",
       "    </tr>\n",
       "    <tr>\n",
       "      <th>4</th>\n",
       "      <td>5</td>\n",
       "      <td>남</td>\n",
       "      <td>45</td>\n",
       "      <td>전남</td>\n",
       "      <td>의류</td>\n",
       "      <td>81000</td>\n",
       "    </tr>\n",
       "    <tr>\n",
       "      <th>5</th>\n",
       "      <td>6</td>\n",
       "      <td>남</td>\n",
       "      <td>40</td>\n",
       "      <td>경남</td>\n",
       "      <td>가구</td>\n",
       "      <td>48000</td>\n",
       "    </tr>\n",
       "    <tr>\n",
       "      <th>6</th>\n",
       "      <td>7</td>\n",
       "      <td>남</td>\n",
       "      <td>53</td>\n",
       "      <td>경남</td>\n",
       "      <td>의류</td>\n",
       "      <td>11000</td>\n",
       "    </tr>\n",
       "    <tr>\n",
       "      <th>7</th>\n",
       "      <td>8</td>\n",
       "      <td>여</td>\n",
       "      <td>57</td>\n",
       "      <td>충북</td>\n",
       "      <td>가전</td>\n",
       "      <td>95000</td>\n",
       "    </tr>\n",
       "    <tr>\n",
       "      <th>8</th>\n",
       "      <td>9</td>\n",
       "      <td>여</td>\n",
       "      <td>43</td>\n",
       "      <td>강원</td>\n",
       "      <td>식품</td>\n",
       "      <td>92000</td>\n",
       "    </tr>\n",
       "    <tr>\n",
       "      <th>9</th>\n",
       "      <td>10</td>\n",
       "      <td>남</td>\n",
       "      <td>47</td>\n",
       "      <td>경기</td>\n",
       "      <td>주방</td>\n",
       "      <td>44000</td>\n",
       "    </tr>\n",
       "  </tbody>\n",
       "</table>\n",
       "</div>"
      ],
      "text/plain": [
       "   id 성별  연령  지역  상품     가격\n",
       "0   1  남  24  경기  가구  66000\n",
       "1   2  여  56  전남  가전  21000\n",
       "2   3  남  43  경북  식품  37000\n",
       "3   4  남  50  충북  가전  69000\n",
       "4   5  남  45  전남  의류  81000\n",
       "5   6  남  40  경남  가구  48000\n",
       "6   7  남  53  경남  의류  11000\n",
       "7   8  여  57  충북  가전  95000\n",
       "8   9  여  43  강원  식품  92000\n",
       "9  10  남  47  경기  주방  44000"
      ]
     },
     "metadata": {},
     "output_type": "display_data"
    }
   ],
   "source": [
    "# 고객 구매데이터 생성(id, 성별, 연령, 지역, 상품, 가격, 구매시간)\n",
    "\n",
    "import numpy as np\n",
    "import pandas as pd\n",
    "\n",
    "a = np.arange(10)+1\n",
    "sr_a = pd.Series(a, name = \"id\")\n",
    "b = np.random.choice([\"남\", \"여\"], size = 10)\n",
    "sr_b = pd.Series(b, name = \"성별\")\n",
    "c = np.random.randint(20, 60, size = 10)\n",
    "sr_c = pd.Series(c, name = \"연령\")\n",
    "d = np.random.choice([\"서울\", \"경기\", \"전북\", \"전남\", \"제주\", \"경북\", \"경남\", \"충북\", \"충남\", \"강원\"], size = 10)\n",
    "sr_d = pd.Series(d, name = \"지역\")\n",
    "e = np.random.choice([\"가전\", \"가구\", \"주방\", \"식품\", \"의류\"], size = 10)\n",
    "sr_e = pd.Series(e, name = \"상품\")\n",
    "f = np.random.randint(1, 100, size = 10)*1000\n",
    "sr_f = pd.Series(f, name = \"가격\")\n",
    "\n",
    "df = pd.concat([sr_a, sr_b, sr_c, sr_d, sr_e, sr_f], axis = 1)\n",
    "\n",
    "display(df)"
   ]
  },
  {
   "cell_type": "code",
   "execution_count": 90,
   "metadata": {},
   "outputs": [
    {
     "data": {
      "text/html": [
       "<div>\n",
       "<style scoped>\n",
       "    .dataframe tbody tr th:only-of-type {\n",
       "        vertical-align: middle;\n",
       "    }\n",
       "\n",
       "    .dataframe tbody tr th {\n",
       "        vertical-align: top;\n",
       "    }\n",
       "\n",
       "    .dataframe thead th {\n",
       "        text-align: right;\n",
       "    }\n",
       "</style>\n",
       "<table border=\"1\" class=\"dataframe\">\n",
       "  <thead>\n",
       "    <tr style=\"text-align: right;\">\n",
       "      <th></th>\n",
       "      <th>ID</th>\n",
       "      <th>Prod</th>\n",
       "      <th>Price</th>\n",
       "    </tr>\n",
       "  </thead>\n",
       "  <tbody>\n",
       "    <tr>\n",
       "      <th>0</th>\n",
       "      <td>1</td>\n",
       "      <td>7</td>\n",
       "      <td>369.808093</td>\n",
       "    </tr>\n",
       "    <tr>\n",
       "      <th>1</th>\n",
       "      <td>2</td>\n",
       "      <td>1</td>\n",
       "      <td>146.441763</td>\n",
       "    </tr>\n",
       "    <tr>\n",
       "      <th>2</th>\n",
       "      <td>3</td>\n",
       "      <td>7</td>\n",
       "      <td>569.618406</td>\n",
       "    </tr>\n",
       "    <tr>\n",
       "      <th>3</th>\n",
       "      <td>4</td>\n",
       "      <td>4</td>\n",
       "      <td>703.737279</td>\n",
       "    </tr>\n",
       "    <tr>\n",
       "      <th>4</th>\n",
       "      <td>5</td>\n",
       "      <td>7</td>\n",
       "      <td>288.476437</td>\n",
       "    </tr>\n",
       "    <tr>\n",
       "      <th>5</th>\n",
       "      <td>6</td>\n",
       "      <td>3</td>\n",
       "      <td>433.288062</td>\n",
       "    </tr>\n",
       "    <tr>\n",
       "      <th>6</th>\n",
       "      <td>7</td>\n",
       "      <td>4</td>\n",
       "      <td>756.106694</td>\n",
       "    </tr>\n",
       "    <tr>\n",
       "      <th>7</th>\n",
       "      <td>8</td>\n",
       "      <td>1</td>\n",
       "      <td>396.098275</td>\n",
       "    </tr>\n",
       "    <tr>\n",
       "      <th>8</th>\n",
       "      <td>9</td>\n",
       "      <td>5</td>\n",
       "      <td>896.038388</td>\n",
       "    </tr>\n",
       "    <tr>\n",
       "      <th>9</th>\n",
       "      <td>10</td>\n",
       "      <td>1</td>\n",
       "      <td>638.921076</td>\n",
       "    </tr>\n",
       "  </tbody>\n",
       "</table>\n",
       "</div>"
      ],
      "text/plain": [
       "   ID  Prod       Price\n",
       "0   1     7  369.808093\n",
       "1   2     1  146.441763\n",
       "2   3     7  569.618406\n",
       "3   4     4  703.737279\n",
       "4   5     7  288.476437\n",
       "5   6     3  433.288062\n",
       "6   7     4  756.106694\n",
       "7   8     1  396.098275\n",
       "8   9     5  896.038388\n",
       "9  10     1  638.921076"
      ]
     },
     "metadata": {},
     "output_type": "display_data"
    }
   ],
   "source": [
    "import pandas as pd\n",
    "import numpy as np\n",
    "\n",
    "a = np.arange(10)+1\n",
    "sr_a = pd.Series(a, name = \"ID\")\n",
    "b = np.random.randint(1,9,size=10)\n",
    "sr_b = pd.Series(b, name = \"Prod\")\n",
    "c = np.random.rand(10)*1000\n",
    "sr_c = pd.Series(c, name = \"Price\")\n",
    "\n",
    "df = pd.concat([sr_a, sr_b, sr_c], axis=1)\n",
    "display(df)"
   ]
  }
 ],
 "metadata": {
  "kernelspec": {
   "display_name": "Python 3",
   "language": "python",
   "name": "python3"
  },
  "language_info": {
   "codemirror_mode": {
    "name": "ipython",
    "version": 3
   },
   "file_extension": ".py",
   "mimetype": "text/x-python",
   "name": "python",
   "nbconvert_exporter": "python",
   "pygments_lexer": "ipython3",
   "version": "3.7.6"
  }
 },
 "nbformat": 4,
 "nbformat_minor": 4
}
