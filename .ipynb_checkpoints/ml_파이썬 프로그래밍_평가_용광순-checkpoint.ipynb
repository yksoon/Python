{
 "cells": [
  {
   "cell_type": "markdown",
   "metadata": {},
   "source": [
    "## 훈련과정 : R·파이썬 기반 빅데이터 분석 전문가 양성과정\n",
    "## 교과목 평가 : 파이썬 프로그래밍\n",
    "## 성명 : 용광순\n",
    "## 점수 :"
   ]
  },
  {
   "cell_type": "markdown",
   "metadata": {},
   "source": [
    "#### 1. numbers 리스트에서 15, 20, 25를 출력하세요.(for문과 if 조건 사용 필수)  - 5점\n",
    "numbers = [5, 15, 6, 20, 7, 25]"
   ]
  },
  {
   "cell_type": "code",
   "execution_count": 2,
   "metadata": {},
   "outputs": [
    {
     "name": "stdout",
     "output_type": "stream",
     "text": [
      "[15, 20, 25]\n"
     ]
    }
   ],
   "source": [
    "numbers = [5, 15, 6, 20, 7, 25]\n",
    "number = []\n",
    "for i in numbers:\n",
    "    if i%5 == 0:\n",
    "        if i == 5:\n",
    "            pass\n",
    "        else:\n",
    "            number.append(i)\n",
    "\n",
    "print(number)"
   ]
  },
  {
   "cell_type": "markdown",
   "metadata": {},
   "source": [
    "#### 2. 아래 사용자 함수, 변수 리스트 및 2개의 내장함수를 각각 이용해서  [1, 4, 9, 16, 25], [1, 2]를 출력하세요.(내장함수 2개 사용 필수) - 10점"
   ]
  },
  {
   "cell_type": "code",
   "execution_count": 9,
   "metadata": {},
   "outputs": [],
   "source": [
    "# 함수를 선언합니다.\n",
    "def power(item):\n",
    "    return item * item\n",
    "def under_3(item):\n",
    "    return item < 3\n",
    "\n",
    "# 변수를 선언합니다.\n",
    "list_input_a = [1, 2, 3, 4, 5]"
   ]
  },
  {
   "cell_type": "code",
   "execution_count": 10,
   "metadata": {},
   "outputs": [
    {
     "name": "stdout",
     "output_type": "stream",
     "text": [
      "[1, 4, 9, 16, 25] [1, 2]\n"
     ]
    }
   ],
   "source": [
    "myList1 = []\n",
    "for i in list_input_a:\n",
    "    myList1.append(power(i))\n",
    "\n",
    "\n",
    "myList2 = []\n",
    "for n in list_input_a:\n",
    "    if under_3(n) == True:\n",
    "        myList2.append(n)\n",
    "\n",
    "print(myList1, myList2)"
   ]
  },
  {
   "cell_type": "markdown",
   "metadata": {},
   "source": [
    "#### 3. 정수를 입력하면 짝수 홀수 여부를 반환해주는 프로그램을 작성하세요.(정수 입력 후 '짝수', '홀수'가 일치하게 출력) - 5점"
   ]
  },
  {
   "cell_type": "code",
   "execution_count": 21,
   "metadata": {
    "scrolled": true
   },
   "outputs": [
    {
     "name": "stdout",
     "output_type": "stream",
     "text": [
      "숫자를 입력해 주세요 : ㅁㄴㅇ\n",
      "정수를 입력해주세요\n"
     ]
    }
   ],
   "source": [
    "try:\n",
    "    n = int(input(\"숫자를 입력해 주세요 : \"))\n",
    "    if n % 2 == 0:\n",
    "        print(\"짝수입니다.\")\n",
    "    elif n % 2 == 1:\n",
    "        print(\"홀수입니다.\")\n",
    "except ValueError as n:\n",
    "    print(\"정수를 입력해주세요\")\n"
   ]
  },
  {
   "cell_type": "markdown",
   "metadata": {},
   "source": [
    "#### 4. 람다 함수를 이용해서 a의 b제곱을 구하는 식을 만들고 그 식을 이용해서  a, b가 아래와 같이 주어졌을 때 각각의 값을 구하세요. - 5점\n",
    "a = 2, b = 5 \\\n",
    "a= 5, b = 2"
   ]
  },
  {
   "cell_type": "code",
   "execution_count": 22,
   "metadata": {},
   "outputs": [
    {
     "name": "stdout",
     "output_type": "stream",
     "text": [
      "32\n",
      "25\n"
     ]
    }
   ],
   "source": [
    "square = lambda a,b:a**b\n",
    "\n",
    "print(square(2, 5))\n",
    "print(square(5, 2))"
   ]
  },
  {
   "cell_type": "markdown",
   "metadata": {},
   "source": [
    "#### 5. 현재  날짜 시간을 '2020년 3월 11일 21시 53분 8초'와 같은 포멧으로 출력하세요. - 5점"
   ]
  },
  {
   "cell_type": "code",
   "execution_count": 33,
   "metadata": {},
   "outputs": [
    {
     "name": "stdout",
     "output_type": "stream",
     "text": [
      "2020년 03월 12일 14시 36분 06초\n"
     ]
    }
   ],
   "source": [
    "import time\n",
    "\n",
    "print(\"{}년 {}월 {}일 {}시 {}분 {}초\".format(\n",
    "    time.strftime(\"%Y\", time.localtime(time.time())),\n",
    "    time.strftime(\"%m\", time.localtime(time.time())),\n",
    "    time.strftime(\"%d\", time.localtime(time.time())),\n",
    "    time.strftime(\"%H\", time.localtime(time.time())),\n",
    "    time.strftime(\"%M\", time.localtime(time.time())),\n",
    "    time.strftime(\"%S\", time.localtime(time.time()))\n",
    "))"
   ]
  },
  {
   "cell_type": "code",
   "execution_count": 23,
   "metadata": {},
   "outputs": [
    {
     "name": "stdout",
     "output_type": "stream",
     "text": [
      "2020년 3월 13일 9시 46분 26초\n"
     ]
    }
   ],
   "source": [
    "import datetime\n",
    "\n",
    "now = datetime.datetime.now()\n",
    "\n",
    "print(\"{}년 {}월 {}일 {}시 {}분 {}초\".format(\n",
    "    now.year,\n",
    "    now.month,\n",
    "    now.day,\n",
    "    now.hour,\n",
    "    now.minute,\n",
    "    now.second\n",
    "))"
   ]
  },
  {
   "cell_type": "markdown",
   "metadata": {},
   "source": [
    "#### 6. 현재 날짜/시간을 구하고 현재의 계절을 출력하는 프로그램을 작성하세요. - 20점\n",
    "계절 기준 : 봄(3 ~ 5월), 여름(6 ~ 8월), 가을(9 ~ 11), 겨울(12 ~ 2)"
   ]
  },
  {
   "cell_type": "code",
   "execution_count": 65,
   "metadata": {},
   "outputs": [
    {
     "name": "stdout",
     "output_type": "stream",
     "text": [
      "현재 날짜 : 2020년 03월 12일\n",
      "현재 시간 : 15시 15분 27초\n",
      "현재 계절 : 봄\n"
     ]
    }
   ],
   "source": [
    "import time\n",
    "\n",
    "class Date():\n",
    "    \n",
    "    def __init__(self):\n",
    "        self.year = time.strftime(\"%Y\", time.localtime(time.time()))\n",
    "        self.month = time.strftime(\"%m\", time.localtime(time.time()))\n",
    "        self.day = time.strftime(\"%d\", time.localtime(time.time()))\n",
    "        self.hour = time.strftime(\"%H\", time.localtime(time.time()))\n",
    "        self.minute = time.strftime(\"%M\", time.localtime(time.time()))\n",
    "        self.second = time.strftime(\"%S\", time.localtime(time.time()))\n",
    "        \n",
    "    def season(self):\n",
    "        s = \"\"\n",
    "        self.m = int(self.month)\n",
    "        if 5 >= self.m >= 3:\n",
    "            s = \"봄\"\n",
    "        elif 8 >= self.m >= 6:\n",
    "            s = \"여름\"\n",
    "        elif 11 >= self.m >= 9:\n",
    "            s = \"가을\"\n",
    "        else:\n",
    "            s = \"겨울\"\n",
    "        return s\n",
    "    \n",
    "date = Date()\n",
    "print(\"현재 날짜 : {}년 {}월 {}일\".format(date.year, date.month, date.day))\n",
    "print(\"현재 시간 : {}시 {}분 {}초\".format(date.hour, date.minute, date.second))\n",
    "print(\"현재 계절 : {}\".format(date.season()))"
   ]
  },
  {
   "cell_type": "markdown",
   "metadata": {},
   "source": [
    "#### 7.아래 if~else문에서 pass 키워드를 사용한 미구현 부분을 '아직 구현하지 않은 부분이에요!' 라는 오류를 발생시키도록 프로그램을 수정하세요. - 10점"
   ]
  },
  {
   "cell_type": "code",
   "execution_count": 1,
   "metadata": {},
   "outputs": [
    {
     "name": "stdout",
     "output_type": "stream",
     "text": [
      "정수 입력> 3\n"
     ]
    }
   ],
   "source": [
    "# 입력을 받습니다.\n",
    "number = input(\"정수 입력> \")\n",
    "number = int(number)\n",
    "\n",
    "# 조건문 사용\n",
    "if number > 0:\n",
    "    pass\n",
    "    # 양수일 때: 아직 미구현 상태입니다.\n",
    "   \n",
    "else:\n",
    "    pass\n",
    "    # 음수일 때: 아직 미구현 상태입니다.\n",
    "   "
   ]
  },
  {
   "cell_type": "code",
   "execution_count": 71,
   "metadata": {},
   "outputs": [
    {
     "name": "stdout",
     "output_type": "stream",
     "text": [
      "정수 입력> 3\n"
     ]
    },
    {
     "ename": "TypeError",
     "evalue": "exceptions must derive from BaseException",
     "output_type": "error",
     "traceback": [
      "\u001b[1;31m---------------------------------------------------------------------------\u001b[0m",
      "\u001b[1;31mTypeError\u001b[0m                                 Traceback (most recent call last)",
      "\u001b[1;32m<ipython-input-71-d3ac103dc208>\u001b[0m in \u001b[0;36m<module>\u001b[1;34m\u001b[0m\n\u001b[0;32m      5\u001b[0m \u001b[1;31m# 조건문 사용\u001b[0m\u001b[1;33m\u001b[0m\u001b[1;33m\u001b[0m\u001b[1;33m\u001b[0m\u001b[0m\n\u001b[0;32m      6\u001b[0m \u001b[1;32mif\u001b[0m \u001b[0mnumber\u001b[0m \u001b[1;33m>\u001b[0m \u001b[1;36m0\u001b[0m\u001b[1;33m:\u001b[0m\u001b[1;33m\u001b[0m\u001b[1;33m\u001b[0m\u001b[0m\n\u001b[1;32m----> 7\u001b[1;33m     \u001b[1;32mraise\u001b[0m \u001b[1;34m\"아직 구현하지 않은 부분이에요!\"\u001b[0m\u001b[1;33m\u001b[0m\u001b[1;33m\u001b[0m\u001b[0m\n\u001b[0m\u001b[0;32m      8\u001b[0m \u001b[1;33m\u001b[0m\u001b[0m\n\u001b[0;32m      9\u001b[0m \u001b[1;32melse\u001b[0m\u001b[1;33m:\u001b[0m\u001b[1;33m\u001b[0m\u001b[1;33m\u001b[0m\u001b[0m\n",
      "\u001b[1;31mTypeError\u001b[0m: exceptions must derive from BaseException"
     ]
    }
   ],
   "source": [
    "# 입력을 받습니다.\n",
    "number = input(\"정수 입력> \")\n",
    "number = int(number)\n",
    "\n",
    "# 조건문 사용\n",
    "if number > 0:\n",
    "    raise \"아직 구현하지 않은 부분이에요!\"\n",
    "   \n",
    "else:\n",
    "    raise \"아직 구현하지 않은 부분이에요!\"\n",
    "   "
   ]
  },
  {
   "cell_type": "markdown",
   "metadata": {},
   "source": [
    "#### 8. example_list = [\"요소A\", \"요소B\", \"요소C\"]를 파이썬 내장함수를 이용하여 아래와 같이 출력하세요. - 10점\n",
    "0번째 요소는 요소A입니다.\\\n",
    "1번째 요소는 요소B입니다.\\\n",
    "2번째 요소는 요소C입니다."
   ]
  },
  {
   "cell_type": "code",
   "execution_count": 86,
   "metadata": {},
   "outputs": [
    {
     "name": "stdout",
     "output_type": "stream",
     "text": [
      "0번째 요소는 요소A입니다\n",
      "1번째 요소는 요소B입니다\n",
      "2번째 요소는 요소C입니다\n"
     ]
    }
   ],
   "source": [
    "example_list = [\"요소A\", \"요소B\", \"요소C\"]\n",
    "\n",
    "for i, name in enumerate(example_list):\n",
    "    print(\"%d번째 요소는 %s입니다\" % (i, name))"
   ]
  },
  {
   "cell_type": "markdown",
   "metadata": {},
   "source": [
    "#### 9. 97을 40으로 나눈 몫과 나머지를 내장함수를 이용하여 구하세요.(튜플로 출력 필수) - 10점"
   ]
  },
  {
   "cell_type": "code",
   "execution_count": 72,
   "metadata": {},
   "outputs": [
    {
     "name": "stdout",
     "output_type": "stream",
     "text": [
      "(2, 17)\n"
     ]
    }
   ],
   "source": [
    "print(divmod(97, 40))"
   ]
  },
  {
   "cell_type": "markdown",
   "metadata": {},
   "source": [
    "#### 10. list_number = [52, 273, 32, 72, 100]로 변수 선언하고 정수를 입력하면 그 정수 인덱스와 리스트에서 해당하는 값을 출력하는 프로그램을 작성하세요. 단, ValueError와 IndexError를 예외처리(프로그램 검증은 아래 참조) - 20점\n",
    "\n",
    "- 4 입력시 \\\n",
    "정수 입력> 4 \\\n",
    "4번째 요소: 100 \n",
    "\n",
    "- 문자 입력시 \\\n",
    "정수 입력> 가 \\\n",
    "정수를 입력해 주세요! \n",
    "\n",
    "- 5 입력시 \\\n",
    "정수 입력> 5 \\\n",
    "리스트의 인덱스를 벗어났어요!"
   ]
  },
  {
   "cell_type": "code",
   "execution_count": 89,
   "metadata": {},
   "outputs": [
    {
     "name": "stdout",
     "output_type": "stream",
     "text": [
      "정수 입력>77\n",
      "리스트의 인덱스를 벗어났어요!\n"
     ]
    }
   ],
   "source": [
    "try:\n",
    "    list_number = [52, 273, 32, 72, 100]\n",
    "    n = int(input(\"정수 입력>\"))\n",
    "    print(\"{}번째 요소: {}\".format(n, list_number[n]))\n",
    "    \n",
    "except ValueError as n:\n",
    "    print(\"정수를 입력해 주세요!\")\n",
    "except IndexError as n:\n",
    "    print(\"리스트의 인덱스를 벗어났어요!\")\n",
    "    "
   ]
  }
 ],
 "metadata": {
  "kernelspec": {
   "display_name": "Python 3",
   "language": "python",
   "name": "python3"
  },
  "language_info": {
   "codemirror_mode": {
    "name": "ipython",
    "version": 3
   },
   "file_extension": ".py",
   "mimetype": "text/x-python",
   "name": "python",
   "nbconvert_exporter": "python",
   "pygments_lexer": "ipython3",
   "version": "3.7.6"
  }
 },
 "nbformat": 4,
 "nbformat_minor": 2
}
