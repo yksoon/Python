{
 "cells": [
  {
   "cell_type": "code",
   "execution_count": 3,
   "metadata": {},
   "outputs": [
    {
     "name": "stdout",
     "output_type": "stream",
     "text": [
      "a, b, c 의 평균 점수 : 70\n"
     ]
    }
   ],
   "source": [
    "#### 1. a, b, c의 평균 점수 구하세요\n",
    "a = 80\n",
    "b = 75\n",
    "c = 55\n",
    "\n",
    "ava = (a+b+c)/3\n",
    "print(\"a, b, c 의 평균 점수 : %d\" % (ava))"
   ]
  },
  {
   "cell_type": "code",
   "execution_count": 4,
   "metadata": {},
   "outputs": [
    {
     "name": "stdout",
     "output_type": "stream",
     "text": [
      "홀수입니다.\n"
     ]
    }
   ],
   "source": [
    "#### 2. 사용자 함수를 작성하여 자연수 123이 홀수인지 짝수인지를 판별하세요.\n",
    "\n",
    "def number():\n",
    "    if 123%2 == 1:\n",
    "        result = \"홀수입니다.\"\n",
    "    else:\n",
    "        result = \"짝수입니다.\"\n",
    "    return result\n",
    "\n",
    "print(number())"
   ]
  },
  {
   "cell_type": "code",
   "execution_count": 5,
   "metadata": {},
   "outputs": [
    {
     "name": "stdout",
     "output_type": "stream",
     "text": [
      "I ate 10 apples. so I was sick for 3 days.\n",
      "hi!!!!!!!!\n"
     ]
    }
   ],
   "source": [
    "#### 3. format 함수를 사용하여 아래와 같이 출력하세요.\n",
    "# I ate 10 apples. so I was sick for 3 days. \\\n",
    "# hi!!!!!!!!\n",
    "\n",
    "print(\"I ate {0} apples. so I was sick for {1} days.\\nhi!!!!!!!!\".format(10, 3))"
   ]
  },
  {
   "cell_type": "code",
   "execution_count": 6,
   "metadata": {},
   "outputs": [
    {
     "name": "stdout",
     "output_type": "stream",
     "text": [
      "a#b#c#d\n"
     ]
    }
   ],
   "source": [
    "#### 4. 문자열 a:b:c:d가 있다. 문자열의 replace 함수를 사용하여 a#b#c#d로 바꿔서 출력하세요.\n",
    "\n",
    "str1 = \"a:b:c:d\"\n",
    "\n",
    "print(str1.replace(\":\",\"#\"))"
   ]
  },
  {
   "cell_type": "code",
   "execution_count": 7,
   "metadata": {},
   "outputs": [
    {
     "name": "stdout",
     "output_type": "stream",
     "text": [
      "['I love python', ' you love java']\n"
     ]
    }
   ],
   "source": [
    "#### 5. 문자열 'I love python! you love java'을 리스트['I love python', ' you love java']으로 출력하세요.\n",
    "\n",
    "str2 = \"I love python! you love java\"\n",
    "\n",
    "print(str2.split(\"!\"))"
   ]
  },
  {
   "cell_type": "code",
   "execution_count": 13,
   "metadata": {},
   "outputs": [
    {
     "name": "stdout",
     "output_type": "stream",
     "text": [
      "[1, 2, 3, 4, 5, [7, 8], 'a', 'b']\n"
     ]
    }
   ],
   "source": [
    "#### 6. [1,2,3] 리스트에 추가하여 [1,2,3,4,5, [7,8], 'a','b']를 만들어 출력하세요.\n",
    "\n",
    "myList1 = [1,2,3]\n",
    "myList1.extend([4,5])\n",
    "myList1.append([7,8])\n",
    "myList1.extend([\"a\",\"b\"])\n",
    "print(myList1)"
   ]
  },
  {
   "cell_type": "code",
   "execution_count": 18,
   "metadata": {},
   "outputs": [
    {
     "name": "stdout",
     "output_type": "stream",
     "text": [
      "80\n",
      "{'A': 90, 'C': 70}\n"
     ]
    }
   ],
   "source": [
    "#### 7. a = {'A':90, 'B':80, 'C':70} 에서 key 'B'에 해당하는 값을 출력하고 그 요소는 a에서 삭제하세요. \n",
    "\n",
    "a = {'A':90, 'B':80, 'C':70}\n",
    "\n",
    "print(a.pop(\"B\"))\n",
    "print(a)"
   ]
  },
  {
   "cell_type": "code",
   "execution_count": 1,
   "metadata": {},
   "outputs": [
    {
     "name": "stdout",
     "output_type": "stream",
     "text": [
      "5 X 1 = 5\n",
      "5 X 2 = 10\n",
      "5 X 3 = 15\n",
      "5 X 4 = 20\n",
      "5 X 5 = 25\n",
      "5 X 6 = 30\n",
      "5 X 7 = 35\n",
      "5 X 8 = 40\n",
      "5 X 9 = 45\n"
     ]
    }
   ],
   "source": [
    "#### 8. 구구단을 구하는 사용자 함수를 만든 후 5단을 출력하세요.\n",
    "\n",
    "def mul(num):\n",
    "    for i in range(num, num+1):\n",
    "        for j in range(1, 10):\n",
    "            print(\"%d X %d = %d\" % (i, j, i*j))\n",
    "mul(5)"
   ]
  },
  {
   "cell_type": "code",
   "execution_count": 59,
   "metadata": {},
   "outputs": [
    {
     "name": "stdout",
     "output_type": "stream",
     "text": [
      "8745000\n"
     ]
    }
   ],
   "source": [
    "#### 10. 5000미만의 자연수에서 2의 배수와 5의 배수의 총합\n",
    "\n",
    "def add(num):\n",
    "    result = 0\n",
    "    for i in range(5000):\n",
    "          if i % num == 0:\n",
    "            result = result + i\n",
    "    return result\n",
    "two = add(2)\n",
    "five = add(5)\n",
    "print(two+five)"
   ]
  },
  {
   "cell_type": "code",
   "execution_count": 34,
   "metadata": {},
   "outputs": [
    {
     "name": "stdout",
     "output_type": "stream",
     "text": [
      "5.0\n",
      "20.0\n"
     ]
    }
   ],
   "source": [
    "#### 11. 게시물의 총 건수(m)와 한 페이지에 보여 줄 게시물 수(n)를 입력시 총 페이지 수를 출력하는 사용자 함수를 작성 후 m 과 n이 다음과 같이 주어졌을 때 총페이지 수를 구하세요.\n",
    "# - m=100, n=20\n",
    "# - m=500, n=25\n",
    "m1 = 100\n",
    "n1 = 20\n",
    "\n",
    "m2 = 500\n",
    "n2 = 25\n",
    "\n",
    "def totalPageNum(m, n):\n",
    "    total = m / n\n",
    "    return total\n",
    "    \n",
    "page1 = totalPageNum(m1, n1)\n",
    "page2 = totalPageNum(m2, n2)\n",
    "print(page1)\n",
    "print(page2)"
   ]
  },
  {
   "cell_type": "code",
   "execution_count": 58,
   "metadata": {},
   "outputs": [
    {
     "name": "stdout",
     "output_type": "stream",
     "text": [
      "[4, 31, 17, 4, 25, 38]\n"
     ]
    }
   ],
   "source": [
    "#### 12. random 모듈을 사용하여 로또 번호(1~45 사이의 숫자 6개)를 생성하세요.\n",
    "\n",
    "from random import random\n",
    "\n",
    "mylist = []\n",
    "while True:\n",
    "    ran = int(random() * 100)\n",
    "    if len(mylist) == 6:\n",
    "        break\n",
    "    if ran > 0 and ran < 46:\n",
    "        mylist.append(ran)\n",
    "print(mylist)"
   ]
  },
  {
   "cell_type": "code",
   "execution_count": 54,
   "metadata": {},
   "outputs": [],
   "source": [
    "#### 13. 사칙연산 클래스 만들고 다음 사항들을 출력하세요\n",
    "\n",
    "class FourCal:\n",
    "    def __init__(self, first, second):\n",
    "        self.first = first\n",
    "        self.second = second\n",
    "    def sum(self):\n",
    "        self.result = self.first + self.second\n",
    "        return self.result\n",
    "    def mul(self):\n",
    "        self.result = self.first * self.second\n",
    "        return self.result\n",
    "    def sub(self):\n",
    "        self.result = self.first - self.second\n",
    "        return self.result\n",
    "    def div(self):\n",
    "        self.result = self.first / self.second\n",
    "        return self.result"
   ]
  },
  {
   "cell_type": "code",
   "execution_count": 55,
   "metadata": {},
   "outputs": [
    {
     "name": "stdout",
     "output_type": "stream",
     "text": [
      "6\n",
      "8\n",
      "2\n",
      "2\n",
      "10\n",
      "21\n",
      "-4\n",
      "0\n"
     ]
    }
   ],
   "source": [
    "a = FourCal(4,2)\n",
    "b = FourCal(3,7)\n",
    "# a.setdata(4,2)\n",
    "# b.setdata(3,7)\n",
    "print(a.sum())\n",
    "print(a.mul())\n",
    "print(a.sub())\n",
    "print(round(a.div()))\n",
    "print(b.sum())\n",
    "print(b.mul())\n",
    "print(b.sub())\n",
    "print(round(b.div()))"
   ]
  },
  {
   "cell_type": "code",
   "execution_count": null,
   "metadata": {},
   "outputs": [],
   "source": [
    "#### 14. for문을 사용해 1부터 100까지의 숫자를 출력하세요.\n",
    "\n",
    "for i in range(1,101):\n",
    "    print(i,end=\"\\n\")"
   ]
  },
  {
   "cell_type": "code",
   "execution_count": 39,
   "metadata": {},
   "outputs": [
    {
     "name": "stdout",
     "output_type": "stream",
     "text": [
      "79.0\n"
     ]
    }
   ],
   "source": [
    "#### 15. A 학급에 총 10명의 학생이 있다. 이 학생들의 중간고사 점수는 다음과 같다.\n",
    "# [70, 60, 55, 75, 95, 90, 80, 80, 85, 100]\\\n",
    "# for문을 사용하여 A 학급의 평균 점수를 구해 보자.\n",
    "\n",
    "aClass = [70, 60, 55, 75, 95, 90, 80, 80, 85, 100]\n",
    "\n",
    "sum = 0\n",
    "for i in range(len(aClass)):\n",
    "    sum = sum + aClass[i]\n",
    "\n",
    "print(sum/len(aClass))    "
   ]
  },
  {
   "cell_type": "code",
   "execution_count": 1,
   "metadata": {},
   "outputs": [
    {
     "data": {
      "text/plain": [
       "2.0"
      ]
     },
     "execution_count": 1,
     "metadata": {},
     "output_type": "execute_result"
    }
   ],
   "source": [
    "# 입력으로 들어오는 모든 수의 평균 값을 계산해 주는 함수를 작성\n",
    "# (단 입력으로 들어오는 수의 개수는 정해져 있지 않다.)\n",
    "\n",
    "def avg_numbers(*args):\n",
    "    result = 0\n",
    "    for i in args:\n",
    "        result += i\n",
    "    average = result/len(args)\n",
    "    return average\n",
    "\n",
    "avg_numbers(1,2,3)"
   ]
  }
 ],
 "metadata": {
  "kernelspec": {
   "display_name": "Python 3",
   "language": "python",
   "name": "python3"
  },
  "language_info": {
   "codemirror_mode": {
    "name": "ipython",
    "version": 3
   },
   "file_extension": ".py",
   "mimetype": "text/x-python",
   "name": "python",
   "nbconvert_exporter": "python",
   "pygments_lexer": "ipython3",
   "version": "3.7.6"
  }
 },
 "nbformat": 4,
 "nbformat_minor": 2
}
