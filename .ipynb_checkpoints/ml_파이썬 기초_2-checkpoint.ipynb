{
 "cells": [
  {
   "cell_type": "code",
   "execution_count": 1,
   "metadata": {},
   "outputs": [
    {
     "name": "stdout",
     "output_type": "stream",
     "text": [
      "돈을 넣어 주세요.400\n",
      "400원을 투입하였고 잔돈은 100원 입니다. \n",
      " 커피 잔여 수량 : 9잔\n",
      "돈을 넣어 주세요.300\n",
      "커피 1잔 나옴. \n",
      " 커피 잔여 수량 : 8잔\n",
      "돈을 넣어 주세요.200\n",
      "200원을 투입하였고 금액이 부족하여 200원이 반환 됩니다\n",
      "돈을 넣어 주세요.300\n",
      "커피 1잔 나옴. \n",
      " 커피 잔여 수량 : 7잔\n",
      "돈을 넣어 주세요.500\n",
      "500원을 투입하였고 잔돈은 200원 입니다. \n",
      " 커피 잔여 수량 : 6잔\n",
      "돈을 넣어 주세요.500\n",
      "500원을 투입하였고 잔돈은 200원 입니다. \n",
      " 커피 잔여 수량 : 5잔\n",
      "돈을 넣어 주세요.400\n",
      "400원을 투입하였고 잔돈은 100원 입니다. \n",
      " 커피 잔여 수량 : 4잔\n",
      "돈을 넣어 주세요.400\n",
      "400원을 투입하였고 잔돈은 100원 입니다. \n",
      " 커피 잔여 수량 : 3잔\n",
      "돈을 넣어 주세요.400\n",
      "400원을 투입하였고 잔돈은 100원 입니다. \n",
      " 커피 잔여 수량 : 2잔\n",
      "돈을 넣어 주세요.300\n",
      "커피 1잔 나옴. \n",
      " 커피 잔여 수량 : 1잔\n",
      "돈을 넣어 주세요.400\n",
      "400원을 투입하였고 잔돈은 100원 입니다. \n",
      " 커피 잔여 수량 : 0잔\n",
      "커피가 모두 소진되어 영업 종료 입니다.\n"
     ]
    }
   ],
   "source": [
    "### Q. 커피자판기 프로그램\n",
    "coffee = 10\n",
    "price = 300\n",
    "\n",
    "\n",
    "changeMoney = 0\n",
    "\n",
    "while coffee > 0:\n",
    "    money = int(input(\"돈을 넣어 주세요.\"))\n",
    "    if money == price:\n",
    "        coffee -= 1\n",
    "        print(\"커피 1잔 나옴. \\n커피 잔여 수량 : {0}잔\".format(coffee))\n",
    "    elif money > price:\n",
    "        coffee -= 1\n",
    "        changeMoney = money - price\n",
    "        print(\"{0}원을 투입하였고 잔돈은 {1}원 입니다. \\n커피 잔여 수량 : {2}잔\".format(money, changeMoney, coffee))\n",
    "    elif money < price:\n",
    "        changeMoney = money\n",
    "        print(\"{0}원을 투입하였고 금액이 부족하여 {1}원이 반환 됩니다. \\n커피 잔여 수량 : {2}잔\".format(money, changeMoney, coffee))\n",
    "    if coffee == 0:\n",
    "        print(\"커피가 모두 소진되어 영업 종료 입니다.\")\n",
    "        break"
   ]
  },
  {
   "cell_type": "code",
   "execution_count": 2,
   "metadata": {},
   "outputs": [
    {
     "name": "stdout",
     "output_type": "stream",
     "text": [
      "Hi\n"
     ]
    }
   ],
   "source": [
    "# 함수\n",
    "\n",
    "# 입력값이 없고 결과값만 있는 함수\n",
    "\n",
    "def say():\n",
    "    return \"Hi\"\n",
    "\n",
    "a = say()\n",
    "print(a)"
   ]
  },
  {
   "cell_type": "code",
   "execution_count": 3,
   "metadata": {},
   "outputs": [
    {
     "name": "stdout",
     "output_type": "stream",
     "text": [
      "3, 4 의 합은 7 입니다.\n"
     ]
    }
   ],
   "source": [
    "# 입력값이 있고 결과값이 없는 함수\n",
    "# print문은 함수의 구성 요소중 하나인 수행할 문장에 대당하는 부분일 뿐임\n",
    "\n",
    "def sum(a, b):\n",
    "    print(\"%d, %d 의 합은 %d 입니다.\" %(a, b, a+b))\n",
    "\n",
    "sum(3, 4)"
   ]
  },
  {
   "cell_type": "code",
   "execution_count": 4,
   "metadata": {},
   "outputs": [
    {
     "name": "stdout",
     "output_type": "stream",
     "text": [
      "Hi\n"
     ]
    }
   ],
   "source": [
    "# 입력값도, 결과값도 없는 함수\n",
    "\n",
    "def say():\n",
    "    print(\"Hi\")\n",
    "    \n",
    "say()"
   ]
  },
  {
   "cell_type": "code",
   "execution_count": 5,
   "metadata": {},
   "outputs": [
    {
     "data": {
      "text/plain": [
       "15"
      ]
     },
     "execution_count": 5,
     "metadata": {},
     "output_type": "execute_result"
    }
   ],
   "source": [
    "# 여러개의 입력값을 받는 함수 만들기\n",
    "# *args 처럼 변수명 앞에 *을 붙이면 입력값들을 전부 모아서 튜플로 만들어줌\n",
    "\n",
    "def sum_many(*args):\n",
    "    sum = 0\n",
    "    for i in args:\n",
    "        sum += i\n",
    "    return sum\n",
    "\n",
    "sum_many(1,2,3,4,5)"
   ]
  },
  {
   "cell_type": "code",
   "execution_count": 7,
   "metadata": {},
   "outputs": [
    {
     "name": "stdout",
     "output_type": "stream",
     "text": [
      "15\n",
      "120\n"
     ]
    }
   ],
   "source": [
    "# 여러개의 입력값을 받는 함수\n",
    "\n",
    "def sum_mul(choice, *args):\n",
    "    if choice == \"sum\":\n",
    "        result = 0\n",
    "        for i in args:\n",
    "            result += i\n",
    "    elif choice == \"mul\":\n",
    "        result = 1\n",
    "        for i in args:\n",
    "            result *= i\n",
    "    return result\n",
    "\n",
    "print(sum_mul(\"sum\", 1,2,3,4,5))\n",
    "print(sum_mul(\"mul\", 1,2,3,4,5))"
   ]
  },
  {
   "cell_type": "code",
   "execution_count": 10,
   "metadata": {},
   "outputs": [
    {
     "name": "stdout",
     "output_type": "stream",
     "text": [
      "70\n",
      "0.026041666666666668\n"
     ]
    }
   ],
   "source": [
    "# Q. 뺄셈, 나눗셈 멀티 계산 함수\n",
    "\n",
    "def sub_div(choice, *args):\n",
    "    if choice == \"sub\":\n",
    "        result = 100\n",
    "        for i in args:\n",
    "            result -= i\n",
    "    elif choice == \"div\":\n",
    "        result = 100\n",
    "        for i in args:\n",
    "            result /= i\n",
    "    return result\n",
    "\n",
    "print(sub_div(\"sub\", 2,4,6,8,10))\n",
    "print(sub_div(\"div\", 2,4,6,8,10))"
   ]
  },
  {
   "cell_type": "code",
   "execution_count": 11,
   "metadata": {},
   "outputs": [
    {
     "name": "stdout",
     "output_type": "stream",
     "text": [
      "(7, 12)\n"
     ]
    }
   ],
   "source": [
    "# 함수의 반환(실제값)은 언제나 하나임 - 결과값으로 튜플 값 하나를 갖게 됨\n",
    "\n",
    "def sum_and_mul(a,b):\n",
    "    return a+b, a*b\n",
    "\n",
    "result = sum_and_mul(3,4)\n",
    "print(result)"
   ]
  },
  {
   "cell_type": "code",
   "execution_count": 12,
   "metadata": {},
   "outputs": [
    {
     "name": "stdout",
     "output_type": "stream",
     "text": [
      "7\n",
      "12\n"
     ]
    }
   ],
   "source": [
    "# 하나의 튜플 값을 2개의 결과값처럼 받고 싶다면 다음과 같이 함수를 호출\n",
    "\n",
    "result1, result2 = sum_and_mul(3,4)\n",
    "print(result1)\n",
    "print(result2)"
   ]
  },
  {
   "cell_type": "code",
   "execution_count": 13,
   "metadata": {},
   "outputs": [
    {
     "name": "stdout",
     "output_type": "stream",
     "text": [
      "5\n"
     ]
    }
   ],
   "source": [
    "# 함수는 return문을 만나는 순간 결과값을 돌려준 다음 함수를 빠져나가며\n",
    "# 두번째 return문은 실행되지 않음\n",
    "\n",
    "def sum_and_mul(a,b):\n",
    "    return a+b\n",
    "    return a*b\n",
    "result = sum_and_mul(2,3)\n",
    "print(result)"
   ]
  },
  {
   "cell_type": "code",
   "execution_count": 16,
   "metadata": {},
   "outputs": [
    {
     "name": "stdout",
     "output_type": "stream",
     "text": [
      "나의 별명은 야호 입니다\n"
     ]
    }
   ],
   "source": [
    "# 문자열을 출력한다는 것과 리턴값이 있다는 것은 전혀 다른 말임\n",
    "\n",
    "def say_nick(nick):\n",
    "    if nick == \"바보\":\n",
    "        return \"아니야!\"\n",
    "    print(\"나의 별명은 %s 입니다\" % nick)\n",
    "    \n",
    "say_nick(\"야호\")"
   ]
  },
  {
   "cell_type": "code",
   "execution_count": 17,
   "metadata": {},
   "outputs": [
    {
     "name": "stdout",
     "output_type": "stream",
     "text": [
      "나의 이름은 홍길동 입니다.\n",
      "나이는 20살 입니다.\n",
      "남자입니다.\n"
     ]
    }
   ],
   "source": [
    "# 입력 인수에 초기값 미리 설정하기\n",
    "\n",
    "def say_myself(name, old, man=True):\n",
    "    print(\"나의 이름은 %s 입니다.\" % name)\n",
    "    print(\"나이는 %d살 입니다.\" % old)\n",
    "    if man:\n",
    "        print(\"남자입니다.\")\n",
    "    else:\n",
    "        print(\"여자입니다.\")\n",
    "\n",
    "# say_myself(\"홍길동\", 20) man이라는 변수에는 입력값을 주지 않았지만 초기값인 True값을 갖게 됨.\n",
    "# say_myself(\"홍길동\", 20, True)\n",
    "say_myself(\"홍길동\", 20)"
   ]
  },
  {
   "cell_type": "code",
   "execution_count": 18,
   "metadata": {},
   "outputs": [
    {
     "ename": "SyntaxError",
     "evalue": "non-default argument follows default argument (<ipython-input-18-6fc01e34d02a>, line 4)",
     "output_type": "error",
     "traceback": [
      "\u001b[1;36m  File \u001b[1;32m\"<ipython-input-18-6fc01e34d02a>\"\u001b[1;36m, line \u001b[1;32m4\u001b[0m\n\u001b[1;33m    def say_myself(name, man=True, old):\u001b[0m\n\u001b[1;37m                  ^\u001b[0m\n\u001b[1;31mSyntaxError\u001b[0m\u001b[1;31m:\u001b[0m non-default argument follows default argument\n"
     ]
    }
   ],
   "source": [
    "# 초기값을 설정해 놓은 인수 뒤에 초기값을 설정해 놓지 않은 입력 인수는 사용할 수 없음 (초기값은 맨 끝 매개변수에 입력)\n",
    "# (name, man=True, old)는 오류 발생\n",
    "\n",
    "def say_myself(name, man=True, old):\n",
    "    print(\"나의 이름은 %s 입니다.\" % name)\n",
    "    print(\"나이는 %d살 입니다.\" % old)\n",
    "    if man:\n",
    "        print(\"남자입니다.\")\n",
    "    else:\n",
    "        print(\"여자입니다.\")\n",
    "\n",
    "say_myself(\"홍길동\", 20)"
   ]
  },
  {
   "cell_type": "code",
   "execution_count": 19,
   "metadata": {},
   "outputs": [
    {
     "name": "stdout",
     "output_type": "stream",
     "text": [
      "None\n",
      "1\n"
     ]
    }
   ],
   "source": [
    "# 함수 안에서 선언된 변수의 효력 범위\n",
    "\n",
    "a = 1\n",
    "def vartest(a):\n",
    "    a = a + 1\n",
    "    \n",
    "print(vartest(a))\n",
    "print(a)"
   ]
  },
  {
   "cell_type": "code",
   "execution_count": 20,
   "metadata": {},
   "outputs": [
    {
     "name": "stdout",
     "output_type": "stream",
     "text": [
      "2\n"
     ]
    }
   ],
   "source": [
    "# 함수 안에서 함수 밖의 변수를 변경하는 방법\n",
    "# return을 이용하는 방법\n",
    "\n",
    "a = 1\n",
    "def vartest(a):\n",
    "    a = a + 1\n",
    "    return a\n",
    "a = vartest(a)\n",
    "print(a)"
   ]
  },
  {
   "cell_type": "code",
   "execution_count": 21,
   "metadata": {},
   "outputs": [
    {
     "name": "stdout",
     "output_type": "stream",
     "text": [
      "2\n"
     ]
    }
   ],
   "source": [
    "# global 명령을 이용하는 방법\n",
    "# global a라는 문장은 함수 안에서 함수 밖의 a 변수를 직접 사용하겠다는 의미\n",
    "# 함수는 독립적으로 존재하는 것이 좋기 때문에 외부 변수에 종속적인 함수는 비추천\n",
    "\n",
    "a = 1\n",
    "def vartest():\n",
    "    global a\n",
    "    a= a + 1\n",
    "vartest()\n",
    "print(a)"
   ]
  },
  {
   "cell_type": "code",
   "execution_count": 22,
   "metadata": {},
   "outputs": [
    {
     "name": "stdout",
     "output_type": "stream",
     "text": [
      "123\n"
     ]
    },
    {
     "data": {
      "text/plain": [
       "'123'"
      ]
     },
     "execution_count": 22,
     "metadata": {},
     "output_type": "execute_result"
    }
   ],
   "source": [
    "# 사용자 입력과 출력\n",
    "\n",
    "a = input()\n",
    "a"
   ]
  },
  {
   "cell_type": "code",
   "execution_count": 23,
   "metadata": {},
   "outputs": [
    {
     "name": "stdout",
     "output_type": "stream",
     "text": [
      "숫자를 입력하세요 : 111\n"
     ]
    }
   ],
   "source": [
    "number = input(\"숫자를 입력하세요 : \")"
   ]
  },
  {
   "cell_type": "code",
   "execution_count": 24,
   "metadata": {},
   "outputs": [
    {
     "name": "stdout",
     "output_type": "stream",
     "text": [
      "1\n",
      "1\n",
      "2\n",
      "2\n",
      "3\n",
      "3\n",
      "\n"
     ]
    }
   ],
   "source": [
    "while 1:\n",
    "    data = input()\n",
    "    if not data: break\n",
    "    print(data)"
   ]
  },
  {
   "cell_type": "code",
   "execution_count": 25,
   "metadata": {},
   "outputs": [
    {
     "name": "stdout",
     "output_type": "stream",
     "text": [
      "lifeistooshort\n",
      "lifeistooshort\n",
      "life is too short\n"
     ]
    }
   ],
   "source": [
    "# 큰 따옴표로 둘러쌓인 문자열은 + 연산과 동일함\n",
    "# 문자열 띄어쓰기는 콤마로 함\n",
    "\n",
    "print(\"life\" \"is\" \"too\" \"short\")\n",
    "print(\"life\"+\"is\"+\"too\"+\"short\")\n",
    "print(\"life\",\"is\",\"too\",\"short\")"
   ]
  },
  {
   "cell_type": "code",
   "execution_count": 28,
   "metadata": {},
   "outputs": [
    {
     "name": "stdout",
     "output_type": "stream",
     "text": [
      "0 1 2 3 4 0\n",
      "1\n",
      "2\n",
      "3\n",
      "4\n"
     ]
    }
   ],
   "source": [
    "# 한줄에 결과값 출력하기\n",
    "\n",
    "for i in range(5):\n",
    "    print(i, end = \" \")\n",
    "\n",
    "for i in range(5):\n",
    "    print(i)"
   ]
  },
  {
   "cell_type": "code",
   "execution_count": 29,
   "metadata": {},
   "outputs": [],
   "source": [
    "# 파일 읽고 쓰기\n",
    "\n",
    "f = open(\"test1.txt\", \"w\")\n",
    "f.close()"
   ]
  },
  {
   "cell_type": "code",
   "execution_count": 30,
   "metadata": {},
   "outputs": [],
   "source": [
    "f = open(\"test1.txt\", \"w\")\n",
    "for i in range(1, 11):\n",
    "    data = \"%d번째 줄 입니다.\\n\" % i\n",
    "    f.write(data)\n",
    "f.close()"
   ]
  },
  {
   "cell_type": "code",
   "execution_count": 33,
   "metadata": {},
   "outputs": [
    {
     "name": "stdout",
     "output_type": "stream",
     "text": [
      "1번째 줄 입니다.\n",
      "\n"
     ]
    }
   ],
   "source": [
    "# 프로그램의 외부에 저장된 파일을 읽는 방법\n",
    "\n",
    "f = open(\"test1.txt\", \"r\")\n",
    "while True:\n",
    "    line = f.readline()\n",
    "    print(line)\n",
    "    break\n",
    "f.close()"
   ]
  },
  {
   "cell_type": "code",
   "execution_count": null,
   "metadata": {},
   "outputs": [],
   "source": [
    "# readlines 함수는 파일의 모든 줄을 읽어서 각각의 줄을 요소로 갖는 리스트로 돌려준다.\n",
    "# f.readline()과는 달리 s가 하나 더 붙어 있음에 유의\n",
    "\n",
    "f = open(\"test1.txt\", \"r\")\n",
    "lines = f.readlines()\n",
    "for line in lines:\n",
    "    print(line)\n",
    "f.close()"
   ]
  },
  {
   "cell_type": "code",
   "execution_count": null,
   "metadata": {},
   "outputs": [],
   "source": [
    "# f.read()는 파일의 내용 전체를 문자열로 돌려준다\n",
    "\n",
    "f = open(\"test1.txt\", \"r\")\n",
    "data = f.read()\n",
    "print(data)\n",
    "f.close()"
   ]
  },
  {
   "cell_type": "code",
   "execution_count": 36,
   "metadata": {},
   "outputs": [],
   "source": [
    "# 파일에 새로운 내용 추가하기\n",
    "\n",
    "f = open(\"test1.txt\", \"a\")\n",
    "for i in range(11, 16):\n",
    "    data = \"%d번째 줄 입니다.\\n\" % i\n",
    "    f.write(data)\n",
    "f.close()"
   ]
  },
  {
   "cell_type": "code",
   "execution_count": 38,
   "metadata": {},
   "outputs": [],
   "source": [
    "# with문을 사용하면 with block을 벗어나는 순간 객체 f가 자동으로 close됨\n",
    "\n",
    "with open(\"test2.txt\", \"w\") as f:\n",
    "    f.write(\"파이썬은 재미 있습니다.\")"
   ]
  },
  {
   "cell_type": "code",
   "execution_count": 39,
   "metadata": {},
   "outputs": [
    {
     "name": "stdout",
     "output_type": "stream",
     "text": [
      "파이썬은 재미 있습니다.\n"
     ]
    }
   ],
   "source": [
    "with open(\"test2.txt\", \"r\") as f:\n",
    "    data = f.read()\n",
    "    print(data)"
   ]
  },
  {
   "cell_type": "code",
   "execution_count": 40,
   "metadata": {},
   "outputs": [
    {
     "name": "stdout",
     "output_type": "stream",
     "text": [
      "3\n",
      "7\n"
     ]
    }
   ],
   "source": [
    "# class의 필요성\n",
    "\n",
    "result = 0\n",
    "\n",
    "def add(num):\n",
    "    global result\n",
    "    result += num\n",
    "    return result\n",
    "\n",
    "print(add(3))\n",
    "print(add(4))"
   ]
  },
  {
   "cell_type": "code",
   "execution_count": 43,
   "metadata": {},
   "outputs": [
    {
     "name": "stdout",
     "output_type": "stream",
     "text": [
      "3\n",
      "7\n",
      "3\n",
      "10\n"
     ]
    }
   ],
   "source": [
    "# Calculator 클래스로 만들어진 cal1, cal2라는 별개의 계산기(이스턴스)가 각각의 역할 수행\n",
    "# class를 이용하면 계산기의 개수가 늘어나도 인스턴스를 생성하기만 하면 됨.\n",
    "\n",
    "class Calculator:\n",
    "    def __init__(self):    # __init__ -> 생성자\n",
    "        self.result = 0\n",
    "    def adder(self, num):\n",
    "        self.result += num\n",
    "        return self.result\n",
    "\n",
    "cal1 = Calculator()\n",
    "cal2 = Calculator()\n",
    "\n",
    "print(cal1.adder(3))\n",
    "print(cal1.adder(4))\n",
    "print(cal2.adder(3))\n",
    "print(cal2.adder(7))"
   ]
  },
  {
   "cell_type": "code",
   "execution_count": null,
   "metadata": {},
   "outputs": [],
   "source": [
    "# 사칙연산 클래스 만들기\n",
    "# 객체에 숫자 지정할 수 있게 만들기\n",
    "# setdata 메서드에는 self, first, second 총 3개의 매개변수가 필요한데 실제로는\n",
    "# a.setdata(4, 2)처럼 2개 값만 전달.\n",
    "# 이유는 a.setdata(4, 2)처럼 호출하면 setdata 메서드의 첫 번째 매개변수 self에는 \n",
    "# setdata메서드를 호출한 객체 a가 자동으로 전달되기 때문임.\n",
    "# 메서드의 첫번째 매개변수 self를 명시적으로 구현하는 것은 파이썬만의 독특한 특징.\n",
    "\n",
    "class FourCal:\n",
    "    def setdata(self, first, second):\n",
    "        self.first = first\n",
    "        self.second = second\n",
    "        \n",
    "a = FourCal()\n",
    "a.setdata(4, 2)\n",
    "print(a.first)\n",
    "print(a.second)\n",
    "\n",
    "b = FourCal()\n",
    "b.setdata(3, 7)\n",
    "print(b.first)\n",
    "print(b.second)"
   ]
  },
  {
   "cell_type": "code",
   "execution_count": null,
   "metadata": {},
   "outputs": [],
   "source": [
    "# 생성자(Constructor)란 객체가 생성될때 자돌르오 호출되는 메서드를 의미\n",
    "# 파이썬 메서드 이름으로 __init__를 사용하면 이 메서드는 생성자가 된다.\n",
    "# __init__메서드는 setdata메서드와 이름만 다르고 모든게 동일하나 메서드 이름을 __init__으로 했기때문에 \n",
    "# 생성되는 시점에 자동으로 호출\n",
    "# __init__메서드도 다른 메서드와 마찬가지로 첫 번째 매개면서 self에 생성되는 객체가 자동으로 전달\n",
    "# __init__메서드가 호출되면 setdata메서드를 호출했을 때 마찬가지로 first와 second라는 객체 변수가 생성\n",
    " "
   ]
  },
  {
   "cell_type": "code",
   "execution_count": 70,
   "metadata": {},
   "outputs": [
    {
     "name": "stdout",
     "output_type": "stream",
     "text": [
      "용\n",
      "용\n"
     ]
    }
   ],
   "source": [
    "class House:\n",
    "    lastname = \"용\"\n",
    "    \n",
    "pey = HousePark()\n",
    "pes = HousePark()\n",
    "print(pey.lastname)\n",
    "print(pes.lastname)"
   ]
  },
  {
   "cell_type": "code",
   "execution_count": 69,
   "metadata": {},
   "outputs": [
    {
     "name": "stdout",
     "output_type": "stream",
     "text": [
      "용광순\n"
     ]
    }
   ],
   "source": [
    "class House:\n",
    "    lastname = \"용\"\n",
    "    \n",
    "    def setname(self, name):\n",
    "        self.fullname = self.lastname + name\n",
    "        \n",
    "pey = House()\n",
    "pey.setname(\"광순\")\n",
    "\n",
    "print(pey.fullname)"
   ]
  },
  {
   "cell_type": "code",
   "execution_count": 53,
   "metadata": {
    "scrolled": true
   },
   "outputs": [
    {
     "name": "stdout",
     "output_type": "stream",
     "text": [
      "용광순, 미국 여행을 가다\n"
     ]
    }
   ],
   "source": [
    "class House:\n",
    "    lastname = \"용\"\n",
    "    \n",
    "    def setname(self, name):\n",
    "        self.fullname = self.lastname + name\n",
    "        \n",
    "    def travel(self, where):\n",
    "        print(\"%s, %s 여행을 가다\" % (self.fullname, where))\n",
    "        \n",
    "pey = House()\n",
    "pey.setname(\"광순\")\n",
    "pey.travel(\"미국\")"
   ]
  },
  {
   "cell_type": "code",
   "execution_count": null,
   "metadata": {},
   "outputs": [],
   "source": [
    "# 오류발생은 travel 함수가 self.fullname이라는 변수를 필요로 하기 때문임\n",
    "pey = House()\n",
    "pey.travel(\"미국\")\n",
    "\n",
    "# AttributeError: 'House' object has no attribute 'fullname'"
   ]
  },
  {
   "cell_type": "code",
   "execution_count": 94,
   "metadata": {},
   "outputs": [
    {
     "name": "stdout",
     "output_type": "stream",
     "text": [
      "용광순, 영국 여행을 가다\n",
      "용준순, 중국 우한 여행을 가다\n"
     ]
    }
   ],
   "source": [
    "# __init__메서드를 이용하면 인스턴스를 만드는 동시에 초기값을 줄 수 있음\n",
    "\n",
    "class House:\n",
    "    lastname = \"용\"\n",
    "    \n",
    "    def __init__(self, name):\n",
    "        self.fullname = self.lastname + name\n",
    "    \n",
    "    def travel(self, where):\n",
    "        print(\"%s, %s 여행을 가다\" % (self.fullname, where))\n",
    "        \n",
    "pey = House(\"광순\")\n",
    "pey2 = House(\"준순\")\n",
    "pey.travel(\"영국\")\n",
    "pey2.travel(\"중국 우한\") "
   ]
  },
  {
   "cell_type": "code",
   "execution_count": 95,
   "metadata": {
    "scrolled": true
   },
   "outputs": [],
   "source": [
    "# 클래스의 상속\n",
    "\n",
    "class HouseKim(House):\n",
    "    lastname = \"김\"\n"
   ]
  },
  {
   "cell_type": "code",
   "execution_count": 96,
   "metadata": {},
   "outputs": [
    {
     "name": "stdout",
     "output_type": "stream",
     "text": [
      "김유신, 울릉도 여행을 가다\n"
     ]
    }
   ],
   "source": [
    "ys = HouseKim(\"유신\")\n",
    "ys.travel(\"울릉도\")"
   ]
  },
  {
   "cell_type": "code",
   "execution_count": 59,
   "metadata": {},
   "outputs": [
    {
     "name": "stdout",
     "output_type": "stream",
     "text": [
      "이몽룡, 서울 여행을 가다\n"
     ]
    }
   ],
   "source": [
    "class HouseLee:\n",
    "    lastname = \"이\"\n",
    "    \n",
    "    def __init__(self, name):\n",
    "        self.fullname = self.lastname + name\n",
    "        \n",
    "    def travel(self, where):\n",
    "        print(\"%s, %s 여행을 가다\" % (self.fullname, where))\n",
    "\n",
    "mr = HouseLee(\"몽룡\")\n",
    "mr.travel(\"서울\")"
   ]
  },
  {
   "cell_type": "code",
   "execution_count": 67,
   "metadata": {},
   "outputs": [
    {
     "name": "stdout",
     "output_type": "stream",
     "text": [
      "성춘향, 목포 여행 4일 가네\n"
     ]
    }
   ],
   "source": [
    "# 메서드 오버라이딩\n",
    "# 동일한 이름의 travel 함수를 HouseSung 클래스 내에서 다시 구현\n",
    "# 이렇게 메서드 이름을 동일하게 다시 구현하는것을 메서드 오버라이딩이라고 함\n",
    "\n",
    "class HouseSung(HouseLee):\n",
    "    lastname = \"성\"\n",
    "    \n",
    "    def travel(self, where, day):\n",
    "        print(\"%s, %s 여행 %d일 가네\" % (self.fullname, where, day))\n",
    "        \n",
    "ch = HouseSung(\"춘향\")\n",
    "ch.travel(\"목포\", 4)"
   ]
  },
  {
   "cell_type": "code",
   "execution_count": 84,
   "metadata": {},
   "outputs": [
    {
     "name": "stdout",
     "output_type": "stream",
     "text": [
      "이몽룡, 성춘향 사랑에 빠졌네\n",
      "이몽룡, 성춘향 결혼했네\n"
     ]
    }
   ],
   "source": [
    "# 연산자 오버로딩\n",
    "# 연산자를 객체끼리 사용할 수 있게 하는 방법\n",
    "# + 연산자를 객체에 사용하면 __add__ 라는 함수가 호출됨\n",
    "\n",
    "class HouseLee:\n",
    "    lastname = \"이\"\n",
    "    \n",
    "    def __init__(self, name):\n",
    "        self.fullname = self.lastname + name\n",
    "    \n",
    "    def travel(self, where):\n",
    "        print(\"%s, %s 여행을 가다\" % (self.fullname, where))\n",
    "    \n",
    "    def love(self, other):\n",
    "        print(\"%s, %s 사랑에 빠졌네\" % (self.fullname, other.fullname))\n",
    "    \n",
    "    def __add__(self, other):\n",
    "        print(\"%s, %s 결혼했네\" % (self.fullname, other.fullname))\n",
    "        \n",
    "class HouseSung(HouseLee):\n",
    "    lastname = \"성\"\n",
    "    \n",
    "    def travel(self, where, day):\n",
    "        print(\"%s, %s 여행 %d일 가네\" % (self.fullname, where, day))\n",
    "\n",
    "mr = HouseLee(\"몽룡\")\n",
    "ch = HouseSung(\"춘향\")\n",
    "mr.love(ch)\n",
    "mr + ch"
   ]
  },
  {
   "cell_type": "code",
   "execution_count": 3,
   "metadata": {},
   "outputs": [
    {
     "name": "stdout",
     "output_type": "stream",
     "text": [
      "이몽룡, 부산클럽에 놀러가다.\n",
      "성춘향, 부산클럽에 3일동안 놀러가다.\n",
      "이몽룡, 성춘향 썸을타지만 일정때문에 각자 서울로 돌아간다.\n",
      "1년뒤..이몽룡, 성춘향 둘은 강남클럽에서 우연히 재회한다.\n",
      "이몽룡, 성춘향 둘은 결국 연인이 되었다.\n"
     ]
    }
   ],
   "source": [
    "# Q. 부산발 이몽룡 성춘향 러브스토리 만들기\n",
    "# 이몽룡은 부산 클럽에 놀러가고 성춘향도 우연히 3일동안 부산 클럽에 놀러간다.\n",
    "# 둘은 썸을 타지만 일정 때문에 각자 서울로 돌아간다.\n",
    "# 1년 뒤 강남 클럽에서 둘은 우연히 재회를 한다.\n",
    "# 그러다가 연인이 된다.\n",
    "\n",
    "class HouseLee:\n",
    "    lastname = \"이\"\n",
    "    \n",
    "    def __init__(self, name):\n",
    "        self.fullname = self.lastname + name\n",
    "    def travel(self, where):\n",
    "        print(\"%s, %s클럽에 놀러가다.\" % (self.fullname, where))\n",
    "    def some(self, other):\n",
    "        print(\"%s, %s 썸을타지만 일정때문에 각자 서울로 돌아간다.\" % (self.fullname, other.fullname))\n",
    "    def again(self, other, where ,year):\n",
    "        print(\"%d년뒤..%s, %s 둘은 %s클럽에서 우연히 재회한다.\" % (year, self.fullname, other.fullname, where))\n",
    "    def __add__(self, other):\n",
    "        print(\"%s, %s 둘은 결국 연인이 되었다.\" % (self.fullname, other.fullname))\n",
    "        \n",
    "class HouseSung(HouseLee):\n",
    "    lastname = \"성\"\n",
    "    \n",
    "    def travel(self, where, when):\n",
    "        print(\"%s, %s클럽에 %s일동안 놀러가다.\" % (self.fullname, where, when))\n",
    "    \n",
    "mr = HouseLee(\"몽룡\")\n",
    "ch = HouseSung(\"춘향\")\n",
    "mr.travel(\"부산\")\n",
    "ch.travel(\"부산\", 3)\n",
    "mr.some(ch)\n",
    "mr.again(ch, \"강남\", 1)\n",
    "mr + ch"
   ]
  }
 ],
 "metadata": {
  "kernelspec": {
   "display_name": "Python 3",
   "language": "python",
   "name": "python3"
  },
  "language_info": {
   "codemirror_mode": {
    "name": "ipython",
    "version": 3
   },
   "file_extension": ".py",
   "mimetype": "text/x-python",
   "name": "python",
   "nbconvert_exporter": "python",
   "pygments_lexer": "ipython3",
   "version": "3.7.6"
  }
 },
 "nbformat": 4,
 "nbformat_minor": 4
}
