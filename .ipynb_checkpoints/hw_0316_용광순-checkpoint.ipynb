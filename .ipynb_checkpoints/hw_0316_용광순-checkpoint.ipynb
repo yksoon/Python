{
 "cells": [
  {
   "cell_type": "markdown",
   "metadata": {},
   "source": [
    "#### Q. 파이썬 외장함수 random을 이용하여 아래사항들을 출력하세요.\n",
    "- 0.0<= x <1.0 사이의 float를 랜덤하게 선택\n",
    "- 10에서 20사이의 정수중에서 난수값 선택\n",
    "- 10보다 적은 int 선택\n",
    "- 20과 30사이의 float 선택\n",
    "- [6,7,8,9,10 ]리스트 내부에 있는 요소를 랜덤하게 선택\n",
    "- [6,7,8,9,10 ]리스트 내부에 있는 요소중 k개 선택"
   ]
  },
  {
   "cell_type": "code",
   "execution_count": 4,
   "metadata": {},
   "outputs": [
    {
     "name": "stdout",
     "output_type": "stream",
     "text": [
      "0.5747966981745147\n",
      "14\n",
      "1\n",
      "20.481618370632813\n",
      "6\n",
      "[7, 6]\n"
     ]
    }
   ],
   "source": [
    "import random\n",
    "print(random.random())\n",
    "print(random.randint(10, 20))\n",
    "print(random.randrange(10))\n",
    "print(random.uniform(20, 30))\n",
    "print(random.choice([6,7,8,9,10]))\n",
    "print(random.sample([6,7,8,9,10], k=2))"
   ]
  },
  {
   "cell_type": "markdown",
   "metadata": {},
   "source": [
    "#### Q. 주어진 데이터에서 랜덤으로 하나를 선택하여 꺼낸 다음 그 값을 출력하고 꺼내진 요소를 제외시킨 리스트를 출력하세요.\n",
    "data = [1,2,3,4,5,6,7,8,9,10]"
   ]
  },
  {
   "cell_type": "code",
   "execution_count": 26,
   "metadata": {},
   "outputs": [
    {
     "name": "stdout",
     "output_type": "stream",
     "text": [
      "9\n",
      "[1, 2, 3, 4, 5, 6, 7, 8, 10]\n"
     ]
    }
   ],
   "source": [
    "import random\n",
    "\n",
    "data = [1,2,3,4,5,6,7,8,9,10]\n",
    "\n",
    "r = random.choice(data)\n",
    "print(r)\n",
    "data.remove(r)\n",
    "print(data)"
   ]
  },
  {
   "cell_type": "markdown",
   "metadata": {},
   "source": [
    "#### Q. 넘파이 random을 이용하여 아래사항들을 출력하세요.\n",
    "- 0부터 10까지 랜덤한 숫자 1개\n",
    "- 0부터 1사이의 균일분포에서 난수 5개로 구성되는 배열 생성\n",
    "- 평균 0, 표준편차 1의 가우시안 표준정규분포에서 난수 10개로 구성되는 배열 생성"
   ]
  },
  {
   "cell_type": "code",
   "execution_count": 50,
   "metadata": {},
   "outputs": [
    {
     "name": "stdout",
     "output_type": "stream",
     "text": [
      "1\n",
      "[0.8360851  0.70065831 0.592981   0.98882918 0.13748952]\n",
      "[ 0.30347121 -0.84289898  0.3600417   0.2030275  -0.97970399 -1.10517597\n",
      "  0.85794843  0.93238983 -0.01331528 -1.26782705]\n"
     ]
    }
   ],
   "source": [
    "import numpy as np\n",
    "\n",
    "print(np.random.randint(10)+1)\n",
    "print(np.random.rand(5))\n",
    "print(np.random.randn(10))"
   ]
  },
  {
   "cell_type": "markdown",
   "metadata": {},
   "source": [
    "#### Q. 넘파이 random을 이용하여 아래사항들을 출력하세요.\n",
    "- [6,7,8,9,10] 리스트의 데이터의 순서 바꾸기"
   ]
  },
  {
   "cell_type": "code",
   "execution_count": 60,
   "metadata": {},
   "outputs": [
    {
     "name": "stdout",
     "output_type": "stream",
     "text": [
      "[10, 7, 9, 8, 6]\n"
     ]
    }
   ],
   "source": [
    "import numpy as np\n",
    "\n",
    "list = [6,7,8,9,10]\n",
    "\n",
    "np.random.shuffle(list)\n",
    "print(list)"
   ]
  },
  {
   "cell_type": "markdown",
   "metadata": {},
   "source": [
    "#### Q. 넘파이 random을 이용하여 아래사항들을 출력하세요.\n",
    "- 10보다 적은 정수에서 랜덤으로 중복되지 않게 5개를 선택 배열을 생성하세요.\n",
    "- c1 = [6,7,8,9,10] 배열에서 랜덤으로 중복 선택이 가능하게 5개를 선택, 배열을 생성하세요."
   ]
  },
  {
   "cell_type": "markdown",
   "metadata": {},
   "source": [
    "#### Q. 넘파이 random을 이용하여 2.0보다 크거나 3.0보다 작은 5개의 수를 출력하세요."
   ]
  },
  {
   "cell_type": "code",
   "execution_count": 5,
   "metadata": {},
   "outputs": [
    {
     "data": {
      "text/plain": [
       "array([2.28881165, 2.76084659, 2.80996922, 2.58393714, 2.11622294])"
      ]
     },
     "execution_count": 5,
     "metadata": {},
     "output_type": "execute_result"
    }
   ],
   "source": [
    "import numpy as np\n",
    "\n",
    "np.random.uniform(2.0, 3.0, 5)"
   ]
  },
  {
   "cell_type": "markdown",
   "metadata": {},
   "source": [
    "#### Q. 넘파이 random을 이용하여 0.0보다 크거나 1.0보다 작은 (3,3) 2차원 배열을 2가지 방식으로 출력하세요."
   ]
  },
  {
   "cell_type": "code",
   "execution_count": 8,
   "metadata": {},
   "outputs": [
    {
     "name": "stdout",
     "output_type": "stream",
     "text": [
      "[[0.14919775 0.26000902 0.9118236 ]\n",
      " [0.83819718 0.59020375 0.47683026]\n",
      " [0.72377954 0.34055034 0.14786302]]\n",
      "[[0.14112719 0.82432155 0.49704246]\n",
      " [0.3558821  0.28559461 0.49579546]\n",
      " [0.27001442 0.13813803 0.79030061]]\n"
     ]
    }
   ],
   "source": [
    "import numpy as np\n",
    "\n",
    "mt1 = np.random.sample((3,3))\n",
    "mt2 = np.random.uniform(0.0, 1.0, (3,3))\n",
    "print(mt1)\n",
    "print(mt2)"
   ]
  },
  {
   "cell_type": "markdown",
   "metadata": {},
   "source": [
    "#### Q. 앞(head) 또는 뒤(tail) (n=1) 가 나올 확률이 각각 50%(p=0.5)인 동전 던지기를 20번(size=20) 수행한 결과를 배열로 출력하세요."
   ]
  },
  {
   "cell_type": "code",
   "execution_count": 62,
   "metadata": {},
   "outputs": [
    {
     "data": {
      "text/plain": [
       "array([1, 0, 1, 0, 1, 0, 0, 1, 0, 0, 0, 1, 1, 0, 0, 1, 1, 0, 1, 1])"
      ]
     },
     "execution_count": 62,
     "metadata": {},
     "output_type": "execute_result"
    }
   ],
   "source": [
    "import numpy as np\n",
    "\n",
    "np.random.binomial(n=1, p=0.5, size=20)"
   ]
  },
  {
   "cell_type": "markdown",
   "metadata": {},
   "source": [
    "#### Q. (2,3,4) 3차원 배열 형태로 정규분포(np.random.normal)로 부터 무작위 샘플을 생성"
   ]
  },
  {
   "cell_type": "code",
   "execution_count": 69,
   "metadata": {},
   "outputs": [
    {
     "name": "stdout",
     "output_type": "stream",
     "text": [
      "[[[ 0.29619211 -0.86996014  0.18820347 -0.0550979 ]\n",
      "  [-1.1489221   0.81244813  1.26677602 -0.29500329]\n",
      "  [-0.45915719 -0.95436147  1.39535308  1.18203439]]\n",
      "\n",
      " [[-0.14979668  1.45325686 -0.17848111  0.94317521]\n",
      "  [ 0.53396561 -0.93256698 -1.63472646 -1.8427666 ]\n",
      "  [-0.95258777  0.41112085 -1.29507903  1.27833096]]]\n"
     ]
    }
   ],
   "source": [
    "import numpy as np\n",
    "\n",
    "print(np.random.normal(size=(2,3,4)))"
   ]
  },
  {
   "cell_type": "markdown",
   "metadata": {},
   "source": [
    "#### Q. [4 7 7 1 9]에서 중복되지 않는 원소 배열과 각 원소의 중복 개수 배열을 출력하세요."
   ]
  },
  {
   "cell_type": "code",
   "execution_count": 71,
   "metadata": {},
   "outputs": [
    {
     "name": "stdout",
     "output_type": "stream",
     "text": [
      "[1 4 7 9]\n",
      "[1 1 2 1]\n"
     ]
    }
   ],
   "source": [
    "import numpy as np\n",
    "\n",
    "a = np.array([4,7,7,1,9])\n",
    "index, count = np.unique(a, return_counts=True)\n",
    "\n",
    "print(index)\n",
    "print(count)"
   ]
  },
  {
   "cell_type": "markdown",
   "metadata": {},
   "source": [
    "#### Q. [1, 1, 2, 2, 2, 3]에서 0 ~ 5에 해당하는 정수의 개수 배열을 출력하세요."
   ]
  },
  {
   "cell_type": "code",
   "execution_count": 74,
   "metadata": {},
   "outputs": [
    {
     "name": "stdout",
     "output_type": "stream",
     "text": [
      "[0 2 3 1 0]\n"
     ]
    }
   ],
   "source": [
    "import numpy as np\n",
    "\n",
    "print(np.bincount([1,1,2,2,2,3], minlength = 5))"
   ]
  },
  {
   "cell_type": "markdown",
   "metadata": {},
   "source": [
    "#### Q(응용) 'ID', 'Prod', 'Price' 3개의 column과 10개의 row으로 구성되는 데이터셋을 아래를 참조하여 생성하세요.\n",
    "- ID는 1 ~ 10으로 적용\n",
    "- Prod는 상품코드로서 np.random을 이용하여 10보다 적은 정수를 랜덤하게 선택\n",
    "- Price는 가격으로서 np.random을 이용하여 1000 보다 적은 양의 소수를 랜덤하게 선택\n",
    "- 3개의 컬럼을 결합하는 방법은 concat() 함수를 사용"
   ]
  },
  {
   "cell_type": "code",
   "execution_count": 10,
   "metadata": {},
   "outputs": [
    {
     "data": {
      "text/html": [
       "<div>\n",
       "<style scoped>\n",
       "    .dataframe tbody tr th:only-of-type {\n",
       "        vertical-align: middle;\n",
       "    }\n",
       "\n",
       "    .dataframe tbody tr th {\n",
       "        vertical-align: top;\n",
       "    }\n",
       "\n",
       "    .dataframe thead th {\n",
       "        text-align: right;\n",
       "    }\n",
       "</style>\n",
       "<table border=\"1\" class=\"dataframe\">\n",
       "  <thead>\n",
       "    <tr style=\"text-align: right;\">\n",
       "      <th></th>\n",
       "      <th>id</th>\n",
       "      <th>성별</th>\n",
       "      <th>연령</th>\n",
       "      <th>지역</th>\n",
       "      <th>상품</th>\n",
       "      <th>가격</th>\n",
       "    </tr>\n",
       "  </thead>\n",
       "  <tbody>\n",
       "    <tr>\n",
       "      <th>0</th>\n",
       "      <td>1</td>\n",
       "      <td>여</td>\n",
       "      <td>26</td>\n",
       "      <td>충북</td>\n",
       "      <td>식품</td>\n",
       "      <td>51000</td>\n",
       "    </tr>\n",
       "    <tr>\n",
       "      <th>1</th>\n",
       "      <td>2</td>\n",
       "      <td>여</td>\n",
       "      <td>49</td>\n",
       "      <td>충남</td>\n",
       "      <td>가전</td>\n",
       "      <td>76000</td>\n",
       "    </tr>\n",
       "    <tr>\n",
       "      <th>2</th>\n",
       "      <td>3</td>\n",
       "      <td>남</td>\n",
       "      <td>31</td>\n",
       "      <td>충남</td>\n",
       "      <td>가구</td>\n",
       "      <td>59000</td>\n",
       "    </tr>\n",
       "    <tr>\n",
       "      <th>3</th>\n",
       "      <td>4</td>\n",
       "      <td>여</td>\n",
       "      <td>20</td>\n",
       "      <td>충북</td>\n",
       "      <td>식품</td>\n",
       "      <td>11000</td>\n",
       "    </tr>\n",
       "    <tr>\n",
       "      <th>4</th>\n",
       "      <td>5</td>\n",
       "      <td>남</td>\n",
       "      <td>33</td>\n",
       "      <td>제주</td>\n",
       "      <td>가전</td>\n",
       "      <td>25000</td>\n",
       "    </tr>\n",
       "    <tr>\n",
       "      <th>5</th>\n",
       "      <td>6</td>\n",
       "      <td>여</td>\n",
       "      <td>30</td>\n",
       "      <td>충남</td>\n",
       "      <td>주방</td>\n",
       "      <td>95000</td>\n",
       "    </tr>\n",
       "    <tr>\n",
       "      <th>6</th>\n",
       "      <td>7</td>\n",
       "      <td>여</td>\n",
       "      <td>22</td>\n",
       "      <td>전남</td>\n",
       "      <td>식품</td>\n",
       "      <td>38000</td>\n",
       "    </tr>\n",
       "    <tr>\n",
       "      <th>7</th>\n",
       "      <td>8</td>\n",
       "      <td>남</td>\n",
       "      <td>53</td>\n",
       "      <td>강원</td>\n",
       "      <td>식품</td>\n",
       "      <td>22000</td>\n",
       "    </tr>\n",
       "    <tr>\n",
       "      <th>8</th>\n",
       "      <td>9</td>\n",
       "      <td>여</td>\n",
       "      <td>44</td>\n",
       "      <td>충남</td>\n",
       "      <td>가구</td>\n",
       "      <td>46000</td>\n",
       "    </tr>\n",
       "    <tr>\n",
       "      <th>9</th>\n",
       "      <td>10</td>\n",
       "      <td>여</td>\n",
       "      <td>28</td>\n",
       "      <td>충남</td>\n",
       "      <td>주방</td>\n",
       "      <td>91000</td>\n",
       "    </tr>\n",
       "  </tbody>\n",
       "</table>\n",
       "</div>"
      ],
      "text/plain": [
       "   id 성별  연령  지역  상품     가격\n",
       "0   1  여  26  충북  식품  51000\n",
       "1   2  여  49  충남  가전  76000\n",
       "2   3  남  31  충남  가구  59000\n",
       "3   4  여  20  충북  식품  11000\n",
       "4   5  남  33  제주  가전  25000\n",
       "5   6  여  30  충남  주방  95000\n",
       "6   7  여  22  전남  식품  38000\n",
       "7   8  남  53  강원  식품  22000\n",
       "8   9  여  44  충남  가구  46000\n",
       "9  10  여  28  충남  주방  91000"
      ]
     },
     "metadata": {},
     "output_type": "display_data"
    }
   ],
   "source": [
    "import numpy as np\n",
    "import pandas as pd\n",
    "\n",
    "a = np.arange(10)+1\n",
    "sr_a = pd.Series(a, name = \"id\")\n",
    "b = np.random.choice([\"남\", \"여\"], size = 10)\n",
    "sr_b = pd.Series(b, name = \"성별\")\n",
    "c = np.random.randint(20, 60, size = 10)\n",
    "sr_c = pd.Series(c, name = \"연령\")\n",
    "d = np.random.choice([\"서울\", \"경기\", \"전북\", \"전남\", \"제주\", \"경북\", \"경남\", \"충북\", \"충남\", \"강원\"], size = 10)\n",
    "sr_d = pd.Series(d, name = \"지역\")\n",
    "e = np.random.choice([\"가전\", \"가구\", \"주방\", \"식품\", \"의류\"], size = 10)\n",
    "sr_e = pd.Series(e, name = \"상품\")\n",
    "f = np.random.randint(1, 100, size = 10)*1000\n",
    "sr_f = pd.Series(f, name = \"가격\")\n",
    "\n",
    "df = pd.concat([sr_a, sr_b, sr_c, sr_d, sr_e, sr_f], axis = 1)\n",
    "\n",
    "display(df)"
   ]
  }
 ],
 "metadata": {
  "kernelspec": {
   "display_name": "Python 3",
   "language": "python",
   "name": "python3"
  },
  "language_info": {
   "codemirror_mode": {
    "name": "ipython",
    "version": 3
   },
   "file_extension": ".py",
   "mimetype": "text/x-python",
   "name": "python",
   "nbconvert_exporter": "python",
   "pygments_lexer": "ipython3",
   "version": "3.7.6"
  }
 },
 "nbformat": 4,
 "nbformat_minor": 2
}
