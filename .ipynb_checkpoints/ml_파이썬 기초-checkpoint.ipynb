{
 "cells": [
  {
   "cell_type": "markdown",
   "metadata": {},
   "source": [
    "## 파이썬 소개\n",
    "- 반 로썸이 개발한 인터프리터 언어\n",
    "- 기업의 실무를 위해서 많이 사용되는 언어. 예로는 구글에서 만든 소프트웨어의 50% 이상이 파이썬으로 작성\n",
    "\n",
    "## 파이썬 특징\n",
    "- 사람이 생각하는 방식을 그대로 표현 ex) if 4 in [1,2,3,4]: print('4가 있습니다')\n",
    "- 문법자체가 아주 쉽고 간결하며 사람의 사고 체계와 매우 비슷함\n",
    "- 프로그래머가 만들고자 하는 프로그램의 대부분을 파이썬으로 만들 수 있다.\n",
    "- 100가지 방법으로 하나의 일을 처리할 수 있다면 파이썬은 가장 좋은 방법 1가지만 사용하는 것을 선호\n",
    "- 다른 것을 신경 쓸 필요 없이 내가 하고자 하는 부분에만 집중할 수 있게 해준다.\n",
    "\n",
    "## 파이썬으로 할 수 있는 일\n",
    "- 시스템 유틸리티 제작\n",
    "- GUI 프로그래밍을 위한 도구들이 잘 갖추어져 있어 GUI 프로그램 제작이 쉽다.\n",
    "- C 나 C++로 만든 프로그램을 파이썬에서 사용할 수 있으며 파이썬으로 만든 프로그램 역시 C 나 C++에서 사용할 수 있다.\n",
    "- Numpy라는 수치 연산 모듈을 제공한다. 이 모듈은 C로 작성했기 때문에 파이썬에서도 수치 연산을 빠르게 할 수 있다.\n",
    "- 오라클, MySQL, PostgreSQL 등의 데이터베이스에 접근하기 위한 도구를 제공\n",
    "- 판다스 모듈을 사용하면 데이터 분석을 더 쉽고 효과적으로 할 수 있다.\n",
    "\n",
    "## 파이썬으로 할 수 없는 일\n",
    "- 복잡한 시스템 연산은 적합하지 않음.\n",
    "- 안드로이드 아이폰 앱을 개발하는 것은 어려움."
   ]
  },
  {
   "cell_type": "code",
   "execution_count": 3,
   "metadata": {},
   "outputs": [
    {
     "name": "stdout",
     "output_type": "stream",
     "text": [
      "[1, 2, 3, 4, 5]\n",
      "['a', 'b', 'c']\n",
      "[1, 'a', 2, 'b', 3, 'c', [1, 2, 3], ['a', 'b', 'c']]\n",
      "[6, 2, 3, 4, 5]\n"
     ]
    }
   ],
   "source": [
    "# 파이썬 자료형\n",
    "# 리스트는 []로 표시하며 []안의 요소를 콤마로 구분하여 순서있게 나열\n",
    "list1 = [1,2,3,4,5]  #숫자\n",
    "list2 = [\"a\", \"b\", \"c\"]  # 문자\n",
    "list3 = [1, \"a\", 2, \"b\", 3, \"c\", [1,2,3], [\"a\", \"b\", \"c\"]]\n",
    "print(list1)\n",
    "print(list2)\n",
    "print(list3)\n",
    "list1[0] = 6\n",
    "print(list1)"
   ]
  },
  {
   "cell_type": "code",
   "execution_count": 5,
   "metadata": {},
   "outputs": [
    {
     "name": "stdout",
     "output_type": "stream",
     "text": [
      "[1, 2, <function myfunc at 0x0000022EBB2B2EE8>]\n",
      "안녕하세요\n"
     ]
    }
   ],
   "source": [
    "def myfunc():\n",
    "    print(\"안녕하세요\")\n",
    "\n",
    "list4 = [1, 2, myfunc]\n",
    "print(list4)\n",
    "list4[2]()"
   ]
  },
  {
   "cell_type": "code",
   "execution_count": 9,
   "metadata": {},
   "outputs": [
    {
     "name": "stdout",
     "output_type": "stream",
     "text": [
      "[1, '1', 'b', 'c', 4]\n",
      "[1, 4]\n"
     ]
    }
   ],
   "source": [
    "# 리스트 수정, 변경, 삭제\n",
    "a = [1, 2, 3]\n",
    "a[2] = 4\n",
    "a[1:2] = [\"1\",\"b\", \"c\"]          \n",
    "print(a)\n",
    "del a[1:4]\n",
    "print(a)"
   ]
  },
  {
   "cell_type": "code",
   "execution_count": 12,
   "metadata": {},
   "outputs": [
    {
     "name": "stdout",
     "output_type": "stream",
     "text": [
      "[15, 5, 6, 7]\n"
     ]
    }
   ],
   "source": [
    "a = [1,2,3,4,5,6,7,8,9]  \n",
    "#[15, 5, 6, 7] 출력\n",
    "del a[:3]\n",
    "a[0] = 15\n",
    "del a[4:6]\n",
    "print(a)"
   ]
  },
  {
   "cell_type": "code",
   "execution_count": 14,
   "metadata": {},
   "outputs": [
    {
     "name": "stdout",
     "output_type": "stream",
     "text": [
      "[1, 2, 3, 4]\n",
      "['a', 'b', 'c']\n"
     ]
    }
   ],
   "source": [
    "# 정렬(sort)\n",
    "b = [2, 3, 4, 1]\n",
    "b.sort()\n",
    "print(b)\n",
    "c = [\"a\", \"c\", \"b\"]\n",
    "c.sort()\n",
    "print(c)"
   ]
  },
  {
   "cell_type": "code",
   "execution_count": 16,
   "metadata": {},
   "outputs": [
    {
     "name": "stdout",
     "output_type": "stream",
     "text": [
      "['b', 'c', 'a']\n"
     ]
    },
    {
     "data": {
      "text/plain": [
       "['c', 'b', 'a']"
      ]
     },
     "execution_count": 16,
     "metadata": {},
     "output_type": "execute_result"
    }
   ],
   "source": [
    "d = [\"a\", \"c\", \"b\"]\n",
    "d.reverse()   # 순서 역순서로 정렬\n",
    "print(d) \n",
    "sorted(d, reverse=True)  #  abc역순으로 정렬"
   ]
  },
  {
   "cell_type": "code",
   "execution_count": 1,
   "metadata": {},
   "outputs": [
    {
     "name": "stdout",
     "output_type": "stream",
     "text": [
      "2\n",
      "0\n"
     ]
    }
   ],
   "source": [
    "# 위치 반환\n",
    "e = [1, 2, 3]\n",
    "print(e.index(3))  # 3의 인덱스 번호를 반환\n",
    "print(e.index(1))  # 1의 인덱스 번호를 반환"
   ]
  },
  {
   "cell_type": "code",
   "execution_count": 3,
   "metadata": {},
   "outputs": [
    {
     "name": "stdout",
     "output_type": "stream",
     "text": [
      "3\n",
      "[1, 2]\n"
     ]
    }
   ],
   "source": [
    "f = [1,2,3]\n",
    "print(f.pop())  # 리스트의 맨 마지막 요소를 돌려주고 그 요소를 삭제\n",
    "print(f)"
   ]
  },
  {
   "cell_type": "code",
   "execution_count": 4,
   "metadata": {},
   "outputs": [
    {
     "name": "stdout",
     "output_type": "stream",
     "text": [
      "2\n"
     ]
    }
   ],
   "source": [
    "g = [1,2,3,1]  # 리스트내에 x가 몇 개인지 조사하여 그 갯수를 반환\n",
    "print(g.count(1))  # 리스트내에 1이 몇 개인지"
   ]
  },
  {
   "cell_type": "code",
   "execution_count": 5,
   "metadata": {},
   "outputs": [
    {
     "name": "stdout",
     "output_type": "stream",
     "text": [
      "[1, 2, 3, 4, 5]\n"
     ]
    }
   ],
   "source": [
    "h = [1,2,3]  # 리스트 확장\n",
    "h.extend([4,5])\n",
    "print(h)"
   ]
  },
  {
   "cell_type": "code",
   "execution_count": 7,
   "metadata": {},
   "outputs": [
    {
     "name": "stdout",
     "output_type": "stream",
     "text": [
      "[1, 2, 3, 4]\n",
      "[1, 2, 3, 4, [5, 6]]\n"
     ]
    }
   ],
   "source": [
    "a = [1,2,3]  # 추가\n",
    "a.append(4)\n",
    "print(a)\n",
    "a.append([5,6])  # 리스트 추가\n",
    "print(a)"
   ]
  },
  {
   "cell_type": "code",
   "execution_count": 10,
   "metadata": {},
   "outputs": [
    {
     "name": "stdout",
     "output_type": "stream",
     "text": [
      "(21, 2, <function myfunc at 0x000002921CD0C558>)\n",
      "안녕하세요\n"
     ]
    }
   ],
   "source": [
    "# 튜플\n",
    "# 리스트와 비슷한 성질을 가지고 있는 자료형이지만 요소값을 변경할 수 없음.\n",
    "# 프로그램이 실행되는 동안 그 값이 변하지 않아야 되는 경우 튜플 사용\n",
    "\n",
    "t1 = (1,2,3,4,5)\n",
    "t2 = ('a', 'b','c')\n",
    "t3 = (1,'a','abc',[1,2,3,4,5],['a','b','c'])\n",
    "def myfunc():\n",
    "    print('안녕하세요')\n",
    "    \n",
    "t4 = (21, 2, myfunc)\n",
    "# t1[0] = 6   -> 튜플은 변경이 불가(에러발생)\n",
    "# print(t1)\n",
    "print(t4)\n",
    "t4[2]()"
   ]
  },
  {
   "cell_type": "code",
   "execution_count": 11,
   "metadata": {},
   "outputs": [
    {
     "name": "stdout",
     "output_type": "stream",
     "text": [
      "(1,)\n"
     ]
    }
   ],
   "source": [
    "t1 = (1,)  # 1개의 요소만 가질때는 요소 뒤에 콤마를 붙여야 함\n",
    "print(t1)"
   ]
  },
  {
   "cell_type": "code",
   "execution_count": 12,
   "metadata": {},
   "outputs": [
    {
     "name": "stdout",
     "output_type": "stream",
     "text": [
      "(1, 2, 3, 4, 5)\n",
      "('a', 'b', 'c')\n",
      "(1, 'a', 'abc', [1, 2, 3, 4, 5], ['a', 'b', 'c'])\n"
     ]
    }
   ],
   "source": [
    "t1 = (1,2,3,4,5)\n",
    "t2 = ('a', 'b','c')\n",
    "t3 = (1,'a','abc',[1,2,3,4,5],['a','b','c'])\n",
    "print(t1)\n",
    "print(t2)\n",
    "print(t3)"
   ]
  },
  {
   "cell_type": "code",
   "execution_count": 13,
   "metadata": {},
   "outputs": [
    {
     "name": "stdout",
     "output_type": "stream",
     "text": [
      "(1, 2, 3, 'a', 'b', 'c')\n",
      "(1, 2, 3, 'a', 'b', 'c', 1, 2, 3, 'a', 'b', 'c', 1, 2, 3, 'a', 'b', 'c')\n"
     ]
    }
   ],
   "source": [
    "a = (1,2,3)\n",
    "b = ('a','b','c')\n",
    "c = a + b  # 튜플은 합칠때 + 연산 사용 가능\n",
    "print(c)\n",
    "print(c*3)  # 곱하기 연산도 사용 가능함 (3번 출력)"
   ]
  },
  {
   "cell_type": "code",
   "execution_count": 17,
   "metadata": {},
   "outputs": [
    {
     "name": "stdout",
     "output_type": "stream",
     "text": [
      "1\n",
      "3\n",
      "{'a': 1, 'b': 2, 'c': 3}\n",
      "3\n"
     ]
    }
   ],
   "source": [
    "# 사전\n",
    "# 사전은 키와 값을 하나의 요소로 하는 순서가 없는 집합\n",
    "# 시퀀스 자료형이 아니며 인덱싱으로 값을 접근할 수 없음\n",
    "\n",
    "dic1 = {'a':1, 'b':2, 'c':3}\n",
    "print(dic1['a'])\n",
    "print(dic1['c'])\n",
    "print(dic1)\n",
    "print(len(dic1))"
   ]
  },
  {
   "cell_type": "code",
   "execution_count": 22,
   "metadata": {},
   "outputs": [
    {
     "name": "stdout",
     "output_type": "stream",
     "text": [
      "dict_keys(['name', 'phone', 'birth'])\n",
      "dict_values(['pey', '01011112222', '1108'])\n",
      "dict_items([('name', 'pey'), ('phone', '01011112222'), ('birth', '1108')])\n",
      "pey\n",
      "None\n"
     ]
    }
   ],
   "source": [
    "# 딕셔너리 관련 함수\n",
    "a = {'name':'pey', 'phone':'01011112222', 'birth':'1108'}\n",
    "print(a.keys())\n",
    "print(a.values())\n",
    "print(a.items())\n",
    "print(a.get('name'))\n",
    "print(a.get('nokey'))"
   ]
  },
  {
   "cell_type": "code",
   "execution_count": 24,
   "metadata": {},
   "outputs": [
    {
     "name": "stdout",
     "output_type": "stream",
     "text": [
      "True\n",
      "False\n"
     ]
    }
   ],
   "source": [
    "# 해당 key가 딕셔너리 안에 있는지 조사(in)\n",
    "a = {'name':'pey', 'phone':'01011112222', 'birth':'1108'}\n",
    "print('name' in a)\n",
    "print('email' in a)"
   ]
  },
  {
   "cell_type": "code",
   "execution_count": 28,
   "metadata": {},
   "outputs": [
    {
     "name": "stdout",
     "output_type": "stream",
     "text": [
      "pey\n",
      "None\n",
      "bar\n"
     ]
    }
   ],
   "source": [
    "# 딕셔너리 안에 찾으려고 하는 key값이 없는 경우 \n",
    "# 미리 정해 준 디폴트 값을 가져오게 하고 싶을때는 get(x, '디폴트 값')을 사용\n",
    "\n",
    "a = {'name':'pey', 'phone':'01011112222', 'birth':'1108'}\n",
    "print(a.get('name', 'bar'))\n",
    "print(a.clear())\n",
    "print(a.get('foo', 'bar'))"
   ]
  },
  {
   "cell_type": "code",
   "execution_count": 32,
   "metadata": {},
   "outputs": [
    {
     "name": "stdout",
     "output_type": "stream",
     "text": [
      "{4, 5, 6}\n",
      "{4, 5, 6}\n",
      "{1, 2, 3, 4, 5, 6, 7, 8, 9}\n",
      "{1, 2, 3, 4, 5, 6, 7, 8, 9}\n"
     ]
    }
   ],
   "source": [
    "# set\n",
    "# set 자료형은 순서가 없기 때문에 인덱싱으로 값을 얻을 수 없음\n",
    "s1 = set([1,2,3,4,5,6])\n",
    "s2 = set([4,5,6,7,8,9])\n",
    "print(s1 & s2)  # 교집합\n",
    "print(s1.intersection(s2))  # 교집합\n",
    "print(s1 | s2)  # 합집합\n",
    "print(s1.union(s2))  # 합집합"
   ]
  },
  {
   "cell_type": "code",
   "execution_count": 34,
   "metadata": {},
   "outputs": [
    {
     "name": "stdout",
     "output_type": "stream",
     "text": [
      "[4, 5, 6]\n",
      "[1, 2, 3, 4, 5, 6, 7, 8, 9]\n"
     ]
    }
   ],
   "source": [
    "# 리스트 형태로 출력하기\n",
    "s3 = list(s1 & s2)  \n",
    "print(s3)\n",
    "s4 = list(s1 | s2)\n",
    "print(s4)"
   ]
  },
  {
   "cell_type": "code",
   "execution_count": 37,
   "metadata": {},
   "outputs": [
    {
     "name": "stdout",
     "output_type": "stream",
     "text": [
      "{1, 2, 3}\n",
      "[8, 9, 7]\n"
     ]
    }
   ],
   "source": [
    "s1 = set([1,2,3,4,5,6])\n",
    "s2 = set([4,5,6,7,8,9])\n",
    "print(s1 - s2)  # 차집합\n",
    "print(list(s2 - s1))"
   ]
  },
  {
   "cell_type": "code",
   "execution_count": 41,
   "metadata": {},
   "outputs": [
    {
     "name": "stdout",
     "output_type": "stream",
     "text": [
      "{1, 2, 3, 4, 5, 6, 7, 9}\n",
      "{1, 2, 3, 4, 5, 6, 7, 9, 10}\n",
      "{1, 2, 3, 4, 5, 6, 7, 9}\n"
     ]
    }
   ],
   "source": [
    "s1.add(7)  # 값 하나만 추가할때\n",
    "print(s1)\n",
    "s1.update([9,10])  # 값 여러개를 추가할때\n",
    "print(s1)\n",
    "s1.remove(10)  # 값 제거\n",
    "print(s1)"
   ]
  },
  {
   "cell_type": "code",
   "execution_count": 47,
   "metadata": {},
   "outputs": [
    {
     "name": "stdout",
     "output_type": "stream",
     "text": [
      "나는 파이썬을 사랑합니다.\n",
      "파이썬은 자바보다 쉽습니다.\n",
      "Name:John \tSex:Male \tAge:22\n",
      "이 문장은 화면폭에 비해 너무 길어 다음 줄로 넘깁니다. 그러나 문장을 한줄에서 보고 싶습니다.\n"
     ]
    }
   ],
   "source": [
    "# 이스케이프 문자\n",
    "# 키보드로 입력하기 어려운 기호를 나타내기 위해 역슬래쉬 '\\'로\n",
    "# 시작하는 문자\n",
    "print('나는 파이썬을 사랑합니다.\\n파이썬은 자바보다 쉽습니다.')  # \\n 넘겨쓰기\n",
    "print('Name:John \\tSex:Male \\tAge:22')   # \\t 들여쓰기\n",
    "print('이 문장은 화면폭에 비해 너무 길어 다음 줄로 넘깁니다. \\\n",
    "그러나 문장을 한줄에서 보고 싶습니다.')  # \\ 한줄로 쓰기"
   ]
  },
  {
   "cell_type": "code",
   "execution_count": 48,
   "metadata": {},
   "outputs": [
    {
     "name": "stdout",
     "output_type": "stream",
     "text": [
      "a가 listdata에 있습니다.\n",
      "['a', 'b', 'c']\n"
     ]
    }
   ],
   "source": [
    "# 들여쓰기\n",
    "listdata = ['a','b','c']\n",
    "if 'a' in listdata:\n",
    "    print('a가 listdata에 있습니다.')\n",
    "    print(listdata)\n",
    "else:\n",
    "    print('a가 listdata에 존재하지 않습니다')"
   ]
  },
  {
   "cell_type": "code",
   "execution_count": null,
   "metadata": {},
   "outputs": [],
   "source": []
  },
  {
   "cell_type": "code",
   "execution_count": 76,
   "metadata": {},
   "outputs": [
    {
     "name": "stdout",
     "output_type": "stream",
     "text": [
      "881230\n",
      "1078523\n"
     ]
    }
   ],
   "source": [
    "# Q. 김철수씨의 주민번호는 881230-1078523\n",
    "# 주민번호를 연월일 부분과 그 뒤의 숫자 부분으로 나누어 출력\n",
    "a1 = [881230, 1078523]\n",
    "print(a1[0])\n",
    "print(a1[1])"
   ]
  },
  {
   "cell_type": "code",
   "execution_count": 57,
   "metadata": {},
   "outputs": [
    {
     "name": "stdout",
     "output_type": "stream",
     "text": [
      "[5, 4, 3, 2, 1]\n"
     ]
    }
   ],
   "source": [
    "# Q. a = [1,3,5,4,2] 리스트를 [5,4,3,2,1] 로 변경해서 출력\n",
    "a = [1,3,5,4,2]\n",
    "a.sort()\n",
    "a.reverse()\n",
    "print(a)"
   ]
  },
  {
   "cell_type": "code",
   "execution_count": 74,
   "metadata": {},
   "outputs": [
    {
     "name": "stdout",
     "output_type": "stream",
     "text": [
      "Life is too short\n"
     ]
    }
   ],
   "source": [
    "# Q. ['Life', 'is', 'too', 'short'] 리스트를 Life is too short 문자열로 출력\n",
    "s1 = ['Life', 'is', 'too', 'short']\n",
    "print(s1[0] + \" \" + s1[1] + \" \"  + s1[2] + \" \"  + s1[3])"
   ]
  },
  {
   "cell_type": "code",
   "execution_count": 68,
   "metadata": {},
   "outputs": [
    {
     "name": "stdout",
     "output_type": "stream",
     "text": [
      "['Life', 'is', 'too', 'short']\n"
     ]
    }
   ],
   "source": [
    "# Q. 문자열을 LIST로 변환하여 ['Life', 'is', 'too', 'short'] 출력\n",
    "a = 'Life is too short'\n",
    "b1=a.split(\" \")\n",
    "print(b1)"
   ]
  },
  {
   "cell_type": "code",
   "execution_count": 69,
   "metadata": {},
   "outputs": [
    {
     "name": "stdout",
     "output_type": "stream",
     "text": [
      "[1, 2, 3, 4, 5]\n"
     ]
    }
   ],
   "source": [
    "# Q. a 리스트에서 중복 숫자를 제거 후 리스트로 출력\n",
    "a = [1,1,1,2,2,3,3,3,4,4,5]\n",
    "a2 = list(set(a))\n",
    "print(a2)"
   ]
  },
  {
   "cell_type": "code",
   "execution_count": 73,
   "metadata": {},
   "outputs": [
    {
     "name": "stdout",
     "output_type": "stream",
     "text": [
      "80\n",
      "70\n"
     ]
    }
   ],
   "source": [
    "# Q. a에서 80과 70을 각각 출력\n",
    "a = {'A':90, 'B':80, 'C':70}\n",
    "print(a.get('B'))\n",
    "print(a.get('C'))"
   ]
  },
  {
   "cell_type": "code",
   "execution_count": null,
   "metadata": {},
   "outputs": [],
   "source": []
  },
  {
   "cell_type": "code",
   "execution_count": 80,
   "metadata": {},
   "outputs": [
    {
     "name": "stdout",
     "output_type": "stream",
     "text": [
      "I eat 3 apples.\n",
      "I eat five apples.\n",
      "I eat 5 apples.\n",
      "I eat 10 apples. so I was sick three days\n"
     ]
    }
   ],
   "source": [
    "# 문자열 포맷팅\n",
    "# 숫자 대입\n",
    "a = \"I eat %d apples.\" % 3  # 숫자는 %d\n",
    "print(a)\n",
    "b = \"I eat %s apples.\" % 'five'  # 문자는 %s\n",
    "print(b)\n",
    "\n",
    "number = 5\n",
    "c = \"I eat %d apples.\" % number\n",
    "print(c)\n",
    "\n",
    "# 두개 이상의 값 넣기\n",
    "number = 10\n",
    "day = 'three'\n",
    "d = 'I eat %d apples. so I was sick %s days' % (number, day)\n",
    "print(d)"
   ]
  },
  {
   "cell_type": "code",
   "execution_count": 82,
   "metadata": {},
   "outputs": [
    {
     "name": "stdout",
     "output_type": "stream",
     "text": [
      "I have 3 apples.\n",
      "rate is 3.234\n"
     ]
    }
   ],
   "source": [
    "# %s 포맷 코드는 어떤 형태의 값이든 변환해 넣을 수 있음\n",
    "# %s 는 자동으로 % 뒤에 있는 값을 문자열로 변경함\n",
    "e = \"I have %s apples.\" % 3\n",
    "print(e)\n",
    "f = \"rate is %s\" % 3.234\n",
    "print(f)"
   ]
  },
  {
   "cell_type": "code",
   "execution_count": 83,
   "metadata": {},
   "outputs": [
    {
     "name": "stdout",
     "output_type": "stream",
     "text": [
      "Error is 98%.\n"
     ]
    }
   ],
   "source": [
    "# %를 나타내려면 반드시 %%로 써야 함\n",
    "g = \"Error is %d%%.\" % 98\n",
    "print(g)"
   ]
  },
  {
   "cell_type": "code",
   "execution_count": 86,
   "metadata": {},
   "outputs": [
    {
     "name": "stdout",
     "output_type": "stream",
     "text": [
      "        hi\n",
      "hi         dddd\n"
     ]
    }
   ],
   "source": [
    "# 정렬과 공백\n",
    "a = \"%10s\" % 'hi'  # 전체 길이가 10개인 문자열 공간에서 오른쪽 정렬 (오른쪽은 +)\n",
    "print(a)\n",
    "b = \"%-10s dddd\" % \"hi\"   # 전체 길이가 10개인 문자열 공간에서 왼쪽 정렬 (왼쪽은 -)\n",
    "print(b)"
   ]
  },
  {
   "cell_type": "code",
   "execution_count": 89,
   "metadata": {},
   "outputs": [
    {
     "name": "stdout",
     "output_type": "stream",
     "text": [
      "3.4568\n",
      "    3.4568\n",
      "      3.46\n"
     ]
    }
   ],
   "source": [
    "# 소수점 표현하기\n",
    "c = \"%0.4f\" % 3.456789\n",
    "print(c)\n",
    "d = \"%10.4f\" % 3.4567892\n",
    "print(d)\n",
    "e = \"%10.2f\" % 3.4567892\n",
    "print(e)"
   ]
  },
  {
   "cell_type": "code",
   "execution_count": 95,
   "metadata": {},
   "outputs": [
    {
     "name": "stdout",
     "output_type": "stream",
     "text": [
      "2\n",
      "10\n",
      "-1\n",
      "5\n"
     ]
    }
   ],
   "source": [
    "# 문자열 관련 함수\n",
    "a = \"hobby\"\n",
    "print(a.count('b'))  # 'b'라는 문자 갯수 세기\n",
    "a = \"Python is best choice\"\n",
    "print(a.find('b'))  # 'b'라는 문자의 자리를 찾음\n",
    "print(a.find('k'))   # 'k'가 없기 때문에 -1로 반환됨\n",
    "print(a.index('n'))  # 'n'이라는 문자의 인덱스 반환"
   ]
  },
  {
   "cell_type": "code",
   "execution_count": 96,
   "metadata": {},
   "outputs": [
    {
     "name": "stdout",
     "output_type": "stream",
     "text": [
      "a,b,c,d\n"
     ]
    }
   ],
   "source": [
    "# 문자열 삽입(join)\n",
    "a = \",\"\n",
    "a = a.join(\"abcd\")\n",
    "print(a)"
   ]
  },
  {
   "cell_type": "code",
   "execution_count": 98,
   "metadata": {},
   "outputs": [
    {
     "name": "stdout",
     "output_type": "stream",
     "text": [
      "HI\n",
      "hi\n"
     ]
    }
   ],
   "source": [
    "# 소문자를 대문자로 변경\n",
    "a = \"hi\"\n",
    "a = a.upper()\n",
    "print(a)\n",
    "# 대문자를 소문자로 변경\n",
    "b = \"HI\"\n",
    "b = b.lower()\n",
    "print(b)"
   ]
  },
  {
   "cell_type": "code",
   "execution_count": 103,
   "metadata": {},
   "outputs": [
    {
     "name": "stdout",
     "output_type": "stream",
     "text": [
      "    hi\n",
      "hi\n",
      "hi         \n",
      "hi\n",
      "     hi     \n",
      "hi\n"
     ]
    }
   ],
   "source": [
    "# 왼쪽 공백 지우기 (lstrip)\n",
    "a = \"    hi\"\n",
    "print(a)\n",
    "b = a.lstrip()\n",
    "print(b)\n",
    "# 오른쪽 공백 지우기 (rstrip)\n",
    "a = \"hi         \"\n",
    "print(a)\n",
    "b = a.rstrip()\n",
    "print(b)\n",
    "# 양쪽 공백 지우기\n",
    "e = \"     hi     \"\n",
    "print(e)\n",
    "f = e.strip()\n",
    "print(f)"
   ]
  },
  {
   "cell_type": "code",
   "execution_count": 106,
   "metadata": {},
   "outputs": [
    {
     "name": "stdout",
     "output_type": "stream",
     "text": [
      "My leg is too short\n",
      "['Life', 'is', 'too', 'short']\n",
      "['a', 'b', 'c', 'd']\n"
     ]
    }
   ],
   "source": [
    "# 문자열 바꾸기\n",
    "a = \"Life is too short\"\n",
    "print(a.replace(\"Life\", \"My leg\"))\n",
    "# 문자열 나누기\n",
    "a = \"Life is too short\"\n",
    "print(a.split())\n",
    "b = \"a:b:c:d\"\n",
    "print(b.split(\":\"))"
   ]
  },
  {
   "cell_type": "code",
   "execution_count": 113,
   "metadata": {},
   "outputs": [
    {
     "name": "stdout",
     "output_type": "stream",
     "text": [
      "I eat 3 apples\n",
      "hello     \n",
      "=========hi=========\n",
      "3.5679\n"
     ]
    }
   ],
   "source": [
    "# format 함수(고급 포맷팅)\n",
    "a = \"I eat {0} apples\".format(3)\n",
    "print(a)\n",
    "\n",
    "f = \"{0:<10}\".format(\"hello\")   # 왼쪽으로 정렬하고 자리수는 10\n",
    "print(f)\n",
    "i = \"{0:=^20}\".format(\"hi\")   # 공백을 \"=\"로 채우기\n",
    "print(i)\n",
    "k = \"{0:0.4f}\".format(3.567892)   # 소수점 네자리까지 표현\n",
    "print(k)"
   ]
  },
  {
   "cell_type": "code",
   "execution_count": 116,
   "metadata": {},
   "outputs": [
    {
     "name": "stdout",
     "output_type": "stream",
     "text": [
      "I eat eight apples\n"
     ]
    }
   ],
   "source": [
    "# Q1 \"I eat five apples\" -> \"eight\"\n",
    "a = \"I eat {0} apples\".format(\"eight\")\n",
    "print(a)"
   ]
  },
  {
   "cell_type": "code",
   "execution_count": 118,
   "metadata": {},
   "outputs": [
    {
     "name": "stdout",
     "output_type": "stream",
     "text": [
      "I ate 5 apples. so I was sick for five days\n"
     ]
    }
   ],
   "source": [
    "# Q2 \"I ate 10 apples. so I was sick for three days\" -> 5, \"five\"\n",
    "number = 5\n",
    "day = \"five\"\n",
    "b = \"I ate {0} apples. so I was sick for {1} days\".format(number, day)\n",
    "print(b)"
   ]
  },
  {
   "cell_type": "code",
   "execution_count": 119,
   "metadata": {},
   "outputs": [
    {
     "name": "stdout",
     "output_type": "stream",
     "text": [
      "{and}\n"
     ]
    }
   ],
   "source": [
    "m = \"{{and}}\".format()\n",
    "print(m)"
   ]
  },
  {
   "cell_type": "code",
   "execution_count": 122,
   "metadata": {},
   "outputs": [
    {
     "name": "stdout",
     "output_type": "stream",
     "text": [
      "     hello\n",
      "hello     \n",
      "  hello   \n"
     ]
    }
   ],
   "source": [
    "a = \"{0:>10}\".format(\"hello\")  # 오른쪽 정렬  자리수는 10\n",
    "b = \"{0:<10}\".format(\"hello\")  # 왼쪽 정렬  자리수는 10\n",
    "c = \"{0:^10}\".format(\"hello\")  # 가운데 정렬  자리수응 10\n",
    "print(a)\n",
    "print(b)\n",
    "print(c)"
   ]
  },
  {
   "cell_type": "code",
   "execution_count": 132,
   "metadata": {},
   "outputs": [
    {
     "name": "stdout",
     "output_type": "stream",
     "text": [
      "3.4512    \n",
      "    3.4512\n"
     ]
    }
   ],
   "source": [
    "# y = 3.451235, 자리수 10\n",
    "# 3.4512\n",
    "#     3.4512\n",
    "y = 3.451235\n",
    "print(\"{0:<10.4f}\".format(y))\n",
    "print(\"{0:>10.4f}\".format(y))"
   ]
  },
  {
   "cell_type": "code",
   "execution_count": 135,
   "metadata": {},
   "outputs": [
    {
     "name": "stdout",
     "output_type": "stream",
     "text": [
      "[1, 4, 3]\n",
      "[1, 4, 3]\n",
      "2826576931400\n",
      "2826576931400\n"
     ]
    }
   ],
   "source": [
    "# 리스트 자료형 복사\n",
    "# id함수는 변수가 가리키고 있는 객체의 주소 값을 돌려주는 파이썬 내장 함수\n",
    "a = [1,2,3]\n",
    "b = a\n",
    "a[1] = 4\n",
    "print(a)\n",
    "print(b)\n",
    "print(id(a))\n",
    "print(id(b))"
   ]
  },
  {
   "cell_type": "code",
   "execution_count": 137,
   "metadata": {},
   "outputs": [
    {
     "name": "stdout",
     "output_type": "stream",
     "text": [
      "[1, 4, 3]\n",
      "[1, 2, 3]\n",
      "2826584040776\n",
      "2826575895048\n"
     ]
    }
   ],
   "source": [
    "a = [1,2,3]\n",
    "b = a[:]\n",
    "a[1] = 4\n",
    "print(a)\n",
    "print(b)\n",
    "print(id(a))\n",
    "print(id(b))"
   ]
  },
  {
   "cell_type": "code",
   "execution_count": 138,
   "metadata": {},
   "outputs": [
    {
     "name": "stdout",
     "output_type": "stream",
     "text": [
      "x가 y보다 작습니다.\n"
     ]
    }
   ],
   "source": [
    "# 제어문\n",
    "# if - else\n",
    "x = 1\n",
    "y = 2\n",
    "if x >= y:\n",
    "    print(\"x가 y보다 크거나 같습니다.\")\n",
    "else:\n",
    "    print(\"x가 y보다 작습니다.\")"
   ]
  },
  {
   "cell_type": "code",
   "execution_count": 139,
   "metadata": {},
   "outputs": [
    {
     "name": "stdout",
     "output_type": "stream",
     "text": [
      "걸어가시오\n"
     ]
    }
   ],
   "source": [
    "# 만약 3천원 이상의 돈을 가지고 있으면 택시를 타고 그렇지 않으면 걸어라\n",
    "money = 2000\n",
    "if money >= 3000:\n",
    "    print(\"택시를 타고 가\")\n",
    "else:\n",
    "    print(\"걸어가시오\")"
   ]
  },
  {
   "cell_type": "code",
   "execution_count": 143,
   "metadata": {},
   "outputs": [
    {
     "name": "stdout",
     "output_type": "stream",
     "text": [
      "택시 타고 ㄱ\n"
     ]
    }
   ],
   "source": [
    "# 만약 돈이 3000원 이상 있거나 카드가 있다면 택시를 타고 그렇지 않으면 걸어가라\n",
    "money = 2000\n",
    "card = 1\n",
    "if money >= 3000 or card == 1:\n",
    "    print(\"택시 타고 ㄱ\")\n",
    "else:\n",
    "    print(\"걸어가\")"
   ]
  },
  {
   "cell_type": "code",
   "execution_count": 144,
   "metadata": {},
   "outputs": [
    {
     "name": "stdout",
     "output_type": "stream",
     "text": [
      "x가 y보다 작습니다\n"
     ]
    }
   ],
   "source": [
    "# if ~ elif\n",
    "x = 1\n",
    "y = 2\n",
    "if x > y:\n",
    "    print(\"x가 y보다 큽니다\")\n",
    "elif x < y:\n",
    "    print(\"x가 y보다 작습니다\")\n",
    "else:\n",
    "    print(\"x가 y와 같습니다\")"
   ]
  },
  {
   "cell_type": "code",
   "execution_count": 146,
   "metadata": {},
   "outputs": [
    {
     "name": "stdout",
     "output_type": "stream",
     "text": [
      "1 2 3 4 5 "
     ]
    }
   ],
   "source": [
    "# for문\n",
    "scope = [1,2,3,4,5]\n",
    "for x in scope:\n",
    "    print(x, end=\" \")"
   ]
  },
  {
   "cell_type": "code",
   "execution_count": 149,
   "metadata": {},
   "outputs": [
    {
     "name": "stdout",
     "output_type": "stream",
     "text": [
      "1\n",
      "2\n",
      "3\n"
     ]
    }
   ],
   "source": [
    "# for~continte~break\n",
    "scope = [1,2,3,4,5]\n",
    "for x in scope:\n",
    "    print(x)\n",
    "    if x <3:\n",
    "        continue\n",
    "    else : \n",
    "        break"
   ]
  },
  {
   "cell_type": "code",
   "execution_count": 150,
   "metadata": {},
   "outputs": [
    {
     "name": "stdout",
     "output_type": "stream",
     "text": [
      "55\n"
     ]
    }
   ],
   "source": [
    "# range(1,11) 끝 숫자는 포함되지 않음\n",
    "sum = 0\n",
    "for i in range(1,11):\n",
    "    sum += i   # (sum = sum + i), sum -= i, sum *= i, sum/= i\n",
    "print(sum)"
   ]
  },
  {
   "cell_type": "code",
   "execution_count": 152,
   "metadata": {},
   "outputs": [
    {
     "name": "stdout",
     "output_type": "stream",
     "text": [
      "1번 학생 축하합니다.\n",
      "3번 학생 축하합니다.\n",
      "5번 학생 축하합니다.\n"
     ]
    }
   ],
   "source": [
    "marks = [90, 25, 67, 45, 80]\n",
    "for number in range(len(marks)):\n",
    "    if marks[number] < 60: continue\n",
    "    print(\"%d번 학생 축하합니다.\" % (number+1))"
   ]
  },
  {
   "cell_type": "code",
   "execution_count": 156,
   "metadata": {},
   "outputs": [
    {
     "name": "stdout",
     "output_type": "stream",
     "text": [
      "2 X 1 = 2 2 X 2 = 4 2 X 3 = 6 2 X 4 = 8 2 X 5 = 10 2 X 6 = 12 2 X 7 = 14 2 X 8 = 16 2 X 9 = 18  \n",
      "3 X 1 = 3 3 X 2 = 6 3 X 3 = 9 3 X 4 = 12 3 X 5 = 15 3 X 6 = 18 3 X 7 = 21 3 X 8 = 24 3 X 9 = 27  \n",
      "4 X 1 = 4 4 X 2 = 8 4 X 3 = 12 4 X 4 = 16 4 X 5 = 20 4 X 6 = 24 4 X 7 = 28 4 X 8 = 32 4 X 9 = 36  \n",
      "5 X 1 = 5 5 X 2 = 10 5 X 3 = 15 5 X 4 = 20 5 X 5 = 25 5 X 6 = 30 5 X 7 = 35 5 X 8 = 40 5 X 9 = 45  \n",
      "6 X 1 = 6 6 X 2 = 12 6 X 3 = 18 6 X 4 = 24 6 X 5 = 30 6 X 6 = 36 6 X 7 = 42 6 X 8 = 48 6 X 9 = 54  \n",
      "7 X 1 = 7 7 X 2 = 14 7 X 3 = 21 7 X 4 = 28 7 X 5 = 35 7 X 6 = 42 7 X 7 = 49 7 X 8 = 56 7 X 9 = 63  \n",
      "8 X 1 = 8 8 X 2 = 16 8 X 3 = 24 8 X 4 = 32 8 X 5 = 40 8 X 6 = 48 8 X 7 = 56 8 X 8 = 64 8 X 9 = 72  \n",
      "9 X 1 = 9 9 X 2 = 18 9 X 3 = 27 9 X 4 = 36 9 X 5 = 45 9 X 6 = 54 9 X 7 = 63 9 X 8 = 72 9 X 9 = 81  \n"
     ]
    }
   ],
   "source": [
    "for i in range(2,10):\n",
    "    for j in range(1,10):\n",
    "        print(i,\"X\",j,\"=\",i*j,end=\" \")\n",
    "    print(\" \")"
   ]
  },
  {
   "cell_type": "code",
   "execution_count": null,
   "metadata": {},
   "outputs": [],
   "source": [
    "# Q. scope = [1,2,3,4,5] 이 주어졌을때 아래와 같이  출력하세요\n",
    "# 1\n",
    "# 2\n",
    "# 3\n",
    "# perfect\n",
    "\n",
    "scope = [1,2,3,4,5]\n",
    "\n",
    "# for i in scope:\n",
    "#     print(i)\n",
    "#     if i < 3:\n",
    "#         continue\n",
    "#     else:\n",
    "#         print(\"perfect\")\n",
    "#         break\n",
    "\n",
    "for i in scope:\n",
    "    if i < 4:\n",
    "        print(i)\n",
    "else:\n",
    "    print(\"perfect\")"
   ]
  },
  {
   "cell_type": "code",
   "execution_count": null,
   "metadata": {},
   "outputs": [],
   "source": [
    "# 정수 1 부터 n까지 더할 때 그 합이 10만 보다 커지게 되는 n과 합을 구하시오\n",
    "x = 1\n",
    "sum = 0\n",
    "while 1:\n",
    "    sum = sum + x\n",
    "    if sum > 100000:\n",
    "        print(x)\n",
    "        print(sum)\n",
    "        break\n",
    "        \n",
    "    x = x + 1"
   ]
  },
  {
   "cell_type": "code",
   "execution_count": null,
   "metadata": {},
   "outputs": [],
   "source": [
    "# Q. while문을 사용해 1부터 1000까지의 자연수 중 3의 배수의 합 구하기\n",
    "sum = 0\n",
    "i = 1\n",
    "while i < 1001:\n",
    "    i = i + 1\n",
    "    if i % 3 == 0:\n",
    "        sum = sum + i\n",
    "print(sum)"
   ]
  },
  {
   "cell_type": "code",
   "execution_count": null,
   "metadata": {},
   "outputs": [],
   "source": []
  }
 ],
 "metadata": {
  "kernelspec": {
   "display_name": "Python 3",
   "language": "python",
   "name": "python3"
  },
  "language_info": {
   "codemirror_mode": {
    "name": "ipython",
    "version": 3
   },
   "file_extension": ".py",
   "mimetype": "text/x-python",
   "name": "python",
   "nbconvert_exporter": "python",
   "pygments_lexer": "ipython3",
   "version": "3.7.6"
  }
 },
 "nbformat": 4,
 "nbformat_minor": 4
}
