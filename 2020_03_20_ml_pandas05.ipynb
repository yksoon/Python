{
 "cells": [
  {
   "cell_type": "markdown",
   "metadata": {},
   "source": [
    "###### Q. titanic 데이터 셋에서 age, fare 2개 열을 선택하여 데이터프레임 df를 만드세요"
   ]
  },
  {
   "cell_type": "code",
   "execution_count": 1,
   "metadata": {},
   "outputs": [
    {
     "name": "stdout",
     "output_type": "stream",
     "text": [
      "    age     fare\n",
      "0  22.0   7.2500\n",
      "1  38.0  71.2833\n",
      "2  26.0   7.9250\n",
      "3  35.0  53.1000\n",
      "4  35.0   8.0500\n"
     ]
    }
   ],
   "source": [
    "import seaborn as sns\n",
    "\n",
    "titanic = sns.load_dataset('titanic')\n",
    "\n",
    "df = titanic.loc[:, ['age', 'fare']]\n",
    "print(df.head())"
   ]
  },
  {
   "cell_type": "markdown",
   "metadata": {},
   "source": [
    "###### Q. 10을 더하는 함수 add 10 과 두 객체의 합 add_two_obj 함수를 정의한 후 결과값이 각각 20과 20을 출력하세요."
   ]
  },
  {
   "cell_type": "code",
   "execution_count": 2,
   "metadata": {},
   "outputs": [
    {
     "name": "stdout",
     "output_type": "stream",
     "text": [
      "20\n",
      "20\n"
     ]
    }
   ],
   "source": [
    "import pandas as pd\n",
    "\n",
    "def add_10(n):\n",
    "    return n + 10\n",
    "\n",
    "def add_two_obj(a, b):\n",
    "    return a + b\n",
    "\n",
    "print(add_10(10))\n",
    "print(add_two_obj(10, 10))"
   ]
  },
  {
   "cell_type": "markdown",
   "metadata": {},
   "source": [
    "###### Q. 10을 곱하는 사용자 함수와 두 객체의 나눗셈을 수행하는 사용자 함수를 정의한 후 결과 값이 각각 200과 10을 출력하세요."
   ]
  },
  {
   "cell_type": "code",
   "execution_count": 6,
   "metadata": {},
   "outputs": [
    {
     "name": "stdout",
     "output_type": "stream",
     "text": [
      "200\n",
      "10.0\n",
      "10.0\n"
     ]
    }
   ],
   "source": [
    "def mul_10(n):\n",
    "    return n * 10\n",
    "\n",
    "def div_two_obj(a, b):\n",
    "    return a / b\n",
    "\n",
    "print(mul_10(20))\n",
    "print(div_two_obj(mul_10(20), add_10(10)))\n",
    "print(div_two_obj(100, 10))"
   ]
  },
  {
   "cell_type": "markdown",
   "metadata": {},
   "source": [
    "###### Q. "
   ]
  },
  {
   "cell_type": "code",
   "execution_count": 9,
   "metadata": {},
   "outputs": [
    {
     "name": "stdout",
     "output_type": "stream",
     "text": [
      "0      22.0\n",
      "1      38.0\n",
      "2      26.0\n",
      "3      35.0\n",
      "4      35.0\n",
      "       ... \n",
      "886    27.0\n",
      "887    19.0\n",
      "888     NaN\n",
      "889    26.0\n",
      "890    32.0\n",
      "Name: age, Length: 891, dtype: float64\n",
      "\n",
      "0    32.0\n",
      "1    48.0\n",
      "2    36.0\n",
      "3    45.0\n",
      "4    45.0\n",
      "Name: age, dtype: float64\n"
     ]
    }
   ],
   "source": [
    "df_age = df['age']\n",
    "print(df_age)\n",
    "print()\n",
    "sr1 = df_age.apply(add_10)\n",
    "print(sr1.head())"
   ]
  },
  {
   "cell_type": "markdown",
   "metadata": {},
   "source": [
    "###### Q. 시리즈 객체 + 숫자를 연산하는 방식으로 df.age에 10을 더한 후 sr2에 저장하고 출력하세요."
   ]
  },
  {
   "cell_type": "code",
   "execution_count": 10,
   "metadata": {},
   "outputs": [
    {
     "data": {
      "text/plain": [
       "0      32.0\n",
       "1      48.0\n",
       "2      36.0\n",
       "3      45.0\n",
       "4      45.0\n",
       "       ... \n",
       "886    37.0\n",
       "887    29.0\n",
       "888     NaN\n",
       "889    36.0\n",
       "890    42.0\n",
       "Name: age, Length: 891, dtype: float64"
      ]
     },
     "execution_count": 10,
     "metadata": {},
     "output_type": "execute_result"
    }
   ],
   "source": [
    "# 시리즈 원소에 함수 매핑\n",
    "def add_two_obj(a, b):     # 두 객체의 합\n",
    "    return a + b\n",
    "sr2 = df.age.apply(add_two_obj, b=10)\n",
    "sr2"
   ]
  },
  {
   "cell_type": "markdown",
   "metadata": {},
   "source": [
    "###### Q. f람다 함수를 활용해서 위와 같은 연산을 수행하고 결과를 sr3로 출력하세요."
   ]
  },
  {
   "cell_type": "code",
   "execution_count": 11,
   "metadata": {},
   "outputs": [
    {
     "data": {
      "text/plain": [
       "0      32.0\n",
       "1      48.0\n",
       "2      36.0\n",
       "3      45.0\n",
       "4      45.0\n",
       "       ... \n",
       "886    37.0\n",
       "887    29.0\n",
       "888     NaN\n",
       "889    36.0\n",
       "890    42.0\n",
       "Name: age, Length: 891, dtype: float64"
      ]
     },
     "execution_count": 11,
     "metadata": {},
     "output_type": "execute_result"
    }
   ],
   "source": [
    "sr3 = df.age.apply(lambda x: add_10(x))\n",
    "sr3"
   ]
  },
  {
   "cell_type": "markdown",
   "metadata": {},
   "source": [
    "###### Q. df의 'age', 'fare' 칼럼에 10을 사칙연산 하는 사용자 함수를 정의하고 applymap()으로 각 사용자 함수를 매핑한 후 출력하세요."
   ]
  },
  {
   "cell_type": "code",
   "execution_count": 12,
   "metadata": {},
   "outputs": [
    {
     "data": {
      "text/html": [
       "<div>\n",
       "<style scoped>\n",
       "    .dataframe tbody tr th:only-of-type {\n",
       "        vertical-align: middle;\n",
       "    }\n",
       "\n",
       "    .dataframe tbody tr th {\n",
       "        vertical-align: top;\n",
       "    }\n",
       "\n",
       "    .dataframe thead th {\n",
       "        text-align: right;\n",
       "    }\n",
       "</style>\n",
       "<table border=\"1\" class=\"dataframe\">\n",
       "  <thead>\n",
       "    <tr style=\"text-align: right;\">\n",
       "      <th></th>\n",
       "      <th>age</th>\n",
       "      <th>fare</th>\n",
       "    </tr>\n",
       "  </thead>\n",
       "  <tbody>\n",
       "    <tr>\n",
       "      <th>0</th>\n",
       "      <td>32.0</td>\n",
       "      <td>17.2500</td>\n",
       "    </tr>\n",
       "    <tr>\n",
       "      <th>1</th>\n",
       "      <td>48.0</td>\n",
       "      <td>81.2833</td>\n",
       "    </tr>\n",
       "    <tr>\n",
       "      <th>2</th>\n",
       "      <td>36.0</td>\n",
       "      <td>17.9250</td>\n",
       "    </tr>\n",
       "  </tbody>\n",
       "</table>\n",
       "</div>"
      ],
      "text/plain": [
       "    age     fare\n",
       "0  32.0  17.2500\n",
       "1  48.0  81.2833\n",
       "2  36.0  17.9250"
      ]
     },
     "execution_count": 12,
     "metadata": {},
     "output_type": "execute_result"
    }
   ],
   "source": [
    "# 데이터프레임의 원소에 applymap() 적용\n",
    "# 데이터프레임의 개별 원소에 특정 함수를 매핑하려면 applymap() 메소드 활용.\n",
    "\n",
    "import pandas as pd\n",
    "\n",
    "df_map = df.applymap(add_10)\n",
    "df_map.head(3)"
   ]
  },
  {
   "cell_type": "markdown",
   "metadata": {},
   "source": [
    "###### Q. df_map의 [0, 0]을 NaN으로 변경한 후 missing_value 함수를 적용해서 불린 시리즈를 반환하세요."
   ]
  },
  {
   "cell_type": "code",
   "execution_count": 24,
   "metadata": {},
   "outputs": [
    {
     "name": "stdout",
     "output_type": "stream",
     "text": [
      "      age     fare\n",
      "0     NaN  17.2500\n",
      "1    48.0  81.2833\n",
      "2    36.0  17.9250\n",
      "3    45.0  63.1000\n",
      "4    45.0  18.0500\n",
      "..    ...      ...\n",
      "886  37.0  23.0000\n",
      "887  29.0  40.0000\n",
      "888   NaN  33.4500\n",
      "889  36.0  40.0000\n",
      "890  42.0  17.7500\n",
      "\n",
      "[891 rows x 2 columns]\n",
      "       age   fare\n",
      "0     True  False\n",
      "1    False  False\n",
      "2    False  False\n",
      "3    False  False\n",
      "4    False  False\n",
      "..     ...    ...\n",
      "886  False  False\n",
      "887  False  False\n",
      "888   True  False\n",
      "889  False  False\n",
      "890  False  False\n",
      "\n",
      "[891 rows x 2 columns]\n"
     ]
    }
   ],
   "source": [
    "import numpy as np\n",
    "\n",
    "def missing_value(series):\n",
    "    return series.isnull()\n",
    "\n",
    "df_map.iloc[0, 0] = np.nan\n",
    "print(df_map)\n",
    "result = df_map.apply(missing_value, axis=0)\n",
    "print(result)"
   ]
  },
  {
   "cell_type": "markdown",
   "metadata": {},
   "source": [
    "###### Q. titanic 데이터셋을 seaborn에서 로딩한 후 불린 인덱싱을 이용하여 아래 사항들을 출력하세요\n",
    "- 나이가 10대(10~19세)인 승객만 따로 선택\n",
    "- 나이가 10세 미만(0~9세)이고 여성인 승객만 따로 선택\n",
    "- 나이가 10세 미만(0~9세) 또는 60세 이상인 승객의 age, sex, alone 열만 선택"
   ]
  },
  {
   "cell_type": "code",
   "execution_count": 25,
   "metadata": {},
   "outputs": [
    {
     "name": "stdout",
     "output_type": "stream",
     "text": [
      "    survived  pclass     sex   age  sibsp  parch      fare embarked   class  \\\n",
      "9          1       2  female  14.0      1      0   30.0708        C  Second   \n",
      "14         0       3  female  14.0      0      0    7.8542        S   Third   \n",
      "22         1       3  female  15.0      0      0    8.0292        Q   Third   \n",
      "27         0       1    male  19.0      3      2  263.0000        S   First   \n",
      "38         0       3  female  18.0      2      0   18.0000        S   Third   \n",
      "\n",
      "      who  adult_male deck  embark_town alive  alone  \n",
      "9   child       False  NaN    Cherbourg   yes  False  \n",
      "14  child       False  NaN  Southampton    no   True  \n",
      "22  child       False  NaN   Queenstown   yes   True  \n",
      "27    man        True    C  Southampton    no  False  \n",
      "38  woman       False  NaN  Southampton    no  False  \n"
     ]
    }
   ],
   "source": [
    "import seaborn as sns\n",
    "\n",
    "titanic = sns.load_dataset('titanic')\n",
    "\n",
    "# 나이가 10대(10~19세)인 승객만 따로 선택\n",
    "mask1 = (titanic.age >= 10)&(titanic.age < 20)\n",
    "df_teenage = titanic.loc[mask1, :]\n",
    "print(df_teenage.head())"
   ]
  },
  {
   "cell_type": "code",
   "execution_count": 26,
   "metadata": {},
   "outputs": [
    {
     "name": "stdout",
     "output_type": "stream",
     "text": [
      "     survived  pclass     sex  age  sibsp  parch     fare embarked   class  \\\n",
      "10          1       3  female  4.0      1      1  16.7000        S   Third   \n",
      "24          0       3  female  8.0      3      1  21.0750        S   Third   \n",
      "43          1       2  female  3.0      1      2  41.5792        C  Second   \n",
      "58          1       2  female  5.0      1      2  27.7500        S  Second   \n",
      "119         0       3  female  2.0      4      2  31.2750        S   Third   \n",
      "\n",
      "       who  adult_male deck  embark_town alive  alone  \n",
      "10   child       False    G  Southampton   yes  False  \n",
      "24   child       False  NaN  Southampton    no  False  \n",
      "43   child       False  NaN    Cherbourg   yes  False  \n",
      "58   child       False  NaN  Southampton   yes  False  \n",
      "119  child       False  NaN  Southampton    no  False  \n"
     ]
    }
   ],
   "source": [
    "# 나이가 10세 미만(0~9세)이고 여성인 승객만 따로 선택\n",
    "\n",
    "mask2 = (titanic.age < 10) & (titanic.sex == 'female')\n",
    "df_female_under10 = titanic.loc[mask2, :]\n",
    "print(df_female_under10.head())"
   ]
  },
  {
   "cell_type": "code",
   "execution_count": 28,
   "metadata": {},
   "outputs": [
    {
     "name": "stdout",
     "output_type": "stream",
     "text": [
      "     age     sex  alone\n",
      "7    2.0    male  False\n",
      "10   4.0  female  False\n",
      "16   2.0    male  False\n",
      "24   8.0  female  False\n",
      "33  66.0    male   True\n"
     ]
    }
   ],
   "source": [
    "# 나이가 10세 미만(0~9세) 또는 60세 이상인 승객의 age, sex, alone 열만 선택\n",
    "\n",
    "mask3 = (titanic.age < 10) | (titanic.age >= 60)\n",
    "df_under10_morethan60 = titanic.loc[mask3, ['age', 'sex', 'alone']]\n",
    "print(df_under10_morethan60.head())"
   ]
  },
  {
   "cell_type": "markdown",
   "metadata": {},
   "source": [
    "###### Q. 최대값 - 최소값을 반환하는 사용자 함수를 min_max로 정의하고 age, fare 열로 구성되는 타이타닉 데이터프레임 df에 적용하여 결과와 자료형을 출력하세요. source : titanic = sns.load_dataset('titanic')"
   ]
  },
  {
   "cell_type": "code",
   "execution_count": 34,
   "metadata": {},
   "outputs": [
    {
     "name": "stdout",
     "output_type": "stream",
     "text": [
      "      age     fare\n",
      "0    22.0   7.2500\n",
      "1    38.0  71.2833\n",
      "2    26.0   7.9250\n",
      "3    35.0  53.1000\n",
      "4    35.0   8.0500\n",
      "..    ...      ...\n",
      "886  27.0  13.0000\n",
      "887  19.0  30.0000\n",
      "888   NaN  23.4500\n",
      "889  26.0  30.0000\n",
      "890  32.0   7.7500\n",
      "\n",
      "[891 rows x 2 columns]\n",
      "age      79.5800\n",
      "fare    512.3292\n",
      "dtype: float64\n",
      "\n",
      "<class 'pandas.core.series.Series'>\n"
     ]
    }
   ],
   "source": [
    "import seaborn as sns\n",
    "import pandas as pd\n",
    "\n",
    "titanic = sns.load_dataset('titanic')\n",
    "df = titanic.loc[:, ['age', 'fare']]\n",
    "df.to_pickle('af_df.pkl')\n",
    "\n",
    "df = pd.read_pickle('af_df.pkl')\n",
    "print(df)\n",
    "\n",
    "# 사용자 함수 정의\n",
    "def min_max(x):    # 최대값 - 최소값\n",
    "    return x.max() - x.min()\n",
    "\n",
    "result = df.apply(min_max)\n",
    "print(result)\n",
    "print()\n",
    "print(type(result))"
   ]
  },
  {
   "cell_type": "markdown",
   "metadata": {},
   "source": [
    "###### Q. 타이타닉 df의 열 순서를 아래와 같이 재구성하고 출력하세요.\n",
    "- 열선택 : ['pclass', 'sex', 'age', 'survived']\n",
    "- 열 이름의 리스트 만들기\n",
    "- 열 이름을 알파벳 순으로 정렬하기\n",
    "- 열 이름을 기존 순서의 정반대 역순으로 정렬하기\n",
    "- 열 이름을 사용자가 정의한 임의의 순서로 배치하기"
   ]
  },
  {
   "cell_type": "code",
   "execution_count": 39,
   "metadata": {},
   "outputs": [
    {
     "name": "stdout",
     "output_type": "stream",
     "text": [
      "   pclass     sex   age  survived\n",
      "0       3    male  22.0         0\n",
      "1       1  female  38.0         1\n",
      "2       3  female  26.0         1\n",
      "3       1  female  35.0         1\n",
      "4       3    male  35.0         0\n"
     ]
    }
   ],
   "source": [
    "import seaborn as sns\n",
    "titanic = sns.load_dataset('titanic')\n",
    "df = titanic.loc[0:4, 'survived':'age']\n",
    "\n",
    "# 열 이름의 리스트 만들기\n",
    "# columns = list(df.columns.values)   # 기존 열 이름\n",
    "# print(columns, '\\n')\n",
    "\n",
    "# 열 이름을 알파벳 순으로 정렬하기\n",
    "# columns_sorted = sorted(columns)  # 알파벳 순으로 정렬\n",
    "# df_sorted = df[columns_sorted]\n",
    "# print(df_sorted, '\\n')\n",
    "\n",
    "# # 열 이름을 기존 순서의 정반대 역순으로 정렬하기\n",
    "# columns_reversed = list(reversed(columns))\n",
    "# df_reversed = df[columns_reversed]\n",
    "# print(df_reversed, '\\n')\n",
    "\n",
    "# # 열 이름을 사용자가 정의한 임의의 순서로 재배치 하기\n",
    "columns_customed = ['pclass', 'sex', 'age', 'survived']\n",
    "df_customed = df[columns_customed]\n",
    "print(df_customed)"
   ]
  },
  {
   "cell_type": "markdown",
   "metadata": {},
   "source": [
    "## 데이터 프레임 연결\n",
    "- 서로 다른 데이터 프레임의 구성 형태와 속성이 균일하다면 행 또는 열 중에 어느 한 방향으로 붙여도 데이터의 일관성 유지\n",
    "- 기존 데이터 프레임의 형태를 유지하면서 이어 붙이는 개념으로 판다스 Concat() 함수를 활용"
   ]
  },
  {
   "cell_type": "code",
   "execution_count": 50,
   "metadata": {},
   "outputs": [
    {
     "data": {
      "text/html": [
       "<div>\n",
       "<style scoped>\n",
       "    .dataframe tbody tr th:only-of-type {\n",
       "        vertical-align: middle;\n",
       "    }\n",
       "\n",
       "    .dataframe tbody tr th {\n",
       "        vertical-align: top;\n",
       "    }\n",
       "\n",
       "    .dataframe thead th {\n",
       "        text-align: right;\n",
       "    }\n",
       "</style>\n",
       "<table border=\"1\" class=\"dataframe\">\n",
       "  <thead>\n",
       "    <tr style=\"text-align: right;\">\n",
       "      <th></th>\n",
       "      <th>a</th>\n",
       "      <th>b</th>\n",
       "      <th>c</th>\n",
       "    </tr>\n",
       "  </thead>\n",
       "  <tbody>\n",
       "    <tr>\n",
       "      <th>0</th>\n",
       "      <td>0</td>\n",
       "      <td>1</td>\n",
       "      <td>2</td>\n",
       "    </tr>\n",
       "    <tr>\n",
       "      <th>1</th>\n",
       "      <td>3</td>\n",
       "      <td>4</td>\n",
       "      <td>5</td>\n",
       "    </tr>\n",
       "    <tr>\n",
       "      <th>2</th>\n",
       "      <td>6</td>\n",
       "      <td>7</td>\n",
       "      <td>8</td>\n",
       "    </tr>\n",
       "    <tr>\n",
       "      <th>3</th>\n",
       "      <td>9</td>\n",
       "      <td>10</td>\n",
       "      <td>11</td>\n",
       "    </tr>\n",
       "  </tbody>\n",
       "</table>\n",
       "</div>"
      ],
      "text/plain": [
       "   a   b   c\n",
       "0  0   1   2\n",
       "1  3   4   5\n",
       "2  6   7   8\n",
       "3  9  10  11"
      ]
     },
     "metadata": {},
     "output_type": "display_data"
    },
    {
     "name": "stdout",
     "output_type": "stream",
     "text": [
      "\n"
     ]
    },
    {
     "data": {
      "text/html": [
       "<div>\n",
       "<style scoped>\n",
       "    .dataframe tbody tr th:only-of-type {\n",
       "        vertical-align: middle;\n",
       "    }\n",
       "\n",
       "    .dataframe tbody tr th {\n",
       "        vertical-align: top;\n",
       "    }\n",
       "\n",
       "    .dataframe thead th {\n",
       "        text-align: right;\n",
       "    }\n",
       "</style>\n",
       "<table border=\"1\" class=\"dataframe\">\n",
       "  <thead>\n",
       "    <tr style=\"text-align: right;\">\n",
       "      <th></th>\n",
       "      <th>a</th>\n",
       "      <th>b</th>\n",
       "      <th>c</th>\n",
       "      <th>d</th>\n",
       "    </tr>\n",
       "  </thead>\n",
       "  <tbody>\n",
       "    <tr>\n",
       "      <th>0</th>\n",
       "      <td>0</td>\n",
       "      <td>1</td>\n",
       "      <td>2</td>\n",
       "      <td>3</td>\n",
       "    </tr>\n",
       "    <tr>\n",
       "      <th>1</th>\n",
       "      <td>4</td>\n",
       "      <td>5</td>\n",
       "      <td>6</td>\n",
       "      <td>7</td>\n",
       "    </tr>\n",
       "    <tr>\n",
       "      <th>2</th>\n",
       "      <td>8</td>\n",
       "      <td>9</td>\n",
       "      <td>10</td>\n",
       "      <td>11</td>\n",
       "    </tr>\n",
       "    <tr>\n",
       "      <th>3</th>\n",
       "      <td>12</td>\n",
       "      <td>13</td>\n",
       "      <td>14</td>\n",
       "      <td>15</td>\n",
       "    </tr>\n",
       "  </tbody>\n",
       "</table>\n",
       "</div>"
      ],
      "text/plain": [
       "    a   b   c   d\n",
       "0   0   1   2   3\n",
       "1   4   5   6   7\n",
       "2   8   9  10  11\n",
       "3  12  13  14  15"
      ]
     },
     "metadata": {},
     "output_type": "display_data"
    },
    {
     "data": {
      "text/html": [
       "<div>\n",
       "<style scoped>\n",
       "    .dataframe tbody tr th:only-of-type {\n",
       "        vertical-align: middle;\n",
       "    }\n",
       "\n",
       "    .dataframe tbody tr th {\n",
       "        vertical-align: top;\n",
       "    }\n",
       "\n",
       "    .dataframe thead th {\n",
       "        text-align: right;\n",
       "    }\n",
       "</style>\n",
       "<table border=\"1\" class=\"dataframe\">\n",
       "  <thead>\n",
       "    <tr style=\"text-align: right;\">\n",
       "      <th></th>\n",
       "      <th>a</th>\n",
       "      <th>b</th>\n",
       "      <th>c</th>\n",
       "      <th>a</th>\n",
       "      <th>b</th>\n",
       "      <th>c</th>\n",
       "      <th>d</th>\n",
       "    </tr>\n",
       "  </thead>\n",
       "  <tbody>\n",
       "    <tr>\n",
       "      <th>0</th>\n",
       "      <td>0</td>\n",
       "      <td>1</td>\n",
       "      <td>2</td>\n",
       "      <td>0</td>\n",
       "      <td>1</td>\n",
       "      <td>2</td>\n",
       "      <td>3</td>\n",
       "    </tr>\n",
       "    <tr>\n",
       "      <th>1</th>\n",
       "      <td>3</td>\n",
       "      <td>4</td>\n",
       "      <td>5</td>\n",
       "      <td>4</td>\n",
       "      <td>5</td>\n",
       "      <td>6</td>\n",
       "      <td>7</td>\n",
       "    </tr>\n",
       "    <tr>\n",
       "      <th>2</th>\n",
       "      <td>6</td>\n",
       "      <td>7</td>\n",
       "      <td>8</td>\n",
       "      <td>8</td>\n",
       "      <td>9</td>\n",
       "      <td>10</td>\n",
       "      <td>11</td>\n",
       "    </tr>\n",
       "    <tr>\n",
       "      <th>3</th>\n",
       "      <td>9</td>\n",
       "      <td>10</td>\n",
       "      <td>11</td>\n",
       "      <td>12</td>\n",
       "      <td>13</td>\n",
       "      <td>14</td>\n",
       "      <td>15</td>\n",
       "    </tr>\n",
       "  </tbody>\n",
       "</table>\n",
       "</div>"
      ],
      "text/plain": [
       "   a   b   c   a   b   c   d\n",
       "0  0   1   2   0   1   2   3\n",
       "1  3   4   5   4   5   6   7\n",
       "2  6   7   8   8   9  10  11\n",
       "3  9  10  11  12  13  14  15"
      ]
     },
     "metadata": {},
     "output_type": "display_data"
    },
    {
     "data": {
      "text/html": [
       "<div>\n",
       "<style scoped>\n",
       "    .dataframe tbody tr th:only-of-type {\n",
       "        vertical-align: middle;\n",
       "    }\n",
       "\n",
       "    .dataframe tbody tr th {\n",
       "        vertical-align: top;\n",
       "    }\n",
       "\n",
       "    .dataframe thead th {\n",
       "        text-align: right;\n",
       "    }\n",
       "</style>\n",
       "<table border=\"1\" class=\"dataframe\">\n",
       "  <thead>\n",
       "    <tr style=\"text-align: right;\">\n",
       "      <th></th>\n",
       "      <th>a</th>\n",
       "      <th>b</th>\n",
       "      <th>c</th>\n",
       "      <th>d</th>\n",
       "    </tr>\n",
       "  </thead>\n",
       "  <tbody>\n",
       "    <tr>\n",
       "      <th>0</th>\n",
       "      <td>0</td>\n",
       "      <td>1</td>\n",
       "      <td>2</td>\n",
       "      <td>NaN</td>\n",
       "    </tr>\n",
       "    <tr>\n",
       "      <th>1</th>\n",
       "      <td>3</td>\n",
       "      <td>4</td>\n",
       "      <td>5</td>\n",
       "      <td>NaN</td>\n",
       "    </tr>\n",
       "    <tr>\n",
       "      <th>2</th>\n",
       "      <td>6</td>\n",
       "      <td>7</td>\n",
       "      <td>8</td>\n",
       "      <td>NaN</td>\n",
       "    </tr>\n",
       "    <tr>\n",
       "      <th>3</th>\n",
       "      <td>9</td>\n",
       "      <td>10</td>\n",
       "      <td>11</td>\n",
       "      <td>NaN</td>\n",
       "    </tr>\n",
       "    <tr>\n",
       "      <th>0</th>\n",
       "      <td>0</td>\n",
       "      <td>1</td>\n",
       "      <td>2</td>\n",
       "      <td>3.0</td>\n",
       "    </tr>\n",
       "    <tr>\n",
       "      <th>1</th>\n",
       "      <td>4</td>\n",
       "      <td>5</td>\n",
       "      <td>6</td>\n",
       "      <td>7.0</td>\n",
       "    </tr>\n",
       "    <tr>\n",
       "      <th>2</th>\n",
       "      <td>8</td>\n",
       "      <td>9</td>\n",
       "      <td>10</td>\n",
       "      <td>11.0</td>\n",
       "    </tr>\n",
       "    <tr>\n",
       "      <th>3</th>\n",
       "      <td>12</td>\n",
       "      <td>13</td>\n",
       "      <td>14</td>\n",
       "      <td>15.0</td>\n",
       "    </tr>\n",
       "  </tbody>\n",
       "</table>\n",
       "</div>"
      ],
      "text/plain": [
       "    a   b   c     d\n",
       "0   0   1   2   NaN\n",
       "1   3   4   5   NaN\n",
       "2   6   7   8   NaN\n",
       "3   9  10  11   NaN\n",
       "0   0   1   2   3.0\n",
       "1   4   5   6   7.0\n",
       "2   8   9  10  11.0\n",
       "3  12  13  14  15.0"
      ]
     },
     "metadata": {},
     "output_type": "display_data"
    }
   ],
   "source": [
    "import numpy as np\n",
    "import pandas as pd\n",
    "\n",
    "a = np.arange(start = 0, stop = 12)\n",
    "a\n",
    "a1 = a.reshape(4,3)\n",
    "df1 = pd.DataFrame(a1, columns=['a','b','c'])\n",
    "\n",
    "display(df1)\n",
    "print()\n",
    "\n",
    "b= np.arange(start=0, stop=16)\n",
    "b\n",
    "b1 = b.reshape(4,4)\n",
    "b1\n",
    "df2 = pd.DataFrame(b1, columns=['a','b','c','d'])\n",
    "\n",
    "display(df2)\n",
    "\n",
    "df3 = pd.concat([df1, df2], axis=1)\n",
    "display(df3)\n",
    "\n",
    "df4 = pd.concat([df1, df2], axis=0)\n",
    "display(df4)"
   ]
  }
 ],
 "metadata": {
  "kernelspec": {
   "display_name": "Python 3",
   "language": "python",
   "name": "python3"
  },
  "language_info": {
   "codemirror_mode": {
    "name": "ipython",
    "version": 3
   },
   "file_extension": ".py",
   "mimetype": "text/x-python",
   "name": "python",
   "nbconvert_exporter": "python",
   "pygments_lexer": "ipython3",
   "version": "3.7.6"
  }
 },
 "nbformat": 4,
 "nbformat_minor": 4
}
