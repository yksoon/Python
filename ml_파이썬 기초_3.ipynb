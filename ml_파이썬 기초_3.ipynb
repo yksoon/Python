{
 "cells": [
  {
   "cell_type": "code",
   "execution_count": null,
   "metadata": {},
   "outputs": [],
   "source": [
    "# mod1.py\n",
    "\n",
    "def sum(a, b):\n",
    "    return a + b\n",
    "def safe_sum(a,b):\n",
    "    if type(a) != type(b):\n",
    "        print('더할수 있는 것이 아닙니다.')\n",
    "        return\n",
    "    else:\n",
    "        result = sum(a,b)\n",
    "    return result"
   ]
  },
  {
   "cell_type": "code",
   "execution_count": 1,
   "metadata": {},
   "outputs": [
    {
     "name": "stdout",
     "output_type": "stream",
     "text": [
      "7\n"
     ]
    }
   ],
   "source": [
    "# 모듈이란 함수나 변수 또는 클래스를 모아 놓은 파일\n",
    "# mod1.py 가 작업 디렉토리에 있어야 함\n",
    "\n",
    "import mod1\n",
    "print(mod1.safe_sum(3,4))"
   ]
  },
  {
   "cell_type": "code",
   "execution_count": 2,
   "metadata": {},
   "outputs": [
    {
     "name": "stdout",
     "output_type": "stream",
     "text": [
      "30\n"
     ]
    }
   ],
   "source": [
    "print(mod1.sum(10,20))"
   ]
  },
  {
   "cell_type": "code",
   "execution_count": 5,
   "metadata": {},
   "outputs": [
    {
     "data": {
      "text/plain": [
       "7"
      ]
     },
     "execution_count": 5,
     "metadata": {},
     "output_type": "execute_result"
    }
   ],
   "source": [
    "from mod1 import sum\n",
    "sum(3,4)"
   ]
  },
  {
   "cell_type": "code",
   "execution_count": 6,
   "metadata": {},
   "outputs": [
    {
     "name": "stdout",
     "output_type": "stream",
     "text": [
      "더할수 있는 것이 아닙니다.\n"
     ]
    }
   ],
   "source": [
    "from mod1 import sum, safe_sum\n",
    "sum(3,4)\n",
    "safe_sum(1, 'a')"
   ]
  },
  {
   "cell_type": "code",
   "execution_count": 3,
   "metadata": {},
   "outputs": [
    {
     "name": "stdout",
     "output_type": "stream",
     "text": [
      "5\n",
      "2\n"
     ]
    }
   ],
   "source": [
    "# if __name__ == \"__main__\"을 사용하면 C:\\doit>python mod1.py처럼 직접 이 파일을 실행했을때는\n",
    "# __name__ == \"__main__\"이 참이 되어 if문 다음 문장이 수행된다.\n",
    "# 반대로 대화형 인터프리터나 다른 파일에서 이 모듈을 불러서 사용할때는\n",
    "# __name__ == \"__main__\"이 거짓이 되어 if문 다음 문장이 수행되지 않는다.\n",
    "# mod1.py\n",
    "\n",
    "def add(a, b):\n",
    "    return a+b\n",
    "def sub(a, b):\n",
    "    return a-b\n",
    "\n",
    "if __name__ == \"__main__\":\n",
    "    print(add(1,4))\n",
    "    print(sub(4,2))"
   ]
  },
  {
   "cell_type": "code",
   "execution_count": null,
   "metadata": {},
   "outputs": [],
   "source": [
    "# if __name__ == \"__main__\"을 사용하면 python mod1.py 처럼 직접 이 파일을\n",
    "# 실행시켰을때는 참이 되어 if문 다음 문장들이 수행 됨.\n",
    "# 반대로 모율로 불러서 사용시 거짓이 되어 if문 다음 문장들이 수행되지 않음\n",
    "\n",
    "import mod1\n",
    "print(safe_sum(5,7))\n",
    "\n",
    "# NameError: name 'safe_sum' is not defined"
   ]
  },
  {
   "cell_type": "code",
   "execution_count": 23,
   "metadata": {},
   "outputs": [
    {
     "name": "stdout",
     "output_type": "stream",
     "text": [
      "3.141592\n",
      "12.566368\n",
      "7.641592\n",
      "__main__\n"
     ]
    }
   ],
   "source": [
    "# 클래스나 변수 등을 포함한 모듈(mod2.py)\n",
    "\n",
    "PI = 3.141592\n",
    "class Math:\n",
    "    def solv(self, r):\n",
    "        return PI * (r ** 2)  \n",
    "    def sum(self, a, b):\n",
    "        return a+b\n",
    "\n",
    "if __name__==\"__main__\":\n",
    "    print(PI)\n",
    "    a = Math()\n",
    "    print(a.solv(2))\n",
    "    print(a.sum(PI, 4.5))\n",
    "    print(__name__)"
   ]
  },
  {
   "cell_type": "code",
   "execution_count": 22,
   "metadata": {},
   "outputs": [
    {
     "name": "stdout",
     "output_type": "stream",
     "text": [
      "3.141592\n",
      "12.566368\n",
      "7.641592\n",
      "__main__\n",
      "mod2\n"
     ]
    }
   ],
   "source": [
    "# 모듈에 포함된 변수, 클래스, 함수 사용하기\n",
    "\n",
    "import mod2\n",
    "print(mod2.PI)\n",
    "a = mod2.Math()\n",
    "print(a.solv(2))\n",
    "print(a.sum(PI, 4.5))\n",
    "print(__name__)\n",
    "print(mod2.__name__)"
   ]
  },
  {
   "cell_type": "code",
   "execution_count": 9,
   "metadata": {
    "scrolled": true
   },
   "outputs": [
    {
     "name": "stdout",
     "output_type": "stream",
     "text": [
      "7\n"
     ]
    }
   ],
   "source": [
    "# 새 파일 안에서 이전에 만든 모듈 불러오기\n",
    "\n",
    "import mod2\n",
    "a = mod2.Math()\n",
    "result = a.sum(3,4)\n",
    "print(result)"
   ]
  },
  {
   "cell_type": "code",
   "execution_count": 10,
   "metadata": {},
   "outputs": [
    {
     "name": "stdout",
     "output_type": "stream",
     "text": [
      "[Errno 2] No such file or directory: 'nofile'\n"
     ]
    }
   ],
   "source": [
    "# 예외 처리\n",
    "\n",
    "try:\n",
    "    f = open(\"nofile\", \"r\")\n",
    "except FileNotFoundError as e:\n",
    "    print(str(e))\n",
    "else:\n",
    "    data = f.read()\n",
    "    f.close()"
   ]
  },
  {
   "cell_type": "code",
   "execution_count": 11,
   "metadata": {},
   "outputs": [
    {
     "name": "stdout",
     "output_type": "stream",
     "text": [
      "nofile\n"
     ]
    }
   ],
   "source": [
    "# finally 절은 try문 수행 도중 예외 발생 여부에 상관 없이 항상 수행\n",
    "\n",
    "f = open(\"nofile\", \"w\")\n",
    "try:\n",
    "    print(\"nofile\")\n",
    "finally:\n",
    "    f.close()"
   ]
  },
  {
   "cell_type": "code",
   "execution_count": 12,
   "metadata": {},
   "outputs": [],
   "source": [
    "# 파일이 없어도 오류를 발생시키지 않고 통과\n",
    "try:\n",
    "    f = open(\"nofile\", \"r\")\n",
    "except FileNotFoundError:\n",
    "    pass"
   ]
  },
  {
   "cell_type": "code",
   "execution_count": 21,
   "metadata": {},
   "outputs": [
    {
     "name": "stdout",
     "output_type": "stream",
     "text": [
      "division by zero\n",
      "__main__\n"
     ]
    }
   ],
   "source": [
    "# e라는 오류 메세지를 출력\n",
    "\n",
    "try:\n",
    "    4/0\n",
    "except ZeroDivisionError as e:\n",
    "    print(e)\n"
   ]
  },
  {
   "cell_type": "code",
   "execution_count": null,
   "metadata": {
    "scrolled": false
   },
   "outputs": [],
   "source": [
    "# 리스트에서 얻을 수 없는 값이어서 에러 발생\n",
    "a = [1,2,3]\n",
    "a[4]\n",
    "\n",
    "# IndexError: list index out of range"
   ]
  },
  {
   "cell_type": "code",
   "execution_count": 20,
   "metadata": {},
   "outputs": [
    {
     "ename": "NotImplementedError",
     "evalue": "",
     "output_type": "error",
     "traceback": [
      "\u001b[1;31m---------------------------------------------------------------------------\u001b[0m",
      "\u001b[1;31mNotImplementedError\u001b[0m                       Traceback (most recent call last)",
      "\u001b[1;32m<ipython-input-20-a6fa865f6e03>\u001b[0m in \u001b[0;36m<module>\u001b[1;34m\u001b[0m\n\u001b[0;32m      9\u001b[0m \u001b[1;33m\u001b[0m\u001b[0m\n\u001b[0;32m     10\u001b[0m \u001b[0meagle\u001b[0m \u001b[1;33m=\u001b[0m \u001b[0mEagle\u001b[0m\u001b[1;33m(\u001b[0m\u001b[1;33m)\u001b[0m\u001b[1;33m\u001b[0m\u001b[1;33m\u001b[0m\u001b[0m\n\u001b[1;32m---> 11\u001b[1;33m \u001b[0meagle\u001b[0m\u001b[1;33m.\u001b[0m\u001b[0mfly\u001b[0m\u001b[1;33m(\u001b[0m\u001b[1;33m)\u001b[0m\u001b[1;33m\u001b[0m\u001b[1;33m\u001b[0m\u001b[0m\n\u001b[0m\u001b[0;32m     12\u001b[0m \u001b[0mprint\u001b[0m\u001b[1;33m(\u001b[0m\u001b[0m__name__\u001b[0m\u001b[1;33m)\u001b[0m\u001b[1;33m\u001b[0m\u001b[1;33m\u001b[0m\u001b[0m\n\u001b[0;32m     13\u001b[0m \u001b[1;33m\u001b[0m\u001b[0m\n",
      "\u001b[1;32m<ipython-input-20-a6fa865f6e03>\u001b[0m in \u001b[0;36mfly\u001b[1;34m(self)\u001b[0m\n\u001b[0;32m      3\u001b[0m \u001b[1;32mclass\u001b[0m \u001b[0mBird\u001b[0m\u001b[1;33m:\u001b[0m\u001b[1;33m\u001b[0m\u001b[1;33m\u001b[0m\u001b[0m\n\u001b[0;32m      4\u001b[0m     \u001b[1;32mdef\u001b[0m \u001b[0mfly\u001b[0m\u001b[1;33m(\u001b[0m\u001b[0mself\u001b[0m\u001b[1;33m)\u001b[0m\u001b[1;33m:\u001b[0m\u001b[1;33m\u001b[0m\u001b[1;33m\u001b[0m\u001b[0m\n\u001b[1;32m----> 5\u001b[1;33m         \u001b[1;32mraise\u001b[0m \u001b[0mNotImplementedError\u001b[0m  \u001b[1;31m# 에러 발생\u001b[0m\u001b[1;33m\u001b[0m\u001b[1;33m\u001b[0m\u001b[0m\n\u001b[0m\u001b[0;32m      6\u001b[0m \u001b[1;33m\u001b[0m\u001b[0m\n\u001b[0;32m      7\u001b[0m \u001b[1;32mclass\u001b[0m \u001b[0mEagle\u001b[0m\u001b[1;33m(\u001b[0m\u001b[0mBird\u001b[0m\u001b[1;33m)\u001b[0m\u001b[1;33m:\u001b[0m\u001b[1;33m\u001b[0m\u001b[1;33m\u001b[0m\u001b[0m\n",
      "\u001b[1;31mNotImplementedError\u001b[0m: "
     ]
    }
   ],
   "source": [
    "# 오류 일부러 발생시키기\n",
    "\n",
    "class Bird:\n",
    "    def fly(self):\n",
    "        raise NotImplementedError  # 에러 발생\n",
    "        \n",
    "class Eagle(Bird):\n",
    "    pass\n",
    "\n",
    "eagle = Eagle()\n",
    "eagle.fly()\n",
    "print(__name__)\n",
    "\n",
    "# NotImplementedError: "
   ]
  },
  {
   "cell_type": "code",
   "execution_count": 17,
   "metadata": {},
   "outputs": [
    {
     "name": "stdout",
     "output_type": "stream",
     "text": [
      "very fast\n"
     ]
    }
   ],
   "source": [
    "# NotImplementedError가 발생되지 않게 하려면 Eagle 클래스에 fly 함수를 반드시 구현\n",
    "\n",
    "class Eagle(Bird):\n",
    "    def fly(self):\n",
    "        print(\"very fast\")\n",
    "        \n",
    "eagle = Eagle()\n",
    "eagle.fly()"
   ]
  },
  {
   "cell_type": "code",
   "execution_count": 18,
   "metadata": {},
   "outputs": [
    {
     "name": "stdout",
     "output_type": "stream",
     "text": [
      "5\n",
      "-3\n"
     ]
    }
   ],
   "source": [
    "import mod3"
   ]
  },
  {
   "cell_type": "code",
   "execution_count": null,
   "metadata": {},
   "outputs": [],
   "source": [
    "# __init__.py 의 용도\n",
    "# __init__.py 파일은 해당 디렉토리가 패키지의 일부임을 알려주는 역할을 함\n",
    "# python3.3 버전 부터는 __init__.py 파일 없어도 패키지로 인식되지만\n",
    "# 하위 버전 호환을 위해 __init__.py 생성 필요함"
   ]
  },
  {
   "cell_type": "code",
   "execution_count": null,
   "metadata": {},
   "outputs": [],
   "source": [
    "# __all__의 용도\n",
    "# 특정 디렉토리의 모듈을 *을 이용하여 import할 때는 해당 디렉토리의 __init__.py\n",
    "# 파일에 __all__이라는 변수를 설정하고 import할 수 있는 모듈을"
   ]
  },
  {
   "cell_type": "code",
   "execution_count": null,
   "metadata": {},
   "outputs": [],
   "source": [
    "# 내장함수\n",
    "# 파이썬 내장 함수는 외부 모듈과 달리 import가 필요하지 않기 때문에 아무런 설정없이 바로 사용"
   ]
  },
  {
   "cell_type": "code",
   "execution_count": 27,
   "metadata": {},
   "outputs": [
    {
     "name": "stdout",
     "output_type": "stream",
     "text": [
      "3\n",
      "False\n",
      "True\n",
      "a\n",
      "(2, 1)\n",
      "0 body\n",
      "1 foo\n",
      "2 bar\n",
      "=========\n",
      "3\n"
     ]
    }
   ],
   "source": [
    "# 내장 함수\n",
    "print(abs(-3))  # 절대값\n",
    "print(all([1,2,3,0]))  # x가 모두 참이면 True, 거짓이 하나라도 있으면 False\n",
    "print(any([1,2,3,0]))  # x중 하나라도 참이 있을경우 True, 모두 거짓일 경우 False\n",
    "print(chr(97))  # 아스키 코드값을 입력으로 받아 해당 문자 출력\n",
    "# print(dir([1,2,3]))  # 객체가 자체적으로 가지고 있는 변수나 함수\n",
    "# print(dir({\"1\":\"a\"}))  \n",
    "print(divmod(7,3))  # 7을 3으로 나눈 몫과 나머지를 튜플 형태로 리턴\n",
    "for i, name in enumerate([\"body\", \"foo\", \"bar\"]):  # 순서가 있는 자료형을 입력으로 받아 인덱스 값을 포함한  enumerate 객체를 리턴\n",
    "    print(i, name)\n",
    "print(\"=========\")\n",
    "print(eval(\"1+2\"))  # 실행 가능한 문자열 입력으로 받아 문자열을 실행한다"
   ]
  },
  {
   "cell_type": "code",
   "execution_count": 28,
   "metadata": {},
   "outputs": [
    {
     "name": "stdout",
     "output_type": "stream",
     "text": [
      "[1, 2, 6]\n"
     ]
    }
   ],
   "source": [
    "def positive(numberList):\n",
    "    result = []\n",
    "    \n",
    "    for num in numberList:\n",
    "        if num > 0:\n",
    "            result.append(num)\n",
    "    return result\n",
    "\n",
    "print(positive([1,-3,2,0,-5,6]))"
   ]
  },
  {
   "cell_type": "code",
   "execution_count": 29,
   "metadata": {},
   "outputs": [
    {
     "name": "stdout",
     "output_type": "stream",
     "text": [
      "[1, 2, 6]\n"
     ]
    }
   ],
   "source": [
    "# filter 함수는 첫번째 인수로 함수 이름을 두번째 인수로 그 함수에\n",
    "# 적용하는 반복 가능한 자료형을 받고 리턴값이 참인 것만 묶어서 반환\n",
    "\n",
    "def positive(x):\n",
    "    return x > 0\n",
    "\n",
    "print(list(filter(positive, [1,-3,2,0,-5,6])))"
   ]
  },
  {
   "cell_type": "code",
   "execution_count": 30,
   "metadata": {},
   "outputs": [
    {
     "name": "stdout",
     "output_type": "stream",
     "text": [
      "0xea\n",
      "140706621858256\n",
      "140706621858256\n",
      "140706621858256\n",
      "140706621858288\n"
     ]
    }
   ],
   "source": [
    "print(hex(234))   # 정수값을 입력받아 16진수로 변환하여 리턴\n",
    "# id() 메모리 주소\n",
    "a = 3\n",
    "print(id(3))\n",
    "print(id(a))\n",
    "b = a\n",
    "print(id(b))\n",
    "print(id(4))"
   ]
  },
  {
   "cell_type": "code",
   "execution_count": null,
   "metadata": {},
   "outputs": [],
   "source": [
    "# input\n",
    "\n",
    "a = input()"
   ]
  },
  {
   "cell_type": "code",
   "execution_count": 1,
   "metadata": {},
   "outputs": [
    {
     "name": "stdout",
     "output_type": "stream",
     "text": [
      "숫자만 입력해주세요5\n"
     ]
    }
   ],
   "source": [
    "b = input(\"숫자만 입력해주세요\")"
   ]
  },
  {
   "cell_type": "code",
   "execution_count": 4,
   "metadata": {},
   "outputs": [
    {
     "name": "stdout",
     "output_type": "stream",
     "text": [
      "3\n",
      "3\n"
     ]
    }
   ],
   "source": [
    "# 정수 형태로 리턴\n",
    "print(int(\"3\"))\n",
    "print(int(3.5))"
   ]
  },
  {
   "cell_type": "code",
   "execution_count": 5,
   "metadata": {},
   "outputs": [
    {
     "data": {
      "text/plain": [
       "True"
      ]
     },
     "execution_count": 5,
     "metadata": {},
     "output_type": "execute_result"
    }
   ],
   "source": [
    "# isinstance(object, class) 입력으로 받은 인스턴스가 그 클래스의 인스턴스인지\n",
    "# 판단하여 참이면 True 리턴\n",
    "# a가 Person 클래스에 의해 생성된 인스턴스임을 확인\n",
    "\n",
    "class Person: pass\n",
    "a = Person()\n",
    "isinstance(a, Person)"
   ]
  },
  {
   "cell_type": "code",
   "execution_count": 6,
   "metadata": {},
   "outputs": [
    {
     "data": {
      "text/plain": [
       "7"
      ]
     },
     "execution_count": 6,
     "metadata": {},
     "output_type": "execute_result"
    }
   ],
   "source": [
    "# 람다는 def 보다 간결하게 사용할 수 있음\n",
    "\n",
    "sum = lambda a,b:a+b\n",
    "sum(3,4)"
   ]
  },
  {
   "cell_type": "code",
   "execution_count": 14,
   "metadata": {},
   "outputs": [
    {
     "name": "stdout",
     "output_type": "stream",
     "text": [
      "7\n",
      "12\n"
     ]
    }
   ],
   "source": [
    "# 리스트 myList에 람다 함수 2개 추가\n",
    "\n",
    "myList = [lambda a,b:a+b, lambda a,b:a*b]\n",
    "print(myList[0](3,4))\n",
    "print(myList[1](3,4))"
   ]
  },
  {
   "cell_type": "code",
   "execution_count": 15,
   "metadata": {},
   "outputs": [
    {
     "name": "stdout",
     "output_type": "stream",
     "text": [
      "6\n",
      "3\n",
      "2\n"
     ]
    }
   ],
   "source": [
    "# len(s)은 입력값 s의 길이(요소의 전체 개수)를 리턴\n",
    "\n",
    "print(len('python'))\n",
    "print(len([1,2,3]))\n",
    "print(len((1,'a')))"
   ]
  },
  {
   "cell_type": "code",
   "execution_count": 16,
   "metadata": {},
   "outputs": [
    {
     "name": "stdout",
     "output_type": "stream",
     "text": [
      "['p', 'y', 't', 'h', 'o', 'n']\n"
     ]
    },
    {
     "data": {
      "text/plain": [
       "[1, 2, 3]"
      ]
     },
     "execution_count": 16,
     "metadata": {},
     "output_type": "execute_result"
    }
   ],
   "source": [
    "# list(s) 는 반복 가능한 자료형 s를 입력받아 리스트로 만들어 리턴\n",
    "\n",
    "print(list(\"python\"))\n",
    "list((1,2,3))"
   ]
  },
  {
   "cell_type": "code",
   "execution_count": 17,
   "metadata": {},
   "outputs": [
    {
     "name": "stdout",
     "output_type": "stream",
     "text": [
      "[2, 4, 6, 8]\n",
      "[2, 4, 6, 8]\n"
     ]
    }
   ],
   "source": [
    "# map(f, iterable)은 입력 받은 자료형의 각 요소가 f에 의해 수행된 결과를 묶어서 리턴\n",
    "\n",
    "def two_times(x): return x*2\n",
    "print(list(map(two_times, [1,2,3,4])))\n",
    "\n",
    "# 위 형식을 람다식으로 표현\n",
    "print(list(map(lambda a:a*2, [1,2,3,4])))"
   ]
  },
  {
   "cell_type": "code",
   "execution_count": 20,
   "metadata": {},
   "outputs": [
    {
     "name": "stdout",
     "output_type": "stream",
     "text": [
      "3\n",
      "y\n",
      "2\n",
      "e\n"
     ]
    }
   ],
   "source": [
    "# 최대 최소\n",
    "\n",
    "print(max([1,2,3]))\n",
    "print(max(\"python\"))\n",
    "print(min([2,4,6]))\n",
    "print(min(\"hello\"))"
   ]
  },
  {
   "cell_type": "code",
   "execution_count": null,
   "metadata": {},
   "outputs": [],
   "source": [
    "oct(34)   # 정수를 8진수 문자열로 바꾸어 리턴\n",
    "# open(filename, [mode]) 파일 이름과 읽기 방법을 입력 받아 객체를 리턴\n",
    "f.open(\"binary_file\", rb)"
   ]
  },
  {
   "cell_type": "code",
   "execution_count": null,
   "metadata": {},
   "outputs": [],
   "source": [
    "# 모드 부분이 생략 되면 기본값으로 읽기 모드인 r을 갖게 됨\n",
    "\n",
    "fread = open(\"read_mode.txt\", \"r\")\n",
    "fread2 = open(\"read_mode.txt\")"
   ]
  },
  {
   "cell_type": "code",
   "execution_count": null,
   "metadata": {},
   "outputs": [],
   "source": [
    "# 문자의 아스키코드값을 리턴\n",
    "ord(\"a\")"
   ]
  },
  {
   "cell_type": "code",
   "execution_count": 22,
   "metadata": {},
   "outputs": [
    {
     "data": {
      "text/plain": [
       "16"
      ]
     },
     "execution_count": 22,
     "metadata": {},
     "output_type": "execute_result"
    }
   ],
   "source": [
    "# pow(x, y) 는 x와 y 제곱한 결과 값을 리턴\n",
    "pow(2,4)"
   ]
  },
  {
   "cell_type": "code",
   "execution_count": 24,
   "metadata": {},
   "outputs": [
    {
     "name": "stdout",
     "output_type": "stream",
     "text": [
      "[0, 1, 2, 3, 4]\n",
      "[5, 6, 7, 8, 9]\n",
      "[1, 3, 5, 7, 9]\n",
      "[0, -1, -2, -3, -4, -5, -6, -7, -8, -9]\n"
     ]
    }
   ],
   "source": [
    "# range() 함수를 입력받은 숮자레 해단되는 범위의 값을 반복가능한\n",
    "\n",
    "print(list(range(5)))\n",
    "print(list(range(5, 10)))\n",
    "print(list(range(1, 10, 2)))\n",
    "print(list(range(0, -10, -1)))"
   ]
  }
 ],
 "metadata": {
  "kernelspec": {
   "display_name": "Python 3",
   "language": "python",
   "name": "python3"
  },
  "language_info": {
   "codemirror_mode": {
    "name": "ipython",
    "version": 3
   },
   "file_extension": ".py",
   "mimetype": "text/x-python",
   "name": "python",
   "nbconvert_exporter": "python",
   "pygments_lexer": "ipython3",
   "version": "3.7.6"
  }
 },
 "nbformat": 4,
 "nbformat_minor": 4
}
