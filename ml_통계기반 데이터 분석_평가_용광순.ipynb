{
 "cells": [
  {
   "cell_type": "markdown",
   "metadata": {},
   "source": [
    "## 훈련과정 : R·파이썬 기반 빅데이터 분석 전문가 양성과정\n",
    "- 교과목 평가 : 통계기반 데이터 분석\n",
    "- 성명 :\n",
    "- 점수 :"
   ]
  },
  {
   "cell_type": "code",
   "execution_count": 2,
   "metadata": {
    "scrolled": true
   },
   "outputs": [
    {
     "output_type": "execute_result",
     "data": {
      "text/plain": "    mpg  cylinders  displacement horsepower  weight  acceleration  model year  \\\n0  18.0          8         307.0      130.0  3504.0          12.0          70   \n1  15.0          8         350.0      165.0  3693.0          11.5          70   \n2  18.0          8         318.0      150.0  3436.0          11.0          70   \n3  16.0          8         304.0      150.0  3433.0          12.0          70   \n4  17.0          8         302.0      140.0  3449.0          10.5          70   \n\n   origin                       name  \n0       1  chevrolet chevelle malibu  \n1       1          buick skylark 320  \n2       1         plymouth satellite  \n3       1              amc rebel sst  \n4       1                ford torino  ",
      "text/html": "<div>\n<style scoped>\n    .dataframe tbody tr th:only-of-type {\n        vertical-align: middle;\n    }\n\n    .dataframe tbody tr th {\n        vertical-align: top;\n    }\n\n    .dataframe thead th {\n        text-align: right;\n    }\n</style>\n<table border=\"1\" class=\"dataframe\">\n  <thead>\n    <tr style=\"text-align: right;\">\n      <th></th>\n      <th>mpg</th>\n      <th>cylinders</th>\n      <th>displacement</th>\n      <th>horsepower</th>\n      <th>weight</th>\n      <th>acceleration</th>\n      <th>model year</th>\n      <th>origin</th>\n      <th>name</th>\n    </tr>\n  </thead>\n  <tbody>\n    <tr>\n      <th>0</th>\n      <td>18.0</td>\n      <td>8</td>\n      <td>307.0</td>\n      <td>130.0</td>\n      <td>3504.0</td>\n      <td>12.0</td>\n      <td>70</td>\n      <td>1</td>\n      <td>chevrolet chevelle malibu</td>\n    </tr>\n    <tr>\n      <th>1</th>\n      <td>15.0</td>\n      <td>8</td>\n      <td>350.0</td>\n      <td>165.0</td>\n      <td>3693.0</td>\n      <td>11.5</td>\n      <td>70</td>\n      <td>1</td>\n      <td>buick skylark 320</td>\n    </tr>\n    <tr>\n      <th>2</th>\n      <td>18.0</td>\n      <td>8</td>\n      <td>318.0</td>\n      <td>150.0</td>\n      <td>3436.0</td>\n      <td>11.0</td>\n      <td>70</td>\n      <td>1</td>\n      <td>plymouth satellite</td>\n    </tr>\n    <tr>\n      <th>3</th>\n      <td>16.0</td>\n      <td>8</td>\n      <td>304.0</td>\n      <td>150.0</td>\n      <td>3433.0</td>\n      <td>12.0</td>\n      <td>70</td>\n      <td>1</td>\n      <td>amc rebel sst</td>\n    </tr>\n    <tr>\n      <th>4</th>\n      <td>17.0</td>\n      <td>8</td>\n      <td>302.0</td>\n      <td>140.0</td>\n      <td>3449.0</td>\n      <td>10.5</td>\n      <td>70</td>\n      <td>1</td>\n      <td>ford torino</td>\n    </tr>\n  </tbody>\n</table>\n</div>"
     },
     "metadata": {},
     "execution_count": 2
    }
   ],
   "source": [
    "import pandas as pd\n",
    "df = pd.read_csv('auto-mpg.csv', header=None)\n",
    "df.columns = ['mpg','cylinders','displacement','horsepower','weight',\n",
    "              'acceleration','model year','origin','name'] \n",
    "df.head()"
   ]
  },
  {
   "cell_type": "markdown",
   "metadata": {},
   "source": [
    "#### Q1. df 데이터프레임에 대하여 아래 사항을 수행하세요. --- (15점)\n",
    "1. 'mpg','cylinders','displacement','weight','acceleration','model year','origin','name' 컬럼의 통계요약표를 출력\n",
    "2. mpg 컬럼의 평균값, 중간값, 최대값, 최소값, 표준편차 출력\n",
    "3. mpg 컬럼과 weight컬럼간 상관계수 출력"
   ]
  },
  {
   "cell_type": "code",
   "execution_count": 3,
   "metadata": {},
   "outputs": [
    {
     "output_type": "stream",
     "name": "stdout",
     "text": "mpg   cylinders  displacement       weight  acceleration  \\\ncount  398.000000  398.000000    398.000000   398.000000    398.000000   \nmean    23.514573    5.454774    193.425879  2970.424623     15.568090   \nstd      7.815984    1.701004    104.269838   846.841774      2.757689   \nmin      9.000000    3.000000     68.000000  1613.000000      8.000000   \n25%     17.500000    4.000000    104.250000  2223.750000     13.825000   \n50%     23.000000    4.000000    148.500000  2803.500000     15.500000   \n75%     29.000000    8.000000    262.000000  3608.000000     17.175000   \nmax     46.600000    8.000000    455.000000  5140.000000     24.800000   \n\n       model year      origin  \ncount  398.000000  398.000000  \nmean    76.010050    1.572864  \nstd      3.697627    0.802055  \nmin     70.000000    1.000000  \n25%     73.000000    1.000000  \n50%     76.000000    1.000000  \n75%     79.000000    2.000000  \nmax     82.000000    3.000000  \n\n23.514572864321607\n\n23.0\n\n46.6\n\n9.0\n\n7.815984312565782\n\n             mpg    weight\nmpg     1.000000 -0.831741\nweight -0.831741  1.000000\n"
    }
   ],
   "source": [
    "print(df.describe())\n",
    "print()\n",
    "\n",
    "print(df.mpg.mean())\n",
    "print()\n",
    " \n",
    "print(df.mpg.median())\n",
    "print()\n",
    "\n",
    "print(df.mpg.max())\n",
    "print()\n",
    " \n",
    "print(df.mpg.min())\n",
    "print()\n",
    " \n",
    "print(df.mpg.std())\n",
    "print()\n",
    "\n",
    "print(df[['mpg','weight']].corr())\n",
    ""
   ]
  },
  {
   "cell_type": "markdown",
   "metadata": {},
   "source": [
    "#### Q2. df.horsepowr의 통계요약표를 출력하세요.  ----- (10점)"
   ]
  },
  {
   "cell_type": "code",
   "execution_count": 4,
   "metadata": {},
   "outputs": [
    {
     "output_type": "execute_result",
     "data": {
      "text/plain": "count    392.000000\nmean     104.469388\nstd       38.491160\nmin       46.000000\n25%       75.000000\n50%       93.500000\n75%      126.000000\nmax      230.000000\nName: horsepower, dtype: float64"
     },
     "metadata": {},
     "execution_count": 4
    }
   ],
   "source": [
    "import numpy as np\n",
    "df['horsepower'].replace('?', np.nan, inplace=True)\n",
    "df.dropna(subset=['horsepower'], axis=0, inplace=True)\n",
    "df['horsepower'] = df['horsepower'].astype('float')\n",
    "\n",
    "df.horsepower.describe()"
   ]
  },
  {
   "cell_type": "markdown",
   "metadata": {},
   "source": [
    "#### Q3. 아래 사항을 처리 하세요. --- (5점)\n",
    "- origin 열의 고유값을 출력하세요.\n",
    "- origin 열에 대하여 정수형 데이터를 문자형 데이터로 변환한 후 고유값을 출력하세요."
   ]
  },
  {
   "cell_type": "code",
   "execution_count": 5,
   "metadata": {},
   "outputs": [
    {
     "output_type": "stream",
     "name": "stdout",
     "text": "int64\n[1 3 2]\n['USA' 'JAPAN' 'EU']\n"
    }
   ],
   "source": [
    "print((df.origin).dtype)\n",
    "\n",
    "print(df['origin'].unique())\n",
    "\n",
    "df['origin'].replace({1:'USA', 2:'EU', 3:'JAPAN'}, inplace=True)\n",
    "\n",
    "print(df['origin'].unique())"
   ]
  },
  {
   "cell_type": "markdown",
   "metadata": {},
   "source": [
    "#### Q4. origin 열의 자료형을 확인하고 범주형으로 변환하여 출력하세요. --- (5점)"
   ]
  },
  {
   "cell_type": "code",
   "execution_count": 15,
   "metadata": {},
   "outputs": [
    {
     "name": "stdout",
     "output_type": "stream",
     "text": [
      "object\n",
      "category\n"
     ]
    }
   ],
   "source": [
    "print(df['origin'].dtypes)\n",
    "df['origin'] = df['origin'].astype('category')     \n",
    "print(df['origin'].dtypes) "
   ]
  },
  {
   "cell_type": "markdown",
   "metadata": {},
   "source": [
    "#### Q5. origin 열을 범주형에서 문자열로 변환한 후 자료형을 출력하세요. --- (5점)"
   ]
  },
  {
   "cell_type": "code",
   "execution_count": 16,
   "metadata": {},
   "outputs": [
    {
     "name": "stdout",
     "output_type": "stream",
     "text": [
      "object\n"
     ]
    }
   ],
   "source": [
    "df['origin'] = df['origin'].astype('str')     \n",
    "print(df['origin'].dtypes)"
   ]
  },
  {
   "cell_type": "markdown",
   "metadata": {},
   "source": [
    "#### Q6. df.horsepower를 범주형(카테고리) 데이터 처리한 후 아래와 같이 출력하세요. --- (5점)\n",
    "   horsepower hp_bin\\\n",
    "0       130.0   보통출력\\\n",
    "1       165.0   보통출력\\\n",
    "2       150.0   보통출력\\\n",
    "3       150.0   보통출력\\\n",
    "4       140.0   보통출력"
   ]
  },
  {
   "cell_type": "code",
   "execution_count": 21,
   "metadata": {},
   "outputs": [],
   "source": [
    "df = pd.read_csv('./dataset/auto-mpg.csv', header=None)\n",
    "df.columns = ['mpg','cylinders','displacement','horsepower','weight',\n",
    "              'acceleration','model year','origin','name']"
   ]
  },
  {
   "cell_type": "code",
   "execution_count": 6,
   "metadata": {},
   "outputs": [
    {
     "output_type": "stream",
     "name": "stdout",
     "text": "[ 46.         107.33333333 168.66666667 230.        ]\n   horsepower hp_bin\n0       130.0   보통출력\n1       165.0   보통출력\n2       150.0   보통출력\n3       150.0   보통출력\n4       140.0   보통출력\n"
    }
   ],
   "source": [
    "import numpy as np\n",
    "df['horsepower'].replace('?', np.nan, inplace=True)\n",
    "df.dropna(subset=['horsepower'], axis=0, inplace=True)\n",
    "df['horsepower'] = df['horsepower'].astype('float')\n",
    "count, bin_dividers = np.histogram(df['horsepower'], bins=3)\n",
    "print(bin_dividers)\n",
    "bin_names = ['저출력', '보통출력', '고출력']\n",
    "df['hp_bin'] = pd.cut(x=df['horsepower'],\n",
    "                      bins=bin_dividers,\n",
    "                      labels=bin_names,\n",
    "                      include_lowest=True)\n",
    "print(df[['horsepower', 'hp_bin']].head())"
   ]
  },
  {
   "cell_type": "markdown",
   "metadata": {},
   "source": [
    "#### Q7. hp_bin 열의 범주형 데이터를 숫자형 범주로 변환하여 앞에서 15개만 출력하세요. --- (5점)"
   ]
  },
  {
   "cell_type": "code",
   "execution_count": 9,
   "metadata": {},
   "outputs": [
    {
     "output_type": "stream",
     "name": "stdout",
     "text": "[1 1 1 1 1 0 0 0 0 0 0 1 1 0 2]\n"
    }
   ],
   "source": [
    "from sklearn import preprocessing    \n",
    "\n",
    "le = preprocessing.LabelEncoder()\n",
    "result = le.fit_transform(df.hp_bin.head(15))\n",
    "print(result)"
   ]
  },
  {
   "cell_type": "markdown",
   "metadata": {},
   "source": [
    "#### Q8. stock-data.csv를 불러와서 아래사항을 수행하세요. --- (10점)\n",
    "- object 자료형으로 되어있는 Date 컬럼을 datetime64 자료형으로 변환\n",
    "- new_Date 컬럼을 생성한 후 다시 인덱스로 셋팅하고 기존 Date는 삭제한 후 출력 "
   ]
  },
  {
   "cell_type": "code",
   "execution_count": 11,
   "metadata": {},
   "outputs": [
    {
     "output_type": "stream",
     "name": "stdout",
     "text": "Close  Start   High    Low  Volume\nnew_Date                                      \n2018-07-02  10100  10850  10900  10000  137977\n2018-06-29  10700  10550  10900   9990  170253\n2018-06-28  10400  10900  10950  10150  155769\n2018-06-27  10900  10800  11050  10500  133548\n2018-06-26  10800  10900  11000  10700   63039\n2018-06-25  11150  11400  11450  11000   55519\n2018-06-22  11300  11250  11450  10750  134805\n2018-06-21  11200  11350  11750  11200  133002\n2018-06-20  11550  11200  11600  10900  308596\n2018-06-19  11300  11850  11950  11300  180656\n2018-06-18  12000  13400  13400  12000  309787\n2018-06-15  13400  13600  13600  12900  201376\n2018-06-14  13450  13200  13700  13150  347451\n2018-06-12  13200  12200  13300  12050  558148\n2018-06-11  11950  12000  12250  11950   62293\n2018-06-08  11950  11950  12200  11800   59258\n2018-06-07  11950  12200  12300  11900   49088\n2018-06-05  12150  11800  12250  11800   42485\n2018-06-04  11900  11900  12200  11700   25171\n2018-06-01  11900  11800  12100  11750   32062\n"
    }
   ],
   "source": [
    "import pandas as pd\n",
    "\n",
    "df = pd.read_csv('stock-data.csv')\n",
    "df['new_Date'] = pd.to_datetime(df['Date'])\n",
    "df.set_index('new_Date', inplace=True)\n",
    "df.drop('Date', axis=1, inplace=True)\n",
    "print(df)"
   ]
  },
  {
   "cell_type": "markdown",
   "metadata": {},
   "source": [
    "#### Q9. stock-data.csv를 불러와서 아래 사항을 수행한 후 월별 데이터를 작성하여 출력하세요. --- (10점)\n",
    "- object 자료형으로 되어있는 Date 컬럼을 datetime64 자료형으로 변환하여 new_Date 컬럼을 생성\n",
    "- dt 속성을 이용하여 period로 변환, 월단위 기간을 의미하는 Date_m 컬럼을 생성하고 인덱스로 지정"
   ]
  },
  {
   "cell_type": "code",
   "execution_count": 13,
   "metadata": {},
   "outputs": [
    {
     "output_type": "stream",
     "name": "stdout",
     "text": "Close  Start   High    Low  Volume   new_Date  Year  Month  Day\n0  10100  10850  10900  10000  137977 2018-07-02  2018      7    2\n1  10700  10550  10900   9990  170253 2018-06-29  2018      6   29\n2  10400  10900  10950  10150  155769 2018-06-28  2018      6   28\n3  10900  10800  11050  10500  133548 2018-06-27  2018      6   27\n4  10800  10900  11000  10700   63039 2018-06-26  2018      6   26\n\n\n   Close  Start   High    Low  Volume   new_Date  Year  Month  Day Date_yr  \\\n0  10100  10850  10900  10000  137977 2018-07-02  2018      7    2    2018   \n1  10700  10550  10900   9990  170253 2018-06-29  2018      6   29    2018   \n2  10400  10900  10950  10150  155769 2018-06-28  2018      6   28    2018   \n3  10900  10800  11050  10500  133548 2018-06-27  2018      6   27    2018   \n4  10800  10900  11000  10700   63039 2018-06-26  2018      6   26    2018   \n\n    Date_m  \n0  2018-07  \n1  2018-06  \n2  2018-06  \n3  2018-06  \n4  2018-06  \n\n\n         Close  Start   High    Low  Volume   new_Date  Year  Month  Day  \\\nDate_m                                                                     \n2018-07  10100  10850  10900  10000  137977 2018-07-02  2018      7    2   \n2018-06  10700  10550  10900   9990  170253 2018-06-29  2018      6   29   \n2018-06  10400  10900  10950  10150  155769 2018-06-28  2018      6   28   \n2018-06  10900  10800  11050  10500  133548 2018-06-27  2018      6   27   \n2018-06  10800  10900  11000  10700   63039 2018-06-26  2018      6   26   \n\n        Date_yr  \nDate_m           \n2018-07    2018  \n2018-06    2018  \n2018-06    2018  \n2018-06    2018  \n2018-06    2018  \n"
    }
   ],
   "source": [
    "import pandas as pd\n",
    "\n",
    "df = pd.read_csv('stock-data.csv')\n",
    "df['new_Date'] = pd.to_datetime(df['Date'])\n",
    "\n",
    "df.drop('Date', axis=1, inplace=True)\n",
    "\n",
    "# 년, 월, 일로 구분\n",
    "df['Year'] = df['new_Date'].dt.year\n",
    "df['Month'] = df['new_Date'].dt.month\n",
    "df['Day'] = df['new_Date'].dt.day\n",
    "print(df.head())\n",
    "print('\\n')\n",
    "\n",
    "# 년월일 표기 변경\n",
    "df['Date_yr'] = df['new_Date'].dt.to_period(freq='A')\n",
    "df['Date_m'] = df['new_Date'].dt.to_period(freq='M')\n",
    "print(df.head())\n",
    "print('\\n')\n",
    "\n",
    "df.set_index('Date_m', inplace=True)\n",
    "print(df.head())\n",
    ""
   ]
  },
  {
   "cell_type": "markdown",
   "metadata": {},
   "source": [
    "#### Q10. df.mpg를 정규화 수행한 후 수행전과 후의 통계요약표를 출력하세요. --- (10점)"
   ]
  },
  {
   "cell_type": "code",
   "execution_count": 15,
   "metadata": {},
   "outputs": [],
   "source": [
    "df = pd.read_csv('auto-mpg.csv', header=None)\n",
    "df.columns = ['mpg','cylinders','displacement','horsepower','weight',\n",
    "              'acceleration','model year','origin','name']"
   ]
  },
  {
   "cell_type": "code",
   "execution_count": 16,
   "metadata": {},
   "outputs": [
    {
     "output_type": "stream",
     "name": "stdout",
     "text": "count    398.000000\nmean      23.514573\nstd        7.815984\nmin        9.000000\n25%       17.500000\n50%       23.000000\n75%       29.000000\nmax       46.600000\nName: mpg, dtype: float64\n\n\ncount    398.000000\nmean       0.504605\nstd        0.167725\nmin        0.193133\n25%        0.375536\n50%        0.493562\n75%        0.622318\nmax        1.000000\nName: mpg, dtype: float64\n"
    }
   ],
   "source": [
    "print(df.mpg.describe())\n",
    "print('\\n')\n",
    "\n",
    "df.mpg = df.mpg / abs(df.mpg.max())\n",
    "print(df.mpg.describe())"
   ]
  }
 ],
 "metadata": {
  "kernelspec": {
   "display_name": "Python 3",
   "language": "python",
   "name": "python3"
  },
  "language_info": {
   "codemirror_mode": {
    "name": "ipython",
    "version": 3
   },
   "file_extension": ".py",
   "mimetype": "text/x-python",
   "name": "python",
   "nbconvert_exporter": "python",
   "pygments_lexer": "ipython3",
   "version": "3.7.6-final"
  }
 },
 "nbformat": 4,
 "nbformat_minor": 2
}