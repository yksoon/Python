{
 "cells": [
  {
   "cell_type": "markdown",
   "metadata": {},
   "source": [
    "### Numpy\n",
    "- Numerical Python을 의미하는 NumPy는 파이썬에서 선형대수 기반의 프로그램을 쉽게 만들수 있도록 지원하는 대표적인 패키지\n",
    "- 많은 머신러닝 알고리즘이 넘파이 기반으로 작성돼 있으며 알고리즘의 입 출력 데이터를 넘파이 배열 타입으로 사용함\n",
    "- 넘파이의 기본 데이터 타입은 ndarray.ndarray를 이용해 넘파이에서 다차원 배열을 쉽게 생성 하고 다양한 연산 수행"
   ]
  },
  {
   "cell_type": "code",
   "execution_count": 7,
   "metadata": {},
   "outputs": [
    {
     "name": "stdout",
     "output_type": "stream",
     "text": [
      "array1 type :  <class 'numpy.ndarray'>\n",
      "array1 array 형태 :  (3,)\n",
      "[1 2 3]\n"
     ]
    }
   ],
   "source": [
    "# 1차원 배열로 3개의 데이터\n",
    "\n",
    "import numpy as np\n",
    "\n",
    "array1 = np.array([1,2,3])\n",
    "print(\"array1 type : \",type(array1))\n",
    "\n",
    "\n",
    "#1 차원 배열의 shape는 (,열)이 아닌 (열,)형태로 출력\n",
    "print(\"array1 array 형태 : \",array1.shape)\n",
    "print(array1)"
   ]
  },
  {
   "cell_type": "code",
   "execution_count": 13,
   "metadata": {},
   "outputs": [
    {
     "name": "stdout",
     "output_type": "stream",
     "text": [
      "array2 type :  <class 'numpy.ndarray'>\n",
      "array2 형태 :  (2, 3)\n",
      "[[1 2 3]\n",
      " [2 3 4]]\n"
     ]
    }
   ],
   "source": [
    "# 2차원 배열로 2개의 row와 3개의 column으로 구성 6개의 데이터\n",
    "\n",
    "array2 = np.array([[1,2,3],[2,3,4]])\n",
    "print(\"array2 type : \",type(array2))\n",
    "print(\"array2 형태 : \",array2.shape)\n",
    "print(array2)"
   ]
  },
  {
   "cell_type": "code",
   "execution_count": 14,
   "metadata": {},
   "outputs": [
    {
     "name": "stdout",
     "output_type": "stream",
     "text": [
      "array3 type :  <class 'numpy.ndarray'>\n",
      "array3 array형태 :  (1, 3)\n",
      "[[1 2 3]]\n",
      "\n",
      "1\n",
      "2\n"
     ]
    }
   ],
   "source": [
    "# 1개의 row와 3개의 column으로 구성된 2차원 배열\n",
    "\n",
    "array3 = np.array([[1,2,3]])\n",
    "print(\"array3 type : \",type(array3))\n",
    "print(\"array3 array형태 : \",array3.shape)\n",
    "print(array3)\n",
    "print()\n",
    "print(array1.ndim)   # 1차원 형태\n",
    "print(array3.ndim)   # 2차원 형태"
   ]
  },
  {
   "cell_type": "code",
   "execution_count": 23,
   "metadata": {},
   "outputs": [
    {
     "name": "stdout",
     "output_type": "stream",
     "text": [
      "[0 1 2 3 4 5 6 7 8 9]\n",
      "[[0 1 2 3 4]\n",
      " [5 6 7 8 9]]\n",
      "[[0 1]\n",
      " [2 3]\n",
      " [4 5]\n",
      " [6 7]\n",
      " [8 9]]\n",
      "[[0 1 2 3 4 5 6 7 8 9]]\n",
      "[[0 1]\n",
      " [2 3]\n",
      " [4 5]\n",
      " [6 7]\n",
      " [8 9]]\n"
     ]
    }
   ],
   "source": [
    "# 데이터 값으로는 서로 동일하나 차원이 달라서 오류가 발생\n",
    "# 차원의 차수를 변환하여 오류 방지 (참조 : reshape)\n",
    "\n",
    "ar = np.arange(10)\n",
    "ar1 = ar.reshape(2,5)\n",
    "ar2 = ar.reshape(5,2)\n",
    "ar3 = ar.reshape(1,10)\n",
    "ar4 = ar.reshape(5,-1)\n",
    "print(ar)\n",
    "print(ar1)\n",
    "print(ar2)\n",
    "print(ar3)\n",
    "print(ar4)"
   ]
  },
  {
   "cell_type": "code",
   "execution_count": 25,
   "metadata": {},
   "outputs": [
    {
     "name": "stdout",
     "output_type": "stream",
     "text": [
      "<class 'list'>\n",
      "<class 'numpy.ndarray'>\n",
      "[1 2 3] int32\n"
     ]
    }
   ],
   "source": [
    "# ndarray 데이터 타입\n",
    "\n",
    "list1 = [1,2,3]\n",
    "print(type(list1))\n",
    "array1 = np.array(list1)\n",
    "print(type(array1))\n",
    "print(array1, array1.dtype)"
   ]
  },
  {
   "cell_type": "code",
   "execution_count": null,
   "metadata": {},
   "outputs": [],
   "source": [
    "# 다른 데이터 유형이 섞여 있는 이스트를 ndarray로 변경하여\n",
    "# 데이터 크기가 더 큰 데이터 타입으로 형 변환을 일괄 적용\n",
    "# int형이 유니코드 문자열 값으로, int형이 float(64)형으로 변환\n"
   ]
  },
  {
   "cell_type": "code",
   "execution_count": 26,
   "metadata": {},
   "outputs": [
    {
     "name": "stdout",
     "output_type": "stream",
     "text": [
      "[1. 2. 3.] float64\n"
     ]
    }
   ],
   "source": [
    "# int32형을 float64형으로 변환\n",
    "array_int = np.array([1,2,3])\n",
    "array_float = array_int.astype(\"float64\")\n",
    "print(array_float, array_float.dtype)"
   ]
  },
  {
   "cell_type": "code",
   "execution_count": 27,
   "metadata": {},
   "outputs": [
    {
     "name": "stdout",
     "output_type": "stream",
     "text": [
      "[1 2 3] int32\n"
     ]
    }
   ],
   "source": [
    "# float64형을 다시 int32형으로 변환\n",
    "array_int1 = array_float.astype(\"int32\")\n",
    "print(array_int1, array_int1.dtype)"
   ]
  },
  {
   "cell_type": "code",
   "execution_count": 28,
   "metadata": {},
   "outputs": [
    {
     "name": "stdout",
     "output_type": "stream",
     "text": [
      "[1 2 3] int32\n"
     ]
    }
   ],
   "source": [
    "array_float1 = np.array([1.1, 2.1, 3.1])\n",
    "array_int2 = array_float1.astype(\"int32\")\n",
    "print(array_int2, array_int2.dtype)"
   ]
  },
  {
   "cell_type": "markdown",
   "metadata": {},
   "source": [
    "##### Q. 정수와 실수로 구성된 list e = [1.2, 2.3, 3]을 numpy를 이용해서 실수형과 정수형으로 각각 출력하세요."
   ]
  },
  {
   "cell_type": "code",
   "execution_count": 29,
   "metadata": {},
   "outputs": [
    {
     "name": "stdout",
     "output_type": "stream",
     "text": [
      "[1.2 2.3 3. ] float64\n",
      "[1 2 3] int32\n"
     ]
    }
   ],
   "source": [
    "e = np.array([1.2, 2.3, 3])\n",
    "e1 = e.astype(\"float64\")\n",
    "e2 = e.astype(\"int32\")\n",
    "print(e1, e1.dtype)\n",
    "print(e2, e2.dtype)"
   ]
  },
  {
   "cell_type": "markdown",
   "metadata": {},
   "source": [
    "### ndarray를 편리하게 생성하기 - arange, zeros, ones"
   ]
  },
  {
   "cell_type": "code",
   "execution_count": 30,
   "metadata": {},
   "outputs": [
    {
     "name": "stdout",
     "output_type": "stream",
     "text": [
      "[0 1 2 3 4 5 6 7 8 9]\n",
      "int32 (10,)\n"
     ]
    }
   ],
   "source": [
    "# arange\n",
    "\n",
    "sequence_array = np.arange(10)\n",
    "sequence_array\n",
    "print(sequence_array)\n",
    "print(sequence_array.dtype, sequence_array.shape)"
   ]
  },
  {
   "cell_type": "code",
   "execution_count": 32,
   "metadata": {},
   "outputs": [
    {
     "name": "stdout",
     "output_type": "stream",
     "text": [
      "[[0 0]\n",
      " [0 0]\n",
      " [0 0]]\n",
      "int32 (3, 2)\n"
     ]
    }
   ],
   "source": [
    "# zero\n",
    "\n",
    "zero_array = np.zeros((3,2), dtype=\"int32\")\n",
    "print(zero_array)\n",
    "print(zero_array.dtype, zero_array.shape)"
   ]
  },
  {
   "cell_type": "code",
   "execution_count": 37,
   "metadata": {},
   "outputs": [
    {
     "name": "stdout",
     "output_type": "stream",
     "text": [
      "[[1 1]\n",
      " [1 1]\n",
      " [1 1]]\n",
      "int32 (3, 2)\n"
     ]
    }
   ],
   "source": [
    "# one\n",
    "\n",
    "one_array = np.ones((3,2), dtype=\"int32\")\n",
    "print(one_array)\n",
    "print(one_array.dtype, one_array.shape)"
   ]
  },
  {
   "cell_type": "code",
   "execution_count": 42,
   "metadata": {},
   "outputs": [
    {
     "name": "stdout",
     "output_type": "stream",
     "text": [
      "array1 [0 1 2 3 4 5 6 7 8 9]\n",
      "\n",
      "array2 : \n",
      " [[0 1 2 3 4]\n",
      " [5 6 7 8 9]]\n",
      "\n",
      "array3 : \n",
      " [[0 1]\n",
      " [2 3]\n",
      " [4 5]\n",
      " [6 7]\n",
      " [8 9]]\n"
     ]
    }
   ],
   "source": [
    "# ndarray의 차원과 크기를 변경하는 reshape()\n",
    "\n",
    "array1 = np.arange(10)\n",
    "print(\"array1\", array1)\n",
    "print()\n",
    "array2 = array1.reshape(2,5)\n",
    "print(\"array2 : \\n\", array2)\n",
    "print()\n",
    "array3 = array1.reshape(5,2)\n",
    "print(\"array3 : \\n\", array3)"
   ]
  },
  {
   "cell_type": "markdown",
   "metadata": {},
   "source": [
    "###### Q. arange() 함수를 이용해서 0 ~ 29 정수 배열을 생성하고 3 X 2 X 5 3차원 배열로 변환하세요."
   ]
  },
  {
   "cell_type": "code",
   "execution_count": 47,
   "metadata": {
    "scrolled": true
   },
   "outputs": [
    {
     "name": "stdout",
     "output_type": "stream",
     "text": [
      "[[[ 0  1  2  3  4]\n",
      "  [ 5  6  7  8  9]]\n",
      "\n",
      " [[10 11 12 13 14]\n",
      "  [15 16 17 18 19]]\n",
      "\n",
      " [[20 21 22 23 24]\n",
      "  [25 26 27 28 29]]]\n",
      "\n",
      "[[[0, 1, 2, 3, 4], [5, 6, 7, 8, 9]], [[10, 11, 12, 13, 14], [15, 16, 17, 18, 19]], [[20, 21, 22, 23, 24], [25, 26, 27, 28, 29]]]\n"
     ]
    }
   ],
   "source": [
    "array1 = np.arange(30)\n",
    "array3d = array1.reshape((3,2,5))\n",
    "print(array3d)\n",
    "print()\n",
    "print(array3d.tolist())"
   ]
  },
  {
   "cell_type": "markdown",
   "metadata": {},
   "source": [
    "### reshape(-1, 1)\n",
    "- 여러 개의 로우를 가지되 반드시 1개의 칼럼을 가진 ndarray로 변환 보장"
   ]
  },
  {
   "cell_type": "code",
   "execution_count": 48,
   "metadata": {},
   "outputs": [
    {
     "name": "stdout",
     "output_type": "stream",
     "text": [
      "[0 1 2 3 4 5 6 7 8 9]\n",
      "\n",
      "array2 shape :  (2, 5)\n",
      "[[0 1 2 3 4]\n",
      " [5 6 7 8 9]]\n"
     ]
    }
   ],
   "source": [
    "# -1을 인자로 사용하여 원하는 shape로 변환\n",
    "\n",
    "array1 = np.arange(10)\n",
    "print(array1)\n",
    "print()\n",
    "array2 = array1.reshape(-1, 5)\n",
    "print(\"array2 shape : \",array2.shape)\n",
    "print(array2)"
   ]
  },
  {
   "cell_type": "code",
   "execution_count": 52,
   "metadata": {},
   "outputs": [
    {
     "name": "stdout",
     "output_type": "stream",
     "text": [
      "[0 1 2 3 4 5 6 7 8 9]\n",
      "[[0]\n",
      " [1]\n",
      " [2]\n",
      " [3]\n",
      " [4]\n",
      " [5]\n",
      " [6]\n",
      " [7]\n",
      " [8]\n",
      " [9]]\n",
      "\n",
      "[[[0 1 2 3 4]\n",
      "  [5 6 7 8 9]]]\n",
      "\n",
      "[[0]\n",
      " [1]\n",
      " [2]\n",
      " [3]\n",
      " [4]\n",
      " [5]\n",
      " [6]\n",
      " [7]\n",
      " [8]\n",
      " [9]]\n"
     ]
    }
   ],
   "source": [
    "# reshape(-1, 1)을 이용해 1차원을 2차원으로 3차원을 2차원으로 변환\n",
    "\n",
    "array1 = np.arange(10)\n",
    "print(array1)\n",
    "array2a = array1.reshape(-1, 1)\n",
    "print(array2a)\n",
    "print()\n",
    "array3d = array1.reshape((1,2,5))\n",
    "print(array3d)\n",
    "print()\n",
    "array2b = array3d.reshape(-1,1)\n",
    "print(array2b)"
   ]
  },
  {
   "cell_type": "markdown",
   "metadata": {},
   "source": [
    "###### Q. array1에 reshape() 함수를 이용, \"array3 shape: (5,2)\"가 되도록 array3을 출력하세요"
   ]
  },
  {
   "cell_type": "code",
   "execution_count": 54,
   "metadata": {},
   "outputs": [
    {
     "name": "stdout",
     "output_type": "stream",
     "text": [
      "(5, 2)\n",
      "[[0 1]\n",
      " [2 3]\n",
      " [4 5]\n",
      " [6 7]\n",
      " [8 9]]\n"
     ]
    }
   ],
   "source": [
    "# array1 = np.arange(10)\n",
    "# array3 = array1.reshape(5, 2)\n",
    "# print(array3.shape)\n",
    "# print(array3)\n",
    "\n",
    "array1 = np.arange(10)\n",
    "array3 = array1.reshape(-1, 2)\n",
    "print(array3.shape)\n",
    "print(array3)"
   ]
  },
  {
   "cell_type": "markdown",
   "metadata": {},
   "source": [
    "###### Q. 3차원 ndarray array3d를 2차원 ndarray로 변환해서 array5에 저장하고 list로 출력하세요."
   ]
  },
  {
   "cell_type": "code",
   "execution_count": 58,
   "metadata": {},
   "outputs": [
    {
     "name": "stdout",
     "output_type": "stream",
     "text": [
      "[[[0 1 2 3 4]]\n",
      "\n",
      " [[5 6 7 8 9]]]\n",
      "array5 : \n",
      " [[0, 1, 2, 3, 4], [5, 6, 7, 8, 9]]\n"
     ]
    }
   ],
   "source": [
    "array3d = array1.reshape((2,1,5))\n",
    "print(array3d)\n",
    "array5 = array3d.reshape(2,5)\n",
    "print(\"array5 : \\n\", array5.tolist())"
   ]
  },
  {
   "cell_type": "markdown",
   "metadata": {},
   "source": [
    "###### Q. 1차원 ndarray array1을 2차원 ndarray로 변환해서 array6에 저장하고 list로 출력하세요."
   ]
  },
  {
   "cell_type": "code",
   "execution_count": 60,
   "metadata": {
    "scrolled": true
   },
   "outputs": [
    {
     "name": "stdout",
     "output_type": "stream",
     "text": [
      "[[0 1]\n",
      " [2 3]\n",
      " [4 5]\n",
      " [6 7]\n",
      " [8 9]]\n",
      "\n",
      "array6 shape :  (5, 2)\n"
     ]
    }
   ],
   "source": [
    "array6 = array1.reshape(-1, 2)\n",
    "print(array6)\n",
    "print()\n",
    "print(\"array6 shape : \",array6.shape)"
   ]
  },
  {
   "cell_type": "markdown",
   "metadata": {},
   "source": [
    "### ndarray의 데이터 세트 선택하기 - 인덱싱"
   ]
  },
  {
   "cell_type": "code",
   "execution_count": 62,
   "metadata": {},
   "outputs": [
    {
     "name": "stdout",
     "output_type": "stream",
     "text": [
      "array1 :  [1 2 3 4 5 6 7 8 9]\n"
     ]
    }
   ],
   "source": [
    "# 배열 생성\n",
    "\n",
    "import numpy as np\n",
    "\n",
    "array1 = np.arange(start=1, stop=10)\n",
    "print(\"array1 : \",array1)"
   ]
  },
  {
   "cell_type": "markdown",
   "metadata": {},
   "source": [
    "###### Q. array1 에서 3과 9를 출력하세요"
   ]
  },
  {
   "cell_type": "code",
   "execution_count": 67,
   "metadata": {},
   "outputs": [
    {
     "name": "stdout",
     "output_type": "stream",
     "text": [
      "value :  3\n",
      "<class 'numpy.int32'>\n",
      "\n",
      "맨 뒤의 값 :  9\n"
     ]
    }
   ],
   "source": [
    "# print(array1[2],array1[8])\n",
    "\n",
    "value = array1[2]\n",
    "print(\"value : \",value)\n",
    "print(type(value))\n",
    "print()\n",
    "print(\"맨 뒤의 값 : \", array1[-1])"
   ]
  },
  {
   "cell_type": "code",
   "execution_count": 68,
   "metadata": {},
   "outputs": [
    {
     "name": "stdout",
     "output_type": "stream",
     "text": [
      "8\n"
     ]
    }
   ],
   "source": [
    "# 맨 뒤에서 두번째 값\n",
    "\n",
    "print(array1[-2])"
   ]
  },
  {
   "cell_type": "markdown",
   "metadata": {},
   "source": [
    "###### Q. 인덱스를 이용해서 첫번째와 아홉번째 값을 각각 9와 0으로 수정하세요"
   ]
  },
  {
   "cell_type": "code",
   "execution_count": 69,
   "metadata": {},
   "outputs": [
    {
     "name": "stdout",
     "output_type": "stream",
     "text": [
      "[9 2 3 4 5 6 7 8 0]\n"
     ]
    }
   ],
   "source": [
    "array1[0] = 9\n",
    "array1[8] = 0\n",
    "print(array1)"
   ]
  },
  {
   "cell_type": "markdown",
   "metadata": {},
   "source": [
    "### index 가리키는 값 구하기"
   ]
  },
  {
   "cell_type": "code",
   "execution_count": 71,
   "metadata": {},
   "outputs": [
    {
     "name": "stdout",
     "output_type": "stream",
     "text": [
      "[[1 2 3]\n",
      " [4 5 6]\n",
      " [7 8 9]]\n",
      "\n",
      "(row = 0, col = 0) Index 가리키는 값 :  1\n",
      "(row = 0, col = 0) Index 가리키는 값 :  2\n",
      "(row = 0, col = 0) Index 가리키는 값 :  4\n",
      "(row = 0, col = 0) Index 가리키는 값 :  9\n"
     ]
    }
   ],
   "source": [
    "array1d = np.arange(start = 1, stop = 10)\n",
    "array2d = array1d.reshape(3, 3)\n",
    "print(array2d)\n",
    "print()\n",
    "print(\"(row = 0, col = 0) Index 가리키는 값 : \", array2d[0,0])\n",
    "print(\"(row = 0, col = 0) Index 가리키는 값 : \", array2d[0,1])\n",
    "print(\"(row = 0, col = 0) Index 가리키는 값 : \", array2d[1,0])\n",
    "print(\"(row = 0, col = 0) Index 가리키는 값 : \", array2d[2,2])"
   ]
  },
  {
   "cell_type": "markdown",
   "metadata": {},
   "source": [
    "### Slicing"
   ]
  },
  {
   "cell_type": "code",
   "execution_count": 72,
   "metadata": {},
   "outputs": [
    {
     "name": "stdout",
     "output_type": "stream",
     "text": [
      "[1 2 3 4 5 6 7 8 9]\n",
      "\n",
      "[1 2 3]\n",
      "<class 'numpy.ndarray'>\n"
     ]
    }
   ],
   "source": [
    "array1 = np.arange(start = 1, stop = 10)\n",
    "print(array1)\n",
    "print()\n",
    "array3 = array1[0:3]\n",
    "print(array3)\n",
    "print(type(array3))"
   ]
  },
  {
   "cell_type": "markdown",
   "metadata": {},
   "source": [
    "###### Q. array1에서 슬라이싱(':')을 사용하여 아래와 같이 출력하세요.\n",
    "[1 2 3] \\\n",
    "[4 5 6 7 8 9] \\\n",
    "[1 2 3 4 5 6 7 8 9]"
   ]
  },
  {
   "cell_type": "code",
   "execution_count": 75,
   "metadata": {},
   "outputs": [
    {
     "name": "stdout",
     "output_type": "stream",
     "text": [
      "[1 2 3]\n",
      "[4 5 6 7 8 9]\n",
      "[1 2 3 4 5 6 7 8 9]\n"
     ]
    }
   ],
   "source": [
    "print(array1[0:3])\n",
    "print(array1[3:])\n",
    "print(array1[:])"
   ]
  },
  {
   "cell_type": "code",
   "execution_count": 76,
   "metadata": {},
   "outputs": [
    {
     "name": "stdout",
     "output_type": "stream",
     "text": [
      "[[1 2 3]\n",
      " [4 5 6]\n",
      " [7 8 9]]\n"
     ]
    }
   ],
   "source": [
    "# 2차원 배열 생성\n",
    "\n",
    "print(array2d)"
   ]
  },
  {
   "cell_type": "markdown",
   "metadata": {},
   "source": [
    "###### Q. array2d 에서 슬라이싱을 사용하여 아래와 같이 출력하세요.\n",
    "[[1 2] \\\n",
    " [4 5]] \\\n",
    " \\\n",
    " [[4 5 6] \\\n",
    "  [7 8 9]] \\\n",
    " [[4 5 6] \\\n",
    "  [7 8 9]] \\\n",
    "  \\\n",
    " [[1 2 3] \\\n",
    "  [4 5 6] \\\n",
    "  [7 8 9]] \\\n",
    " \\\n",
    " [[2 3] \\\n",
    "  [5 6]] \\\n",
    "  \\\n",
    " [1 4]"
   ]
  },
  {
   "cell_type": "code",
   "execution_count": 85,
   "metadata": {},
   "outputs": [
    {
     "name": "stdout",
     "output_type": "stream",
     "text": [
      "[[1 2]\n",
      " [4 5]]\n",
      "\n",
      "[[4 5 6]\n",
      " [7 8 9]]\n",
      "[[4 5 6]\n",
      " [7 8 9]]\n",
      "\n",
      "[[1 2 3]\n",
      " [4 5 6]\n",
      " [7 8 9]]\n",
      "\n",
      "[[2 3]\n",
      " [5 6]]\n",
      "\n",
      "[1 4]\n"
     ]
    }
   ],
   "source": [
    "print(array2d[0:2, 0:2])\n",
    "print()\n",
    "print(array2d[1:])\n",
    "print(array2d[1:3])\n",
    "print()\n",
    "print(array2d[:])\n",
    "print()\n",
    "print(array2d[:2, 1:])\n",
    "print()\n",
    "print(array2d[:2, 0])"
   ]
  },
  {
   "cell_type": "markdown",
   "metadata": {},
   "source": [
    "### 행 선택"
   ]
  },
  {
   "cell_type": "code",
   "execution_count": 91,
   "metadata": {},
   "outputs": [
    {
     "name": "stdout",
     "output_type": "stream",
     "text": [
      "[1 2 3]\n",
      "\n",
      "[4 5 6]\n",
      "\n",
      " array2d[0] shape :  (3,) \n",
      " array2d[1] shape :  (3,)\n"
     ]
    }
   ],
   "source": [
    "print(array2d[0])\n",
    "print()\n",
    "print(array2d[1])\n",
    "print()\n",
    "print(\" array2d[0] shape : \", array2d[0].shape,\"\\n\",\"array2d[1] shape : \", array2d[1].shape)"
   ]
  },
  {
   "cell_type": "code",
   "execution_count": 92,
   "metadata": {},
   "outputs": [
    {
     "name": "stdout",
     "output_type": "stream",
     "text": [
      "[[1 2 3]\n",
      " [4 5 6]\n",
      " [7 8 9]]\n"
     ]
    }
   ],
   "source": [
    "# 2차원 배열 생성\n",
    "\n",
    "array1d = np.arange(start = 1, stop = 10)\n",
    "array2d = array1d.reshape(3,3)\n",
    "print(array2d)"
   ]
  },
  {
   "cell_type": "markdown",
   "metadata": {},
   "source": [
    "###### Q. array2d 에서 인덱스를 이용해서 값을 선택하고 리스트로 아래와 같이 출력하세요\n",
    "array2d[[0,1], 2] => [3,6] \\\n",
    "\\\n",
    "array2d[[0,1], 0:2] => [[1,2],[4,5]] \\\n",
    "\\\n",
    "array2d[[0,1]] => [[1,2,3],[4,5,6]]"
   ]
  },
  {
   "cell_type": "code",
   "execution_count": 97,
   "metadata": {},
   "outputs": [
    {
     "name": "stdout",
     "output_type": "stream",
     "text": [
      "[3, 6]\n",
      "\n",
      "[[1, 2], [4, 5]]\n",
      "\n",
      "[[1, 2, 3], [4, 5, 6]]\n"
     ]
    }
   ],
   "source": [
    "array3 = array2d[[0,1], 2]\n",
    "print(array3.tolist())\n",
    "print()\n",
    "array4 = array2d[[0,1], 0:2]\n",
    "print(array4.tolist())\n",
    "print()\n",
    "array5 = array2d[[0,1]]\n",
    "print(array5.tolist())"
   ]
  },
  {
   "cell_type": "markdown",
   "metadata": {},
   "source": [
    "### Boolean indexing"
   ]
  },
  {
   "cell_type": "code",
   "execution_count": 99,
   "metadata": {},
   "outputs": [
    {
     "name": "stdout",
     "output_type": "stream",
     "text": [
      "[1 2 3 4 5 6 7 8 9]\n",
      "\n",
      "array1d > 5 불린 인덱싱 결과 값 :  [6 7 8 9]\n",
      "[False False False False False  True  True  True  True]\n"
     ]
    }
   ],
   "source": [
    "array1d = np.arange(start = 1, stop = 10)\n",
    "print(array1d)\n",
    "print()\n",
    "# [ ]안에 array1d > 5 Boolean indexing을 적용\n",
    "array3 = array1d[array1d > 5]\n",
    "print(\"array1d > 5 불린 인덱싱 결과 값 : \",array3)\n",
    "print(array1d > 5)"
   ]
  },
  {
   "cell_type": "code",
   "execution_count": 100,
   "metadata": {},
   "outputs": [
    {
     "name": "stdout",
     "output_type": "stream",
     "text": [
      "[1 2 3 4 5 6 7 8 9]\n",
      "불린 인덱스로 필터링 결과 :  [6 7 8 9]\n"
     ]
    }
   ],
   "source": [
    "# Boolean indexing으로 필터링\n",
    "print(array1d)\n",
    "boolean_indexes = np.array([False, False, False, False, False, True, True, True, True])\n",
    "array3 = array1d[boolean_indexes]\n",
    "print(\"불린 인덱스로 필터링 결과 : \", array3)"
   ]
  },
  {
   "cell_type": "markdown",
   "metadata": {},
   "source": [
    "###### Q. 1~14까지 ndarray를 만들어 array_e로 저장하고 (array_e/2) > 5를 만족하는 값을 불린 인덱스로 출력하세요."
   ]
  },
  {
   "cell_type": "code",
   "execution_count": 102,
   "metadata": {},
   "outputs": [
    {
     "name": "stdout",
     "output_type": "stream",
     "text": [
      "[ 1  2  3  4  5  6  7  8  9 10 11 12 13 14]\n",
      "[11 12 13 14]\n"
     ]
    }
   ],
   "source": [
    "array_e = np.arange(start = 1, stop = 15)\n",
    "print(array_e)\n",
    "bool_index1 = array_e[array_e/2 > 5]\n",
    "print(bool_index1)"
   ]
  },
  {
   "cell_type": "code",
   "execution_count": 103,
   "metadata": {},
   "outputs": [
    {
     "data": {
      "text/plain": [
       "array([1, 2, 3, 4, 5, 6, 7, 8, 9])"
      ]
     },
     "execution_count": 103,
     "metadata": {},
     "output_type": "execute_result"
    }
   ],
   "source": [
    "# array1d 생성\n",
    "array1d = np.arange(start = 1, stop = 10)\n",
    "array1d"
   ]
  },
  {
   "cell_type": "markdown",
   "metadata": {},
   "source": [
    "###### Q. array1d에서 일반 인덱스를 이용, [6,7,8,9]를 출력하세요."
   ]
  },
  {
   "cell_type": "code",
   "execution_count": 104,
   "metadata": {},
   "outputs": [
    {
     "name": "stdout",
     "output_type": "stream",
     "text": [
      "[6 7 8 9]\n"
     ]
    }
   ],
   "source": [
    "print(array1d[5:])"
   ]
  },
  {
   "cell_type": "markdown",
   "metadata": {},
   "source": [
    "### np.sort() 정렬\n",
    "np.sort()는 원본 행렬을 변경하지 않고 정렬된 형태로 반환하며 \\\n",
    "ndarray.sort()는 원본 행렬 자체를 반환"
   ]
  },
  {
   "cell_type": "code",
   "execution_count": 105,
   "metadata": {},
   "outputs": [
    {
     "name": "stdout",
     "output_type": "stream",
     "text": [
      "원본 행렬 :  [3 1 9 5]\n",
      "np.sort( ) 호출 후 반환된 정렬 행렬 :  [1 3 5 9]\n",
      "np.sort( ) 호출 후 원본 행렬 :  [3 1 9 5]\n"
     ]
    }
   ],
   "source": [
    "# np.sort()로 정렬\n",
    "org_array = np.array([3, 1, 9, 5])\n",
    "print(\"원본 행렬 : \", org_array)\n",
    "\n",
    "# 넘파이에서 sort 호출. np.sort()로 정렬\n",
    "sort_array1 = np.sort(org_array)\n",
    "print(\"np.sort( ) 호출 후 반환된 정렬 행렬 : \",sort_array1)\n",
    "print(\"np.sort( ) 호출 후 원본 행렬 : \", org_array)"
   ]
  },
  {
   "cell_type": "code",
   "execution_count": 106,
   "metadata": {},
   "outputs": [
    {
     "name": "stdout",
     "output_type": "stream",
     "text": [
      "[1 3 5 9]\n",
      "내림차순으로 정렬 :  [9 5 3 1]\n"
     ]
    }
   ],
   "source": [
    "# 내림차순 정렬(기본은 오름차순 정렬)\n",
    "\n",
    "print(np.sort(org_array))\n",
    "sort_array1_desc = np.sort(org_array)[::-1]\n",
    "print(\"내림차순으로 정렬 : \", sort_array1_desc)"
   ]
  },
  {
   "cell_type": "code",
   "execution_count": 107,
   "metadata": {},
   "outputs": [
    {
     "name": "stdout",
     "output_type": "stream",
     "text": [
      "로우 방향으로 정렬 : \n",
      " [[ 7  1]\n",
      " [ 8 12]]\n",
      "칼럼 방향으로 정렬 : \n",
      " [[ 8 12]\n",
      " [ 1  7]]\n"
     ]
    }
   ],
   "source": [
    "# 행렬이 2차원 이상일 경우 axis 축 값 설정을 통해 로우 방향, 칼럼 방향으로 정렬 수행\n",
    "\n",
    "array2d = np.array([[8,12], [7,1]])\n",
    "\n",
    "sort_array2d_axis0 = np.sort(array2d, axis=0)\n",
    "print(\"로우 방향으로 정렬 : \\n\", sort_array2d_axis0)\n",
    "\n",
    "sort_array2d_axis1 = np.sort(array2d, axis=1)\n",
    "print(\"칼럼 방향으로 정렬 : \\n\", sort_array2d_axis1)"
   ]
  },
  {
   "cell_type": "code",
   "execution_count": 108,
   "metadata": {},
   "outputs": [
    {
     "name": "stdout",
     "output_type": "stream",
     "text": [
      "[3 1 9 5]\n",
      "<class 'numpy.ndarray'>\n",
      "행렬 정렬 시 원본 행렬의 인덱스 :  [1 0 3 2]\n"
     ]
    }
   ],
   "source": [
    "# 정렬된 행렬의 인덱스를 반환 : 기존 원본 행렬의 원소에 대한 인덱스를 필요로 할 때\n",
    "# np.argsort()를 이용\n",
    "\n",
    "org_array = np.array([3,1,9,5])\n",
    "sort_indices = np.argsort(org_array)\n",
    "print(org_array)\n",
    "print(type(sort_indices))\n",
    "print(\"행렬 정렬 시 원본 행렬의 인덱스 : \",sort_indices)"
   ]
  },
  {
   "cell_type": "code",
   "execution_count": 109,
   "metadata": {},
   "outputs": [
    {
     "name": "stdout",
     "output_type": "stream",
     "text": [
      "행렬 내림차순 정렬 시 원본 행렬의 인덱스 :  [2 3 0 1]\n"
     ]
    }
   ],
   "source": [
    "# 내림차순 정렬 시 원본 행렬의 인덱스\n",
    "\n",
    "org_array = np.array([3,1,9,5])\n",
    "sort_indices_desc = np.argsort(org_array)[::-1]\n",
    "print(\"행렬 내림차순 정렬 시 원본 행렬의 인덱스 : \",sort_indices_desc)"
   ]
  },
  {
   "cell_type": "markdown",
   "metadata": {},
   "source": [
    "### 행렬 내적(행렬 곱)\n",
    "* 행렬 내적은 행렬 곱이며 두 행렬 A와 B의 내적은 np.dot()을 이용해 계산이 가능\n",
    "* 행렬 내적의 특성으로 왼쪽 행렬의 열개수와 오른쪽 행렬의 행개수가 동일해야 내적 연산 가능"
   ]
  },
  {
   "cell_type": "code",
   "execution_count": 110,
   "metadata": {},
   "outputs": [
    {
     "name": "stdout",
     "output_type": "stream",
     "text": [
      "행렬 내적 결과 : \n",
      " [[ 58  64]\n",
      " [139 154]]\n"
     ]
    }
   ],
   "source": [
    "A = np.array([[1,2,3],\n",
    "              [4,5,6]])\n",
    "B = np.array([[7,8],\n",
    "              [9,10],\n",
    "              [11,12]])\n",
    "\n",
    "dot_product = np.dot(A, B)\n",
    "print(\"행렬 내적 결과 : \\n\", dot_product)"
   ]
  },
  {
   "cell_type": "markdown",
   "metadata": {},
   "source": [
    "###### Q. 아래 두 행렬을 np.arange, reshape를 이용해서 생성 각각 a1, b1으로 지정하고 행렬 내적을 계산한 결과를 출력하세요.\n",
    "[[1 2 3] \\\n",
    "[4 5 6]] \\\n",
    " \\\n",
    "[[10 11] \\\n",
    "[12 13] \\\n",
    "[14 15]]"
   ]
  },
  {
   "cell_type": "code",
   "execution_count": 116,
   "metadata": {},
   "outputs": [
    {
     "name": "stdout",
     "output_type": "stream",
     "text": [
      "[[1 2 3]\n",
      " [4 5 6]]\n",
      "\n",
      "[[10 11]\n",
      " [12 13]\n",
      " [14 15]]\n",
      "\n",
      "[[ 76  82]\n",
      " [184 199]]\n"
     ]
    }
   ],
   "source": [
    "a = np.arange(start=1, stop = 7)\n",
    "a1 = a.reshape(2, 3)\n",
    "print(a1)\n",
    "print()\n",
    "\n",
    "b = np.arange(start=10, stop=16)\n",
    "b1 = b.reshape(3,2)\n",
    "print(b1)\n",
    "print()\n",
    "\n",
    "dot_ab = np.dot(a1, b1)\n",
    "print(dot_ab)"
   ]
  }
 ],
 "metadata": {
  "kernelspec": {
   "display_name": "Python 3",
   "language": "python",
   "name": "python3"
  },
  "language_info": {
   "codemirror_mode": {
    "name": "ipython",
    "version": 3
   },
   "file_extension": ".py",
   "mimetype": "text/x-python",
   "name": "python",
   "nbconvert_exporter": "python",
   "pygments_lexer": "ipython3",
   "version": "3.7.6"
  }
 },
 "nbformat": 4,
 "nbformat_minor": 4
}
