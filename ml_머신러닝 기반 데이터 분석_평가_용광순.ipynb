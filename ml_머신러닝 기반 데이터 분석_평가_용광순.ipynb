{
 "cells": [
  {
   "cell_type": "markdown",
   "metadata": {},
   "source": [
    "## 훈련과정 : R·파이썬 기반 빅데이터 분석 전문가 양성과정\n",
    "- 교과목 평가 : 머신러닝 기반 데이터 분석\n",
    " 훈련과정 : R·파이썬 기반 빅데이터 분석 전문가 양성과정\n",
    "- 교과목 평가 : 머신러닝 기반 데이터 분석\n",
    "- 성명 : 용광순\n",
    "- 점수 :"
   ]
  },
  {
   "cell_type": "markdown",
   "metadata": {},
   "source": [
    "#### Q. 아래사항을 준수하여 타이타닉 생존자 예측모델을 개발하세요.\n",
    "\n",
    "- 데이터 : \n",
    "  - 제공 데이터 파일 : titanic3.csv\n",
    "  - 훈련/검증용 데이터 : 평가 데이터 = 8 : 2\n",
    "  - 훈련/검증용 데이터로 모델 학습 및 검증하고 평가 데이터는 최종 평가에만 사용\n",
    "\n",
    "\n",
    "- 모델 개발 방법 :\n",
    "  - 데이터 전처리 및 탐색적 분석을 통하여 파생변수 최소 2개 이상 개발\n",
    "  - 알고리즘은 최소한 3개 이상 적용(Decision Tree, Random Forest, Logistic Regression은 필수)\n",
    "\n",
    "\n",
    "- 훈련 및 평가 방법 :\n",
    "  - GridSearchCV API를 활용하여 교차검증 및 최적 하이퍼파라미터 찾아서 학습 및 검증 수행"
   ]
  },
  {
   "cell_type": "code",
   "execution_count": 5,
   "metadata": {},
   "outputs": [],
   "source": [
    "import numpy as np\n",
    "import pandas as pd\n",
    "from sklearn.preprocessing import LabelEncoder\n",
    "\n",
    "# Null 처리 함수\n",
    "def fillna(df):\n",
    "    df['age'].fillna(df['age'].mean(), inplace=True)\n",
    "    df['cabin'].fillna('N', inplace=True)\n",
    "    df['fare'].fillna(df['fare'].mean(), inplace=True)\n",
    "    df['embarked'].fillna('N', inplace=True)\n",
    "    return df\n",
    "\n",
    "# 머신러닝 알고리즘에 불필요한 속성 제거 (name, ticket, boat, body, home.dest)\n",
    "def drop_features(df):\n",
    "    df.drop(['home.dest','boat','body','name','ticket'], axis=1, inplace=True)\n",
    "    return df\n",
    "\n",
    "# 레이블 인코딩\n",
    "def format_features(df):\n",
    "    df['cabin'] = df['cabin'].str[:1]\n",
    "    features = ['cabin','sex','embarked']\n",
    "    for feature in features:\n",
    "        le = LabelEncoder()\n",
    "        df[feature] = le.fit_transform(df[feature])\n",
    "    return df\n",
    "\n",
    "def transform_features(df):\n",
    "    df = fillna(df)\n",
    "    df = drop_features(df)\n",
    "    df = format_features(df)\n",
    "    return df"
   ]
  },
  {
   "cell_type": "code",
   "execution_count": 6,
   "metadata": {},
   "outputs": [
    {
     "output_type": "display_data",
     "data": {
      "text/plain": "   pclass  survived  sex    age  sibsp  parch      fare  cabin  embarked\n0       1         1    0  29.00      0      0  211.3375      1         3\n1       1         1    1   0.92      1      2  151.5500      2         3\n2       1         0    0   2.00      1      2  151.5500      2         3\n3       1         0    1  30.00      1      2  151.5500      2         3\n4       1         0    0  25.00      1      2  151.5500      2         3",
      "text/html": "<div>\n<style scoped>\n    .dataframe tbody tr th:only-of-type {\n        vertical-align: middle;\n    }\n\n    .dataframe tbody tr th {\n        vertical-align: top;\n    }\n\n    .dataframe thead th {\n        text-align: right;\n    }\n</style>\n<table border=\"1\" class=\"dataframe\">\n  <thead>\n    <tr style=\"text-align: right;\">\n      <th></th>\n      <th>pclass</th>\n      <th>survived</th>\n      <th>sex</th>\n      <th>age</th>\n      <th>sibsp</th>\n      <th>parch</th>\n      <th>fare</th>\n      <th>cabin</th>\n      <th>embarked</th>\n    </tr>\n  </thead>\n  <tbody>\n    <tr>\n      <th>0</th>\n      <td>1</td>\n      <td>1</td>\n      <td>0</td>\n      <td>29.00</td>\n      <td>0</td>\n      <td>0</td>\n      <td>211.3375</td>\n      <td>1</td>\n      <td>3</td>\n    </tr>\n    <tr>\n      <th>1</th>\n      <td>1</td>\n      <td>1</td>\n      <td>1</td>\n      <td>0.92</td>\n      <td>1</td>\n      <td>2</td>\n      <td>151.5500</td>\n      <td>2</td>\n      <td>3</td>\n    </tr>\n    <tr>\n      <th>2</th>\n      <td>1</td>\n      <td>0</td>\n      <td>0</td>\n      <td>2.00</td>\n      <td>1</td>\n      <td>2</td>\n      <td>151.5500</td>\n      <td>2</td>\n      <td>3</td>\n    </tr>\n    <tr>\n      <th>3</th>\n      <td>1</td>\n      <td>0</td>\n      <td>1</td>\n      <td>30.00</td>\n      <td>1</td>\n      <td>2</td>\n      <td>151.5500</td>\n      <td>2</td>\n      <td>3</td>\n    </tr>\n    <tr>\n      <th>4</th>\n      <td>1</td>\n      <td>0</td>\n      <td>0</td>\n      <td>25.00</td>\n      <td>1</td>\n      <td>2</td>\n      <td>151.5500</td>\n      <td>2</td>\n      <td>3</td>\n    </tr>\n  </tbody>\n</table>\n</div>"
     },
     "metadata": {}
    },
    {
     "output_type": "stream",
     "name": "stdout",
     "text": "\n"
    },
    {
     "output_type": "display_data",
     "data": {
      "text/plain": "   pclass  sex    age      fare  survived\n0       1    0  29.00  211.3375         1\n1       1    1   0.92  151.5500         1\n2       1    0   2.00  151.5500         0\n3       1    1  30.00  151.5500         0\n4       1    0  25.00  151.5500         0",
      "text/html": "<div>\n<style scoped>\n    .dataframe tbody tr th:only-of-type {\n        vertical-align: middle;\n    }\n\n    .dataframe tbody tr th {\n        vertical-align: top;\n    }\n\n    .dataframe thead th {\n        text-align: right;\n    }\n</style>\n<table border=\"1\" class=\"dataframe\">\n  <thead>\n    <tr style=\"text-align: right;\">\n      <th></th>\n      <th>pclass</th>\n      <th>sex</th>\n      <th>age</th>\n      <th>fare</th>\n      <th>survived</th>\n    </tr>\n  </thead>\n  <tbody>\n    <tr>\n      <th>0</th>\n      <td>1</td>\n      <td>0</td>\n      <td>29.00</td>\n      <td>211.3375</td>\n      <td>1</td>\n    </tr>\n    <tr>\n      <th>1</th>\n      <td>1</td>\n      <td>1</td>\n      <td>0.92</td>\n      <td>151.5500</td>\n      <td>1</td>\n    </tr>\n    <tr>\n      <th>2</th>\n      <td>1</td>\n      <td>0</td>\n      <td>2.00</td>\n      <td>151.5500</td>\n      <td>0</td>\n    </tr>\n    <tr>\n      <th>3</th>\n      <td>1</td>\n      <td>1</td>\n      <td>30.00</td>\n      <td>151.5500</td>\n      <td>0</td>\n    </tr>\n    <tr>\n      <th>4</th>\n      <td>1</td>\n      <td>0</td>\n      <td>25.00</td>\n      <td>151.5500</td>\n      <td>0</td>\n    </tr>\n  </tbody>\n</table>\n</div>"
     },
     "metadata": {}
    }
   ],
   "source": [
    "import seaborn as sns\n",
    "import warnings\n",
    "warnings.filterwarnings(\"ignore\", category=FutureWarning)\n",
    "\n",
    "titanic_df = pd.read_csv('titanic3.csv')\n",
    "transform_features(titanic_df)\n",
    "\n",
    "display(titanic_df.head())\n",
    "print()\n",
    "\n",
    "df1 = titanic_df.loc[:, ['pclass','sex','age','fare','survived']]\n",
    "df1.to_pickle('t3_df.pkl')\n",
    "\n",
    "df1 = pd.read_pickle('t3_df.pkl')\n",
    "\n",
    "display(df1.head())"
   ]
  },
  {
   "cell_type": "code",
   "execution_count": 8,
   "metadata": {},
   "outputs": [
    {
     "output_type": "stream",
     "name": "stdout",
     "text": "(1047, 4)\n(262, 4)\n\n-1.1670488020505846e-16\n1.0\n<class 'pandas.core.series.Series'>\n"
    }
   ],
   "source": [
    "from sklearn import preprocessing\n",
    "from sklearn.model_selection import train_test_split\n",
    "\n",
    "# 독립변수, 종속변수 분리\n",
    "X = df1[['pclass', 'sex', 'age', 'fare']]\n",
    "y = df1['survived']\n",
    "\n",
    "# 독립변수 정규화(평균 0, 분산 1인 표준정규분포)\n",
    "X = preprocessing.StandardScaler().fit(X).transform(X)\n",
    "\n",
    "# 학습용 데이터와 평가용 데이터를 8:2로 분리\n",
    "X_train, X_test, y_train, y_test = train_test_split(X, y, test_size=0.2, random_state=10)\n",
    "\n",
    "print(X_train.shape)\n",
    "print(X_test.shape)\n",
    "print()\n",
    "print(X.mean())\n",
    "print(X.std())\n",
    "print(type(y_test))"
   ]
  },
  {
   "cell_type": "code",
   "execution_count": 9,
   "metadata": {},
   "outputs": [
    {
     "output_type": "stream",
     "name": "stdout",
     "text": "[0 0 0 1 0 0 0 1 1 0]\n[1 0 0 1 0 0 0 1 1 0]\ndt 예측 정확도:  0.7748091603053435\n"
    }
   ],
   "source": [
    "# Decision Tree\n",
    "from sklearn.metrics import accuracy_score\n",
    "from sklearn.tree import DecisionTreeClassifier\n",
    "dt_model = DecisionTreeClassifier() # 객체 생성\n",
    "dt_model.fit(X_train, y_train)\n",
    "dt_pred = dt_model.predict(X_test) # 검증용 데이터로 예측\n",
    "\n",
    "print(dt_pred[0:10])\n",
    "print(y_test.values[0:10])\n",
    "\n",
    "accuracy = accuracy_score(y_test, dt_pred)\n",
    "print('dt 예측 정확도: ', accuracy)"
   ]
  },
  {
   "cell_type": "code",
   "execution_count": 10,
   "metadata": {},
   "outputs": [
    {
     "output_type": "stream",
     "name": "stdout",
     "text": "rf 예측 정확도:  0.8053435114503816\n"
    }
   ],
   "source": [
    "# Random Forest (투표를 해가며 결정해가는 방법)\n",
    "from sklearn.ensemble import RandomForestClassifier # (분류기)\n",
    "\n",
    "rf_model = RandomForestClassifier() # 객체 생성\n",
    "rf_model.fit(X_train, y_train) # 학습을 시킨다. (트레이닝 데이터를 이용)\n",
    "rf_pred = rf_model.predict(X_test) # 학습시킨 모델을 통해 예측한다. (검증용 데이터로)\n",
    "\n",
    "rf_accuracy = accuracy_score(y_test, rf_pred) # 예측한 것과 실제 y값으로 비교해서 예측 정확도를 구한다.\n",
    "print('rf 예측 정확도: ', rf_accuracy)"
   ]
  },
  {
   "cell_type": "code",
   "execution_count": 11,
   "metadata": {},
   "outputs": [
    {
     "output_type": "stream",
     "name": "stdout",
     "text": "lr 예측 정확도:  0.7557251908396947\n"
    }
   ],
   "source": [
    "# Logistic Regression\n",
    "from sklearn.linear_model import LogisticRegression\n",
    "lr_model = LogisticRegression()\n",
    "lr_model.fit(X_train, y_train)\n",
    "lr_pred = lr_model.predict(X_test)\n",
    "\n",
    "lr_accuracy = accuracy_score(y_test, lr_pred)\n",
    "print('lr 예측 정확도: ', lr_accuracy)"
   ]
  },
  {
   "cell_type": "code",
   "execution_count": 12,
   "metadata": {},
   "outputs": [
    {
     "output_type": "stream",
     "name": "stdout",
     "text": "교차 검증 0정확도: 0.7710\n교차 검증 1정확도: 0.8473\n교차 검증 2정확도: 0.7405\n교차 검증 3정확도: 0.6947\n교차 검증 4정확도: 0.7816\n평균 정확도:  0.7670\n"
    }
   ],
   "source": [
    "# 독립변수, 종속변수 분리\n",
    "t_df = pd.read_pickle('t_df.pkl')\n",
    "\n",
    "y_df = t_df.survived\n",
    "X_df = t_df.drop('survived', axis=1)\n",
    "\n",
    "# 학습용 평가용 데이터 분리\n",
    "X_train, X_test, y_train, y_test = train_test_split(X_df, y_df, test_size=0.2, random_state=11)\n",
    "\n",
    "# 분류기 객체 생성\n",
    "# dt_clf = DecisionTreeClassifier(random_state=11)\n",
    "rf_clf = RandomForestClassifier(random_state=11)\n",
    "# lr_clf = LogisticRegression(random_state=11)\n",
    "\n",
    "from sklearn.model_selection import KFold\n",
    "\n",
    "# KFold 교차 검증 수행()\n",
    "# K개의 데이터 폴드 세트를 만들어서 K번 만큼 각 폴드 세트에\n",
    "# 학습과 검증 평가를 반복, K가 5이면 5번 평가를 평균한 결과로 예측 성능 검증\n",
    "# 예측 성능 평가\n",
    "def exec_kfold(clf, folds=5):      # clf는 클래시파이어, folds는 k의 개수\n",
    "    kfold = KFold(n_splits=folds)  # n_splits = folds\n",
    "    scores = []                    # 만들어서 저장하는 공간( foltset 설정하는 단계 )\n",
    "    \n",
    "    for iter_count, (train_index, test_index) \\\n",
    "    in enumerate(kfold.split(X_df)):            # enumerate 해서 독립변수 쪽의 5개를 하나씩 작업해준다.\n",
    "        X_train, X_test = X_df.values[train_index], X_df.values[test_index]\n",
    "        y_train, y_test = y_df.values[train_index], y_df.values[test_index]\n",
    "        \n",
    "        clf.fit(X_train, y_train)                    # 반복학습 ( 이 작업들을 각 fold마다 진행 )\n",
    "        predictions = clf.predict(X_test)            # 예측값 삽입 \n",
    "        accuracy = accuracy_score(y_test, predictions) # 각 폴드마다 한 것을 append 해준다.\n",
    "        scores.append(accuracy)                      # 5개에 대한 정확도를 출력\n",
    "        print('교차 검증 {0}정확도: {1:.4f}'.format(iter_count, accuracy))\n",
    "        # print('검증 세트 인덱스: {1}'.format(iter_count, test_index))\n",
    "        \n",
    "    mean_score = np.mean(scores)                   # mean_score로 평균을 구해준다.(5개 결과를 저장한 scores를 호출하여)\n",
    "    print('평균 정확도: {0: .4f}'.format(mean_score))\n",
    "        \n",
    "exec_kfold(rf_clf, folds=5) "
   ]
  },
  {
   "cell_type": "code",
   "execution_count": 14,
   "metadata": {},
   "outputs": [
    {
     "output_type": "display_data",
     "data": {
      "text/plain": "GridSearchCV(cv=5, error_score=nan,\n             estimator=RandomForestClassifier(bootstrap=True, ccp_alpha=0.0,\n                                              class_weight=None,\n                                              criterion='gini', max_depth=None,\n                                              max_features='auto',\n                                              max_leaf_nodes=None,\n                                              max_samples=None,\n                                              min_impurity_decrease=0.0,\n                                              min_impurity_split=None,\n                                              min_samples_leaf=1,\n                                              min_samples_split=2,\n                                              min_weight_fraction_leaf=0.0,\n                                              n_estimators=100, n_jobs=None,\n                                              oob_score=False, random_state=11,\n                                              verbose=0, warm_start=False),\n             iid='deprecated', n_jobs=None,\n             param_grid={'max_depth': [2, 3, 5], 'min_samples_leaf': [1, 5, 8],\n                         'n_estimators': [50, 100, 200]},\n             pre_dispatch='2*n_jobs', refit=True, return_train_score=False,\n             scoring='accuracy', verbose=0)"
     },
     "metadata": {}
    },
    {
     "output_type": "stream",
     "name": "stdout",
     "text": "GridSearchCV 최적 하이퍼 파라미터: {'max_depth': 5, 'min_samples_leaf': 1, 'n_estimators': 200}\nGridSearchCV 최고 정확도: 0.8042105263157895\n"
    },
    {
     "output_type": "display_data",
     "data": {
      "text/plain": "RandomForestClassifier(bootstrap=True, ccp_alpha=0.0, class_weight=None,\n                       criterion='gini', max_depth=5, max_features='auto',\n                       max_leaf_nodes=None, max_samples=None,\n                       min_impurity_decrease=0.0, min_impurity_split=None,\n                       min_samples_leaf=1, min_samples_split=2,\n                       min_weight_fraction_leaf=0.0, n_estimators=200,\n                       n_jobs=None, oob_score=False, random_state=11, verbose=0,\n                       warm_start=False)"
     },
     "metadata": {}
    },
    {
     "output_type": "stream",
     "name": "stdout",
     "text": "GSCV 예측 정확도 :  0.7977099236641222\n오차 행렬\n[[147   9]\n [ 44  62]]\n\n정확도: 0.7977, 정밀도: 0.8732, 재현율: 0.5849, F1: 0.7006\n"
    }
   ],
   "source": [
    "# GridSearchCV : 파라미터를 통해 성능을 튜닝. (타이타닉 생존률을 해결하기 위해 필요한 작업)\n",
    "from sklearn.model_selection import GridSearchCV\n",
    "from sklearn.metrics import accuracy_score, precision_score, recall_score, confusion_matrix, f1_score\n",
    "from xgboost import XGBClassifier\n",
    "\n",
    "parameters = {'n_estimators':[50,100,200],'max_depth':[2,3,5],'min_samples_leaf':[1,5,8]}\n",
    "\n",
    "# x_model = XGBClassifier()\n",
    "# x_model.fit(X_train, y_train)\n",
    "# x_pred = x_model.predict(X_test)\n",
    "\n",
    "# parameters={'booster' :['gbtree'],\n",
    "#                  'silent':[True],\n",
    "#                  'max_depth':[5,6,8],\n",
    "#                  'min_child_weight':[1,3,5],\n",
    "#                  'gamma':[0,1,2,3],\n",
    "#                  'nthread':[4],\n",
    "#                  'colsample_bytree':[0.5,0.8],\n",
    "#                  'colsample_bylevel':[0.9],\n",
    "#                  'n_estimators':[50],\n",
    "#                  'objective':['binary:logistic'],\n",
    "#                  'random_state':[2]}\n",
    "\n",
    "cv = KFold(n_splits=6, random_state=1)\n",
    "\n",
    "grid_dclf = GridSearchCV(rf_clf, param_grid=parameters, scoring='accuracy', cv=5, refit=True) \n",
    "\n",
    "display(grid_dclf)\n",
    "grid_dclf.fit(X_train.values, y_train.values) \n",
    "\n",
    "print('GridSearchCV 최적 하이퍼 파라미터:', grid_dclf.best_params_) \n",
    "\n",
    "print('GridSearchCV 최고 정확도:', grid_dclf.best_score_) \n",
    "\n",
    "# final_params{'booster': ['gbtree'], 'colsample_bylevel': [0.9], 'colsample_bytree': [0.8], 'gamma': [0], 'max_depth': [5], 'min_child_weight': [3], 'n_estimators': [50], 'nthread': [4], 'objective': ['binary:logistic'], 'random_state': [2], 'silent': [True]}\n",
    "\n",
    "\n",
    "best_dclf = grid_dclf.best_estimator_\n",
    "display(best_dclf)\n",
    "dpredictions = best_dclf.predict(X_test)\n",
    "accuracy = accuracy_score(y_test, dpredictions)\n",
    "print('GSCV 예측 정확도 : ', accuracy)\n",
    "\n",
    "from sklearn.metrics import accuracy_score, precision_score, recall_score, confusion_matrix, f1_score\n",
    "\n",
    "def get_clf_eval(y_test, s_pred):\n",
    "    confusion = confusion_matrix(y_test, s_pred)\n",
    "    accuracy = accuracy_score(y_test, s_pred)\n",
    "    precision = precision_score(y_test, s_pred)\n",
    "    recall = recall_score(y_test, s_pred)\n",
    "    f1 = f1_score(y_test, s_pred)\n",
    "    print('오차 행렬')\n",
    "    print(confusion)\n",
    "    print()\n",
    "    print('정확도: {0:.4f}, 정밀도: {1:.4f}, 재현율: {2:.4f}, F1: {3:.4f}'.format(accuracy, precision, recall, f1))\n",
    "\n",
    "get_clf_eval(y_test, dpredictions)"
   ]
  },
  {
   "cell_type": "code",
   "execution_count": null,
   "metadata": {},
   "outputs": [],
   "source": []
  }
 ],
 "metadata": {
  "kernelspec": {
   "display_name": "Python 3",
   "language": "python",
   "name": "python3"
  },
  "language_info": {
   "codemirror_mode": {
    "name": "ipython",
    "version": 3
   },
   "file_extension": ".py",
   "mimetype": "text/x-python",
   "name": "python",
   "nbconvert_exporter": "python",
   "pygments_lexer": "ipython3",
   "version": "3.7.6-final"
  }
 },
 "nbformat": 4,
 "nbformat_minor": 2
}